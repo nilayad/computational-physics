{
 "cells": [
  {
   "cell_type": "code",
   "execution_count": 11,
   "id": "e47c9670-75f2-4d78-94b5-4101d9507f92",
   "metadata": {
    "tags": []
   },
   "outputs": [
    {
     "name": "stdin",
     "output_type": "stream",
     "text": [
      "enter the decimal number 500\n"
     ]
    },
    {
     "name": "stdout",
     "output_type": "stream",
     "text": [
      "the list of prime numbers between 2 and 500  are [2, 3, 5, 7, 11, 13, 17, 19, 23, 29, 31, 37, 41, 43, 47, 53, 59, 61, 67, 71, 73, 79, 83, 89, 97, 101, 103, 107, 109, 113, 127, 131, 137, 139, 149, 151, 157, 163, 167, 173, 179, 181, 191, 193, 197, 199, 211, 223, 227, 229, 233, 239, 241, 251, 257, 263, 269, 271, 277, 281, 283, 293, 307, 311, 313, 317, 331, 337, 347, 349, 353, 359, 367, 373, 379, 383, 389, 397, 401, 409, 419, 421, 431, 433, 439, 443, 449, 457, 461, 463, 467, 479, 487, 491, 499]\n"
     ]
    }
   ],
   "source": [
    "n = int(input('enter the decimal number'))\n",
    "a = list(range(2,n+1))\n",
    "\n",
    "for i in a:\n",
    "          \n",
    "    for m in a :\n",
    "        if m>i :\n",
    "       \n",
    "            if (m%i ==0):\n",
    "                a.remove(m)\n",
    "                \n",
    "#a.insert(0,2)\n",
    "print ('the list of prime numbers between 2 and', n,' are', a)\n"
   ]
  },
  {
   "cell_type": "code",
   "execution_count": 27,
   "id": "ec2d14f6-3989-4102-bff2-cf9a1e9c328c",
   "metadata": {
    "tags": []
   },
   "outputs": [],
   "source": [
    "def fak(n):\n",
    "    fractional_part, integer_part = math.modf(number)\n",
    "    facn = 1\n",
    "    for i in range (1,n+1):\n",
    "        facn *= i\n",
    "    return facn"
   ]
  },
  {
   "cell_type": "code",
   "execution_count": 2,
   "id": "8687b4c8-2b65-491e-8160-b922fd3a9496",
   "metadata": {
    "tags": []
   },
   "outputs": [],
   "source": [
    "import math\n",
    "def fak2(n):\n",
    "    fractional_part, integer_part = math.modf(n)\n",
    "    facn = 1\n",
    "    for i in range (1, int(integer_part+1)):\n",
    "        facn *= (integer_part-i+2)\n",
    "    if (fractional_part != 0 ):\n",
    "        facn = facn *(math.gamma(fractional_part))\n",
    "    return facn"
   ]
  },
  {
   "cell_type": "code",
   "execution_count": 29,
   "id": "76dfbb24-e69c-4699-abd4-d87fde18b185",
   "metadata": {
    "tags": []
   },
   "outputs": [
    {
     "data": {
      "text/plain": [
       "inf"
      ]
     },
     "execution_count": 29,
     "metadata": {},
     "output_type": "execute_result"
    }
   ],
   "source": [
    "f2 = fak2(170)\n",
    "f2"
   ]
  },
  {
   "cell_type": "code",
   "execution_count": 30,
   "id": "daa803f0-2d2d-4951-931d-4a8f5c7a487d",
   "metadata": {
    "tags": []
   },
   "outputs": [
    {
     "data": {
      "text/plain": [
       "7.257415615308004e+306"
      ]
     },
     "execution_count": 30,
     "metadata": {},
     "output_type": "execute_result"
    }
   ],
   "source": [
    "f2 = fak2(169)\n",
    "f2"
   ]
  },
  {
   "cell_type": "code",
   "execution_count": 83,
   "id": "14bc2763-4cc5-4e0e-9bc4-6593dc1205b2",
   "metadata": {
    "tags": []
   },
   "outputs": [
    {
     "data": {
      "text/plain": [
       "362880"
      ]
     },
     "execution_count": 83,
     "metadata": {},
     "output_type": "execute_result"
    }
   ],
   "source": [
    "fn = fak(9)\n",
    "fn"
   ]
  },
  {
   "cell_type": "code",
   "execution_count": 89,
   "id": "923c7755-20e1-4b2a-aba3-25394e169ac8",
   "metadata": {
    "tags": []
   },
   "outputs": [
    {
     "data": {
      "text/plain": [
       "199094.62641868833"
      ]
     },
     "execution_count": 89,
     "metadata": {},
     "output_type": "execute_result"
    }
   ],
   "source": [
    "231791.87991967567/(math.gamma(0.8))"
   ]
  },
  {
   "cell_type": "code",
   "execution_count": 143,
   "id": "4fab726e-719c-474f-a18e-766273ea8451",
   "metadata": {
    "tags": []
   },
   "outputs": [
    {
     "data": {
      "text/plain": [
       "1.7724538509055159"
      ]
     },
     "execution_count": 143,
     "metadata": {},
     "output_type": "execute_result"
    }
   ],
   "source": [
    "math.gamma(0.5)"
   ]
  },
  {
   "cell_type": "code",
   "execution_count": 53,
   "id": "a0cdc5a7-e6f8-486e-839c-c3cabba59c5f",
   "metadata": {
    "tags": []
   },
   "outputs": [
    {
     "data": {
      "text/plain": [
       "0.0"
      ]
     },
     "execution_count": 53,
     "metadata": {},
     "output_type": "execute_result"
    }
   ],
   "source": [
    "n=0.5\n",
    "fractional_part, integer_part = math.modf(n)\n",
    "integer_part"
   ]
  },
  {
   "cell_type": "code",
   "execution_count": 130,
   "id": "fa11ea73-0d7b-4b35-9275-7a574a60070f",
   "metadata": {
    "tags": []
   },
   "outputs": [
    {
     "name": "stdin",
     "output_type": "stream",
     "text": [
      "enter the decimal number 3.5\n"
     ]
    },
    {
     "name": "stdout",
     "output_type": "stream",
     "text": [
      "11.631728396567446\n"
     ]
    }
   ],
   "source": [
    "n = float(input('enter the decimal number'))\n",
    "\n",
    "factn = math.gamma(n+1)\n",
    "print (factn)"
   ]
  },
  {
   "cell_type": "code",
   "execution_count": null,
   "id": "ca18457f-4910-4f84-85ce-c9c0b28b0691",
   "metadata": {},
   "outputs": [],
   "source": []
  },
  {
   "cell_type": "code",
   "execution_count": 162,
   "id": "ddb96a86-f9cc-424b-aa30-5d473dfac288",
   "metadata": {
    "tags": []
   },
   "outputs": [
    {
     "name": "stdout",
     "output_type": "stream",
     "text": [
      "100\n",
      "2.19591\n",
      " -0.0228203\n",
      "\n"
     ]
    }
   ],
   "source": [
    "f = open(\"numbers.dat\")\n",
    "z = f.readlines()\n",
    "print(len(z))\n",
    "print(max(z), min(z))"
   ]
  },
  {
   "cell_type": "code",
   "execution_count": null,
   "id": "b4690be9-448f-49ae-b84c-da55703b8fc3",
   "metadata": {},
   "outputs": [],
   "source": []
  },
  {
   "cell_type": "code",
   "execution_count": 149,
   "id": "08650d31-1f4d-40a9-a444-4ce64cbfff7a",
   "metadata": {
    "tags": []
   },
   "outputs": [
    {
     "ename": "TypeError",
     "evalue": "float() argument must be a string or a real number, not 'list'",
     "output_type": "error",
     "traceback": [
      "\u001b[0;31m---------------------------------------------------------------------------\u001b[0m",
      "\u001b[0;31mTypeError\u001b[0m                                 Traceback (most recent call last)",
      "Cell \u001b[0;32mIn[149], line 1\u001b[0m\n\u001b[0;32m----> 1\u001b[0m b \u001b[38;5;241m=\u001b[39m \u001b[38;5;28;43mfloat\u001b[39;49m\u001b[43m(\u001b[49m\u001b[43mz\u001b[49m\u001b[43m)\u001b[49m\n",
      "\u001b[0;31mTypeError\u001b[0m: float() argument must be a string or a real number, not 'list'"
     ]
    }
   ],
   "source": [
    "b = float(z)"
   ]
  },
  {
   "cell_type": "code",
   "execution_count": 160,
   "id": "3b4d8d92-dc3d-4af3-86ac-4261f47ecbc6",
   "metadata": {
    "tags": []
   },
   "outputs": [
    {
     "name": "stdout",
     "output_type": "stream",
     "text": [
      "2.19591\n",
      " -0.0228203\n",
      "\n"
     ]
    }
   ],
   "source": [
    "print(max(z), min(z))"
   ]
  },
  {
   "cell_type": "code",
   "execution_count": 32,
   "id": "7a3d0170-1f63-4e72-8763-9102a2eaaf9f",
   "metadata": {
    "tags": []
   },
   "outputs": [
    {
     "data": {
      "text/plain": [
       "1.7976931348623157e+308"
      ]
     },
     "execution_count": 32,
     "metadata": {},
     "output_type": "execute_result"
    }
   ],
   "source": [
    "import sys\n",
    "sys.float_info.max"
   ]
  }
 ],
 "metadata": {
  "kernelspec": {
   "display_name": "Python 3 (ipykernel)",
   "language": "python",
   "name": "python3"
  },
  "language_info": {
   "codemirror_mode": {
    "name": "ipython",
    "version": 3
   },
   "file_extension": ".py",
   "mimetype": "text/x-python",
   "name": "python",
   "nbconvert_exporter": "python",
   "pygments_lexer": "ipython3",
   "version": "3.12.7"
  }
 },
 "nbformat": 4,
 "nbformat_minor": 5
}
