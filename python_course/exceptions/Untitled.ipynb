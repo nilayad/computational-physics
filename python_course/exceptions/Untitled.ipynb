{
 "cells": [
  {
   "cell_type": "code",
   "execution_count": 1,
   "id": "b89e5b69-f793-456d-b630-8a2e7591e922",
   "metadata": {
    "tags": []
   },
   "outputs": [],
   "source": [
    "import math"
   ]
  },
  {
   "cell_type": "code",
   "execution_count": 19,
   "id": "a500d018-53f7-4017-8100-71c7c8f7caea",
   "metadata": {
    "tags": []
   },
   "outputs": [],
   "source": [
    "def root(a,b,c):\n",
    "    disc = (b**2)-(4*a*c)\n",
    "    return  (  (-b - math.sqrt(disc)) / (2*a),  (-b + math.sqrt(disc)) / (2*a) )"
   ]
  },
  {
   "cell_type": "code",
   "execution_count": null,
   "id": "818b00c9-ecd4-4161-a1a4-0cd9ae7e586d",
   "metadata": {
    "tags": []
   },
   "outputs": [],
   "source": [
    "import random\n",
    "r = []\n",
    "for i in range(100):\n",
    "    u = [ random.gauss(1,10), random.gauss(-2,-6), random.gauss(2,6)]\n",
    "    r.append(u)\n",
    "\n",
    "r.append([1,-4,4])\n",
    "verror=[]\n",
    "Aerror = []\n",
    "roots =[]\n",
    "for i in r:\n",
    "    try:\n",
    "        #print(root(*i))\n",
    "        t = (r.index(i), root(*i))\n",
    "        roots.append(t)\n",
    "    except ValueError as x :\n",
    "        #print (\"disc cant be less than zero::.\", x)\n",
    "        t=(r.index(i))\n",
    "        verror.append(t)\n",
    "    except ArithmeticError as x:\n",
    "        #print(\"A cannot be zero::\", x)\n",
    "        t=(r.index(i),x)\n",
    "        Aerror.append(t)\n",
    "        \n",
    "print('roots found for :', roots )\n",
    "print('___________________________________')\n",
    "print('valueerror for index in n:',verror)\n",
    "print('___________________________________')\n",
    "print('arithmatic error for index in n :', Aerror)"
   ]
  },
  {
   "cell_type": "code",
   "execution_count": null,
   "id": "973be8ab-4928-4be5-b842-3793658155fa",
   "metadata": {},
   "outputs": [],
   "source": []
  },
  {
   "cell_type": "code",
   "execution_count": null,
   "id": "dfd4a0b3-404f-40e9-86d3-6dac157b3e26",
   "metadata": {
    "tags": []
   },
   "outputs": [],
   "source": [
    "a = 10000\n",
    "while b < 100000:\n",
    "    b = a*9\n",
    "    \n",
    "    if (len(set(str(a)))==5):\n",
    "        if (len(set(str(b)))==5):\n",
    "            print(a,b)\n",
    "            \n",
    "    a+=1"
   ]
  },
  {
   "cell_type": "code",
   "execution_count": 150,
   "id": "37eea47e-fc6b-42b9-9282-e30394decd81",
   "metadata": {
    "tags": []
   },
   "outputs": [
    {
     "data": {
      "text/plain": [
       "11111.0"
      ]
     },
     "execution_count": 150,
     "metadata": {},
     "output_type": "execute_result"
    }
   ],
   "source": [
    "99999/9"
   ]
  },
  {
   "cell_type": "code",
   "execution_count": null,
   "id": "f139ba28-3511-441c-a212-6df9af4af4eb",
   "metadata": {},
   "outputs": [],
   "source": []
  },
  {
   "cell_type": "code",
   "execution_count": null,
   "id": "1aaa504e-0a40-4812-a21f-1fa6cf78c1fe",
   "metadata": {},
   "outputs": [],
   "source": []
  },
  {
   "cell_type": "code",
   "execution_count": null,
   "id": "0be27add-8b64-4e5d-8580-695bdbf75fb7",
   "metadata": {},
   "outputs": [],
   "source": []
  },
  {
   "cell_type": "code",
   "execution_count": 37,
   "id": "2b1c9c0c-ecdf-4a7f-a933-e29a95ea9740",
   "metadata": {
    "tags": []
   },
   "outputs": [
    {
     "data": {
      "text/plain": [
       "103"
      ]
     },
     "execution_count": 37,
     "metadata": {},
     "output_type": "execute_result"
    }
   ],
   "source": [
    "import random\n",
    "for i in range(100):\n",
    "    u = [ random.gauss(1,10), random.gauss(-2,-6), random.gauss(2,6)]\n",
    "    n.append(u)\n",
    "len(n)"
   ]
  },
  {
   "cell_type": "code",
   "execution_count": 90,
   "id": "22fb7cda-abef-4fc8-ba8e-5d4fb8f9aa79",
   "metadata": {
    "tags": []
   },
   "outputs": [
    {
     "data": {
      "text/plain": [
       "[1, -4, 4]"
      ]
     },
     "execution_count": 90,
     "metadata": {},
     "output_type": "execute_result"
    }
   ],
   "source": [
    "r[-1]"
   ]
  },
  {
   "cell_type": "code",
   "execution_count": 114,
   "id": "d3e09d93-6ebe-4826-8af2-f980da0824a6",
   "metadata": {
    "tags": []
   },
   "outputs": [],
   "source": [
    "import random\n",
    "n =[]\n",
    "for i in range(100):\n",
    "    \n",
    "    u =  float(random.gauss(0.005,200))\n",
    "    n.append(u)"
   ]
  },
  {
   "cell_type": "code",
   "execution_count": 132,
   "id": "8332660b-ad9d-4b34-80b3-8336e9a19cb0",
   "metadata": {
    "tags": []
   },
   "outputs": [],
   "source": [
    "n = list(range(200))"
   ]
  },
  {
   "cell_type": "code",
   "execution_count": null,
   "id": "16feae2e-dc36-4c9b-936f-8c9746e53860",
   "metadata": {
    "tags": []
   },
   "outputs": [],
   "source": [
    "import sys\n",
    "import math\n",
    "p = list(range(200))\n",
    "\n",
    "\n",
    "import random\n",
    "n =[]\n",
    "for i in range(100):\n",
    "    \n",
    "    u =  float(random.gauss(0.005,200))\n",
    "    n.append(u)\n",
    "    \n",
    "    \n",
    "def fak(n):\n",
    "    #n = float(input('enter the decimal number'))\n",
    "    lim = sys.float_info.max\n",
    "    try:\n",
    "        factn = math.gamma(n+1)\n",
    "        return factn\n",
    "    except OverflowError as x:\n",
    "        a = x\n",
    "        return a\n",
    "        \n",
    "           \n",
    "    \n",
    "\n",
    "\n",
    "fac=[]\n",
    "for g in n :\n",
    "    t =[g,fak(g)]\n",
    "    fac.append(t)\n",
    "    \n",
    "print('for value g the factorial is ', fac)\n",
    "\n",
    "    "
   ]
  },
  {
   "cell_type": "code",
   "execution_count": null,
   "id": "ba0ad37b-9300-42c1-95ad-60a0efe24740",
   "metadata": {},
   "outputs": [],
   "source": []
  },
  {
   "cell_type": "code",
   "execution_count": 134,
   "id": "62fbd460-b6e2-422a-819a-335f52b141f0",
   "metadata": {
    "tags": []
   },
   "outputs": [],
   "source": [
    "import urllib.request\n",
    "f=urllib.request.urlopen(\"http://www-static.etp.physik.uni-muenchen.de/kurs/Computing/python/source/vorwahl.txt\")\n",
    "z = [ x.decode(\"iso-8859-1\") for x in f.readlines()]"
   ]
  },
  {
   "cell_type": "code",
   "execution_count": 225,
   "id": "4a840fdc-53c6-4021-8283-994142d788fe",
   "metadata": {
    "tags": []
   },
   "outputs": [],
   "source": [
    "ort  = {}\n",
    "s = []\n",
    "for zeil in z:\n",
    "    pin,loc = zeil.split(None,1)\n",
    "    loc = loc.strip()  \n",
    "    pin = pin.strip() \n",
    "    if pin in ort:\n",
    "        ort[pin] += ',' + loc\n",
    "    else:\n",
    "        ort[pin] = loc\n",
    "\n",
    "\n",
    "    \n",
    "\n",
    "    "
   ]
  },
  {
   "cell_type": "code",
   "execution_count": 204,
   "id": "4c16bdca-1b37-4796-81ac-a314209ec4d4",
   "metadata": {
    "tags": []
   },
   "outputs": [
    {
     "data": {
      "text/plain": [
       "5198"
      ]
     },
     "execution_count": 204,
     "metadata": {},
     "output_type": "execute_result"
    }
   ],
   "source": [
    "while True:\n",
    "    try:\n",
    "        what = int(input('what do you have? pin = 1 or loc = 0'))\n",
    "        break\n",
    "    except:\n",
    "        print('please select 1 or 0')\n",
    "\n",
    "if what ==0 :\n",
    "    kno = str(input('pin to what location?')\n",
    "    "
   ]
  },
  {
   "cell_type": "code",
   "execution_count": 1,
   "id": "f09da921-977e-47d6-b0cd-b545d22cd9fc",
   "metadata": {
    "tags": []
   },
   "outputs": [
    {
     "data": {
      "text/plain": [
       "[2,\n",
       " 3,\n",
       " 5,\n",
       " 7,\n",
       " 11,\n",
       " 13,\n",
       " 17,\n",
       " 19,\n",
       " 23,\n",
       " 29,\n",
       " 31,\n",
       " 37,\n",
       " 41,\n",
       " 43,\n",
       " 47,\n",
       " 53,\n",
       " 59,\n",
       " 61,\n",
       " 67,\n",
       " 71,\n",
       " 73,\n",
       " 79,\n",
       " 83,\n",
       " 89,\n",
       " 97]"
      ]
     },
     "execution_count": 1,
     "metadata": {},
     "output_type": "execute_result"
    }
   ],
   "source": [
    "[ x for x in range(2,101) if all(x % y != 0 for y in range(2, x)) ]"
   ]
  },
  {
   "cell_type": "code",
   "execution_count": 241,
   "id": "0baa7e25-0550-4da4-987b-d12b28a2fe03",
   "metadata": {
    "tags": []
   },
   "outputs": [
    {
     "ename": "AttributeError",
     "evalue": "'dict' object has no attribute 'getitem'",
     "output_type": "error",
     "traceback": [
      "\u001b[0;31m---------------------------------------------------------------------------\u001b[0m",
      "\u001b[0;31mAttributeError\u001b[0m                            Traceback (most recent call last)",
      "Cell \u001b[0;32mIn[241], line 1\u001b[0m\n\u001b[0;32m----> 1\u001b[0m \u001b[43mort\u001b[49m\u001b[38;5;241;43m.\u001b[39;49m\u001b[43mgetitem\u001b[49m(stuttgart)\n",
      "\u001b[0;31mAttributeError\u001b[0m: 'dict' object has no attribute 'getitem'"
     ]
    }
   ],
   "source": [
    "ort.getitem(stuttgart)"
   ]
  },
  {
   "cell_type": "code",
   "execution_count": 240,
   "id": "cff6629c-bcd1-4be5-90e0-862c89a29872",
   "metadata": {
    "tags": []
   },
   "outputs": [
    {
     "name": "stdout",
     "output_type": "stream",
     "text": [
      "Help on dict object:\n",
      "\n",
      "class dict(object)\n",
      " |  dict() -> new empty dictionary\n",
      " |  dict(mapping) -> new dictionary initialized from a mapping object's\n",
      " |      (key, value) pairs\n",
      " |  dict(iterable) -> new dictionary initialized as if via:\n",
      " |      d = {}\n",
      " |      for k, v in iterable:\n",
      " |          d[k] = v\n",
      " |  dict(**kwargs) -> new dictionary initialized with the name=value pairs\n",
      " |      in the keyword argument list.  For example:  dict(one=1, two=2)\n",
      " |  \n",
      " |  Built-in subclasses:\n",
      " |      StgDict\n",
      " |  \n",
      " |  Methods defined here:\n",
      " |  \n",
      " |  __contains__(self, key, /)\n",
      " |      True if the dictionary has the specified key, else False.\n",
      " |  \n",
      " |  __delitem__(self, key, /)\n",
      " |      Delete self[key].\n",
      " |  \n",
      " |  __eq__(self, value, /)\n",
      " |      Return self==value.\n",
      " |  \n",
      " |  __ge__(self, value, /)\n",
      " |      Return self>=value.\n",
      " |  \n",
      " |  __getattribute__(self, name, /)\n",
      " |      Return getattr(self, name).\n",
      " |  \n",
      " |  __getitem__(...)\n",
      " |      x.__getitem__(y) <==> x[y]\n",
      " |  \n",
      " |  __gt__(self, value, /)\n",
      " |      Return self>value.\n",
      " |  \n",
      " |  __init__(self, /, *args, **kwargs)\n",
      " |      Initialize self.  See help(type(self)) for accurate signature.\n",
      " |  \n",
      " |  __ior__(self, value, /)\n",
      " |      Return self|=value.\n",
      " |  \n",
      " |  __iter__(self, /)\n",
      " |      Implement iter(self).\n",
      " |  \n",
      " |  __le__(self, value, /)\n",
      " |      Return self<=value.\n",
      " |  \n",
      " |  __len__(self, /)\n",
      " |      Return len(self).\n",
      " |  \n",
      " |  __lt__(self, value, /)\n",
      " |      Return self<value.\n",
      " |  \n",
      " |  __ne__(self, value, /)\n",
      " |      Return self!=value.\n",
      " |  \n",
      " |  __or__(self, value, /)\n",
      " |      Return self|value.\n",
      " |  \n",
      " |  __repr__(self, /)\n",
      " |      Return repr(self).\n",
      " |  \n",
      " |  __reversed__(self, /)\n",
      " |      Return a reverse iterator over the dict keys.\n",
      " |  \n",
      " |  __ror__(self, value, /)\n",
      " |      Return value|self.\n",
      " |  \n",
      " |  __setitem__(self, key, value, /)\n",
      " |      Set self[key] to value.\n",
      " |  \n",
      " |  __sizeof__(...)\n",
      " |      D.__sizeof__() -> size of D in memory, in bytes\n",
      " |  \n",
      " |  clear(...)\n",
      " |      D.clear() -> None.  Remove all items from D.\n",
      " |  \n",
      " |  copy(...)\n",
      " |      D.copy() -> a shallow copy of D\n",
      " |  \n",
      " |  get(self, key, default=None, /)\n",
      " |      Return the value for key if key is in the dictionary, else default.\n",
      " |  \n",
      " |  items(...)\n",
      " |      D.items() -> a set-like object providing a view on D's items\n",
      " |  \n",
      " |  keys(...)\n",
      " |      D.keys() -> a set-like object providing a view on D's keys\n",
      " |  \n",
      " |  pop(...)\n",
      " |      D.pop(k[,d]) -> v, remove specified key and return the corresponding value.\n",
      " |      \n",
      " |      If the key is not found, return the default if given; otherwise,\n",
      " |      raise a KeyError.\n",
      " |  \n",
      " |  popitem(self, /)\n",
      " |      Remove and return a (key, value) pair as a 2-tuple.\n",
      " |      \n",
      " |      Pairs are returned in LIFO (last-in, first-out) order.\n",
      " |      Raises KeyError if the dict is empty.\n",
      " |  \n",
      " |  setdefault(self, key, default=None, /)\n",
      " |      Insert key with a value of default if key is not in the dictionary.\n",
      " |      \n",
      " |      Return the value for key if key is in the dictionary, else default.\n",
      " |  \n",
      " |  update(...)\n",
      " |      D.update([E, ]**F) -> None.  Update D from dict/iterable E and F.\n",
      " |      If E is present and has a .keys() method, then does:  for k in E: D[k] = E[k]\n",
      " |      If E is present and lacks a .keys() method, then does:  for k, v in E: D[k] = v\n",
      " |      In either case, this is followed by: for k in F:  D[k] = F[k]\n",
      " |  \n",
      " |  values(...)\n",
      " |      D.values() -> an object providing a view on D's values\n",
      " |  \n",
      " |  ----------------------------------------------------------------------\n",
      " |  Class methods defined here:\n",
      " |  \n",
      " |  __class_getitem__(...) from builtins.type\n",
      " |      See PEP 585\n",
      " |  \n",
      " |  fromkeys(iterable, value=None, /) from builtins.type\n",
      " |      Create a new dictionary with keys from iterable and values set to value.\n",
      " |  \n",
      " |  ----------------------------------------------------------------------\n",
      " |  Static methods defined here:\n",
      " |  \n",
      " |  __new__(*args, **kwargs) from builtins.type\n",
      " |      Create and return a new object.  See help(type) for accurate signature.\n",
      " |  \n",
      " |  ----------------------------------------------------------------------\n",
      " |  Data and other attributes defined here:\n",
      " |  \n",
      " |  __hash__ = None\n",
      "\n"
     ]
    }
   ],
   "source": [
    "help(ort)"
   ]
  },
  {
   "cell_type": "code",
   "execution_count": 213,
   "id": "6ffcd7ef-ecf8-4236-a48f-830d26e5d7d5",
   "metadata": {
    "tags": []
   },
   "outputs": [
    {
     "name": "stdout",
     "output_type": "stream",
     "text": [
      "0\n",
      "<generator object <genexpr> at 0x7f8134b4c110>\n",
      "1\n",
      "<generator object <genexpr> at 0x7f8134b4c110>\n",
      "4\n",
      "<generator object <genexpr> at 0x7f8134b4c110>\n"
     ]
    }
   ],
   "source": [
    "mygenerator = (x*x for x in range(3))\n",
    "for i in mygenerator:\n",
    "    print(i)\n",
    "    print(mygenerator)"
   ]
  },
  {
   "cell_type": "code",
   "execution_count": 214,
   "id": "bf64185f-9512-4e03-bbdd-fba9070877fc",
   "metadata": {
    "tags": []
   },
   "outputs": [],
   "source": [
    "def f(param1, param2='dummy', *liste1, **dict1):\n",
    "   \"\"\"Eine Funktion die ihre Argumente ausgibt\"\"\"\n",
    "   print (\"param1: \", param1)\n",
    "   print (\"param2: \", param2)\n",
    "   print (\"liste1: \", liste1)\n",
    "   print (\"dict1: \", dict1)\n",
    "   try:\n",
    "       nachname1 = dict1.get('nachname')\n",
    "       print (nachname1)\n",
    "   except:\n",
    "       pass\n",
    "   \n",
    "   return [param1, param2]"
   ]
  },
  {
   "cell_type": "code",
   "execution_count": 221,
   "id": "f6143480-e544-4b95-a35f-0a5a91a17974",
   "metadata": {
    "tags": []
   },
   "outputs": [
    {
     "name": "stdout",
     "output_type": "stream",
     "text": [
      "param1:  hello\n",
      "param2:  more\n",
      "liste1:  ('arguments',)\n",
      "dict1:  {'lastname': 'max', 'firstname': 'mueller'}\n",
      "None\n"
     ]
    },
    {
     "data": {
      "text/plain": [
       "['hello', 'more']"
      ]
     },
     "execution_count": 221,
     "metadata": {},
     "output_type": "execute_result"
    }
   ],
   "source": [
    "f('hello',  'more', 'arguments', lastname='max', firstname='mueller')"
   ]
  },
  {
   "cell_type": "code",
   "execution_count": 215,
   "id": "8cb9f92d-8da8-4c78-b905-a98aaf5f93cb",
   "metadata": {
    "tags": []
   },
   "outputs": [
    {
     "name": "stdout",
     "output_type": "stream",
     "text": [
      "param1:  hello\n",
      "param2:  world\n",
      "liste1:  ('more', 'arguments')\n",
      "dict1:  {'lastname': 'max', 'firstname': 'mueller'}\n",
      "None\n"
     ]
    },
    {
     "data": {
      "text/plain": [
       "['hello', 'world']"
      ]
     },
     "execution_count": 215,
     "metadata": {},
     "output_type": "execute_result"
    }
   ],
   "source": [
    "f('hello', 'world', 'more', 'arguments', lastname='max', firstname='mueller')"
   ]
  }
 ],
 "metadata": {
  "kernelspec": {
   "display_name": "Python 3 (ipykernel)",
   "language": "python",
   "name": "python3"
  },
  "language_info": {
   "codemirror_mode": {
    "name": "ipython",
    "version": 3
   },
   "file_extension": ".py",
   "mimetype": "text/x-python",
   "name": "python",
   "nbconvert_exporter": "python",
   "pygments_lexer": "ipython3",
   "version": "3.11.5"
  }
 },
 "nbformat": 4,
 "nbformat_minor": 5
}
