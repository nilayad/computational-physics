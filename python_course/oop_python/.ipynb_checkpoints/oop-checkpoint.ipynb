{
 "cells": [
  {
   "cell_type": "code",
   "execution_count": 85,
   "id": "4d3b2c8f-b613-4d7d-8ec5-ba95026e8746",
   "metadata": {
    "tags": []
   },
   "outputs": [],
   "source": [
    "import math\n",
    "import numpy as np"
   ]
  },
  {
   "cell_type": "code",
   "execution_count": 143,
   "id": "047faae8-f2d0-485e-a50e-f88897372de6",
   "metadata": {
    "tags": []
   },
   "outputs": [],
   "source": [
    "class ThreeVec(object):\n",
    "    def __init__( self, x=0., y=0., z=0.):\n",
    "        self.x = x\n",
    "        self.y = y\n",
    "        self.z= z\n",
    "    def __add__(self, tv):\n",
    "        newvec = ThreeVec( self.x+tv.x, self.y+tv.y, self.z+tv.z)\n",
    "        return newvec\n",
    "    def Subtract(self, tv):\n",
    "        subvec = ThreeVec( self.x-tv.x, self.y-tv.y, self.z-tv.z)\n",
    "        return subvec\n",
    "    def Length( self ): \n",
    "        return math.sqrt( self.x**2 + self.y**2 + self.z**2 )\n",
    "    def Scale( self, a ):\n",
    "        scalevec = ThreeVec( (self.x)*a, (self.y)*a, (self.z)*a)\n",
    "        return scalevec\n",
    "    \n",
    "\n",
    "    def Angle( self, tv ): \n",
    "        angle = np.arccos((self.ScalProd(tv))/((self.Length())*(tv.Length())))\n",
    "        return np.degrees(angle)\n",
    "    \n",
    "\n",
    "    def ScalProd( self, tv ):\n",
    "        dotval = np.dot([self.x, self.y, self.z], [tv.x,tv.y,tv.z])\n",
    "        return dotval\n",
    "\n",
    "    def CrossProd( self, tv ): \n",
    "        cpvec = np.cross([self.x, self.y, self.z], [tv.x, tv.y, tv.z])\n",
    "        return ThreeVec(*cpvec)\n",
    "\n",
    "\n",
    "    \n",
    "    def __str__( self ) :\n",
    "        return \"( %6.3f, %6.3f, %6.3f )\" % ( self.x, self.y, self.z)\n",
    "    "
   ]
  },
  {
   "cell_type": "code",
   "execution_count": 144,
   "id": "72bac9b6-154e-4382-8621-424fedba0151",
   "metadata": {
    "tags": []
   },
   "outputs": [],
   "source": [
    "u =  ThreeVec( 1., 0.5, 2.)\n",
    "v =  ThreeVec( 1., 2.5, -1.)"
   ]
  },
  {
   "cell_type": "code",
   "execution_count": 213,
   "id": "33d4cbfb-3af6-4093-aba6-86945701a705",
   "metadata": {
    "tags": []
   },
   "outputs": [
    {
     "name": "stdout",
     "output_type": "stream",
     "text": [
      "(  0.000, -2.000,  3.000 )\n"
     ]
    }
   ],
   "source": [
    "w = (u-v)\n",
    "print(w)"
   ]
  },
  {
   "cell_type": "code",
   "execution_count": 137,
   "id": "ddf900f2-a580-467b-96c7-ed630fb94c8b",
   "metadata": {
    "tags": []
   },
   "outputs": [
    {
     "data": {
      "text/plain": [
       "87.8229895268979"
      ]
     },
     "execution_count": 137,
     "metadata": {},
     "output_type": "execute_result"
    }
   ],
   "source": [
    "ang = u.Angle(v)\n",
    "ang"
   ]
  },
  {
   "cell_type": "code",
   "execution_count": 124,
   "id": "13925cfb-816c-4eea-997a-58745575ff4c",
   "metadata": {
    "tags": []
   },
   "outputs": [
    {
     "data": {
      "text/plain": [
       "2.29128784747792"
      ]
     },
     "execution_count": 124,
     "metadata": {},
     "output_type": "execute_result"
    }
   ],
   "source": [
    "u.Length()"
   ]
  },
  {
   "cell_type": "code",
   "execution_count": 114,
   "id": "f7300e42-b405-4281-8c43-cb530a9f7034",
   "metadata": {
    "tags": []
   },
   "outputs": [
    {
     "data": {
      "text/plain": [
       "(-5.5, 3.0, 2.0)"
      ]
     },
     "execution_count": 114,
     "metadata": {},
     "output_type": "execute_result"
    }
   ],
   "source": [
    "r = u.CrossProd(v)\n",
    "r.x,r.y,r.z"
   ]
  },
  {
   "cell_type": "code",
   "execution_count": 10,
   "id": "5ab8c58b-7855-4f60-927a-be5c609b0596",
   "metadata": {
    "tags": []
   },
   "outputs": [
    {
     "data": {
      "text/plain": [
       "(2.0, 3.0, 1.0)"
      ]
     },
     "execution_count": 10,
     "metadata": {},
     "output_type": "execute_result"
    }
   ],
   "source": [
    "w = u.add( v)\n",
    "w.x,w.y,w.z"
   ]
  },
  {
   "cell_type": "code",
   "execution_count": 45,
   "id": "65636845-bb98-41f9-b20f-7039c1649da2",
   "metadata": {
    "tags": []
   },
   "outputs": [
    {
     "data": {
      "text/plain": [
       "(0.0, -2.0, 3.0)"
      ]
     },
     "execution_count": 45,
     "metadata": {},
     "output_type": "execute_result"
    }
   ],
   "source": [
    "t = u.Subtract( v)\n",
    "t.x,t.y,t.z"
   ]
  },
  {
   "cell_type": "code",
   "execution_count": 46,
   "id": "5a631f53-31ef-4197-8909-d727004053bd",
   "metadata": {
    "tags": []
   },
   "outputs": [
    {
     "data": {
      "text/plain": [
       "(0.0, -2.0, 3.0)"
      ]
     },
     "execution_count": 46,
     "metadata": {},
     "output_type": "execute_result"
    }
   ],
   "source": [
    "t = t.Scale(1)\n",
    "t.x,t.y,t.z"
   ]
  },
  {
   "cell_type": "code",
   "execution_count": 100,
   "id": "30b0c83a-0c6c-4ea4-9f54-a86e2db9eb12",
   "metadata": {
    "tags": []
   },
   "outputs": [
    {
     "data": {
      "text/plain": [
       "(-5.5, 3.0, 2.0)"
      ]
     },
     "execution_count": 100,
     "metadata": {},
     "output_type": "execute_result"
    }
   ],
   "source": [
    "r = u.CrossProd(v)\n",
    "r.x,r.y,r.z"
   ]
  },
  {
   "cell_type": "code",
   "execution_count": 122,
   "id": "7f531268-4ad3-4dd5-a7b7-4484aedcccaa",
   "metadata": {
    "tags": []
   },
   "outputs": [
    {
     "data": {
      "text/plain": [
       "0.25"
      ]
     },
     "execution_count": 122,
     "metadata": {},
     "output_type": "execute_result"
    }
   ],
   "source": [
    "r = u.ScalProd(v)\n",
    "r"
   ]
  },
  {
   "cell_type": "code",
   "execution_count": null,
   "id": "db8ef97c-6437-4b98-a9b2-50a9c5e38d37",
   "metadata": {},
   "outputs": [],
   "source": [
    "a = [1,0.5,2]\n",
    "b = [1, 2.5,-1]\n",
    "np."
   ]
  },
  {
   "cell_type": "code",
   "execution_count": 102,
   "id": "ba85afda-ac35-4019-905d-b0adaa92b875",
   "metadata": {
    "tags": []
   },
   "outputs": [],
   "source": [
    "a = [1,0.5,2]\n",
    "b = [1, 2.5,-1]\n",
    "d = np.cross(a,b)"
   ]
  },
  {
   "cell_type": "code",
   "execution_count": 105,
   "id": "a6da9b7d-68fc-4e7f-925e-ddae68e3491c",
   "metadata": {
    "tags": []
   },
   "outputs": [
    {
     "data": {
      "text/plain": [
       "(-5.5, 3.0, 2.0)"
      ]
     },
     "execution_count": 105,
     "metadata": {},
     "output_type": "execute_result"
    }
   ],
   "source": [
    "e.x,e.y,e.z"
   ]
  },
  {
   "cell_type": "code",
   "execution_count": 108,
   "id": "32424856-3fa5-47a8-9fbb-8b2a24f95cef",
   "metadata": {
    "tags": []
   },
   "outputs": [
    {
     "data": {
      "text/plain": [
       "(-5.5, 3.0, 2.0)"
      ]
     },
     "execution_count": 108,
     "metadata": {},
     "output_type": "execute_result"
    }
   ],
   "source": [
    "f = ThreeVec(*d)\n",
    "f.x,f.y,f.z"
   ]
  },
  {
   "cell_type": "code",
   "execution_count": 66,
   "id": "2b7ac6bd-4da2-47f3-afba-b8cac3d685a8",
   "metadata": {
    "tags": []
   },
   "outputs": [
    {
     "data": {
      "text/plain": [
       "(1.0, 1.25, -2.0)"
      ]
     },
     "execution_count": 66,
     "metadata": {},
     "output_type": "execute_result"
    }
   ],
   "source": [
    "r = u.ScalProd(v)\n",
    "r.x,r.y,r.z"
   ]
  },
  {
   "cell_type": "code",
   "execution_count": 145,
   "id": "ec7d2653-9779-4119-b146-8e5bff671e3b",
   "metadata": {
    "tags": []
   },
   "outputs": [
    {
     "data": {
      "text/plain": [
       "'(  2.000,  3.000,  1.000 )'"
      ]
     },
     "execution_count": 145,
     "metadata": {},
     "output_type": "execute_result"
    }
   ],
   "source": [
    "str(u+v)"
   ]
  },
  {
   "cell_type": "code",
   "execution_count": 147,
   "id": "4d1154f9-c477-44af-9183-2c14b0b9ec6a",
   "metadata": {
    "tags": []
   },
   "outputs": [],
   "source": [
    "from ThreeVec import ThreeVec"
   ]
  },
  {
   "cell_type": "code",
   "execution_count": null,
   "id": "42af8de3-47fc-418b-8abe-d53a281936e5",
   "metadata": {},
   "outputs": [],
   "source": [
    " def __init__ (self, E , x=0,y=0,z=0 ):\n",
    "        self.e = E\n",
    "        self.x = x\n",
    "        self.y = y\n",
    "        self.z = z"
   ]
  },
  {
   "cell_type": "code",
   "execution_count": 231,
   "id": "bc3e5b58-24bb-4253-99bf-cc76d0e38535",
   "metadata": {
    "tags": []
   },
   "outputs": [],
   "source": [
    "class LorentzVec (object):\n",
    "    #from ThreeVec import ThreeVec\n",
    "    #p = ThreeVec(0,0,0)\n",
    "    def __init__( self, t=0., px =0 , py=0,pz=0):\n",
    "        self.p = ThreeVec( px, py, pz )  \n",
    "        self.e = e\n",
    "    def momentum (self):\n",
    "        return self.p\n",
    "\n",
    "        \n",
    "    def mass(self):\n",
    "        return math.sqrt((self.e**2)+(p.Length())**2)\n",
    "    \n",
    "    "
   ]
  },
  {
   "cell_type": "code",
   "execution_count": 227,
   "id": "fc78a59e-759d-4b09-adef-6a21daed7b8b",
   "metadata": {
    "tags": []
   },
   "outputs": [],
   "source": [
    "#p1 = ThreeVec(1,2,3)\n",
    "L1 = LorentzVec(1,1,2,3)\n",
    "#p2 = ThreeVec(4,5,6)\n",
    "L2 = LorentzVec(2,4,5,6)"
   ]
  },
  {
   "cell_type": "code",
   "execution_count": 229,
   "id": "4dfa6d02-5f91-4410-9d35-0a1107cbc441",
   "metadata": {
    "tags": []
   },
   "outputs": [
    {
     "data": {
      "text/plain": [
       "'(  1.000,  2.000,  3.000 )'"
      ]
     },
     "execution_count": 229,
     "metadata": {},
     "output_type": "execute_result"
    }
   ],
   "source": [
    "str(L1.momentum())"
   ]
  },
  {
   "cell_type": "code",
   "execution_count": 207,
   "id": "87beba13-133d-48a4-b6b6-279a815e26c8",
   "metadata": {
    "tags": []
   },
   "outputs": [
    {
     "data": {
      "text/plain": [
       "(3.872983346207417, 4.242640687119285)"
      ]
     },
     "execution_count": 207,
     "metadata": {},
     "output_type": "execute_result"
    }
   ],
   "source": [
    "m = L1.mass()\n",
    "\n",
    "m2 = L2.mass()\n",
    "m,m2"
   ]
  },
  {
   "cell_type": "code",
   "execution_count": 295,
   "id": "3aafbc94-0e14-4a78-8539-d0bd7d04d6ab",
   "metadata": {},
   "outputs": [],
   "source": [
    "import math\n",
    "class lorvec (object):\n",
    "\n",
    "    def __init__ (self, E , x=0,y=0,z=0 ):\n",
    "        self.e = E\n",
    "        self.x = x\n",
    "        self.y = y\n",
    "        self.z = z\n",
    "        \n",
    "\n",
    "    def SkalProd( self, tv ):\n",
    "        return( self.x*tv.x + self.y*tv.y + self.z*tv.z)\n",
    "    def addlv(self,lv):\n",
    "        return lorvec( self.e+ lv.e, self.x+lv.x, self.y+lv.y, self.z+lv.z)\n",
    "    \n",
    "    def Length( self ):\n",
    "        return math.sqrt( self.x**2 + self.y**2 + self.z**2 )\n",
    "    def Angle(self, tv):\n",
    "        return (math.acos(self.SkalProd(tv)/(self.Length()*tv.Length())))*(180/(math.pi))\n",
    "\n",
    "        \n",
    "    def mass(self):\n",
    "        return math.sqrt(((self.e)**2)-(self.Length())**2)\n",
    "    \n",
    "    def minv(self,lv):\n",
    "        #return math.sqrt(((self.e + lv.e)**2)-((self.addlv(lv).Length())**2))\n",
    "        return math.sqrt(((self.e + lv.e)**2)-((self.x+lv.x)**2 +(self.y+lv.y)**2 +(self.z+lv.z)**2 ))\n",
    "    def __str__( self ) :\n",
    "        return \"( %6.4f, %6.3f, %6.3f, %6.3f )\" % (self.e, self.x, self.y, self.z)\n"
   ]
  },
  {
   "cell_type": "code",
   "execution_count": 296,
   "id": "2be7b44a-da1a-42b2-8bfc-7d0fde745656",
   "metadata": {
    "tags": []
   },
   "outputs": [],
   "source": [
    "a = lorvec(45.0002,0.,0.,45.0)\n",
    "b = lorvec(45.0002,31.8198,0.,31.8198)"
   ]
  },
  {
   "cell_type": "code",
   "execution_count": 278,
   "id": "2ddce73b-9a26-4ce9-92f0-587fb37687b0",
   "metadata": {
    "tags": []
   },
   "outputs": [
    {
     "name": "stdout",
     "output_type": "stream",
     "text": [
      "( 45.0002,  0.000,  0.000, 45.000 )\n"
     ]
    }
   ],
   "source": [
    "print(a)"
   ]
  },
  {
   "cell_type": "code",
   "execution_count": 297,
   "id": "993803d6-3423-4953-85e4-e215d802f6e0",
   "metadata": {
    "tags": []
   },
   "outputs": [
    {
     "name": "stdout",
     "output_type": "stream",
     "text": [
      "Angle =  45.00000000000001\n",
      "Mass a =  0.13416422772132977\n",
      "Mass b =  0.13658682220453314\n",
      "Mass a+b =  34.44257040466056\n",
      "mass c = a+b ( 90.0004, 31.820,  0.000, 76.820 )\n",
      "Mass c =  34.44257040466054\n"
     ]
    }
   ],
   "source": [
    "print (\"Angle = \" , a.Angle(b))\n",
    "print (\"Mass a = \" , a.mass())\n",
    "print (\"Mass b = \" , b.mass())\n",
    "print (\"Mass a+b = \" , b.minv(a))\n",
    "print(\"mass c = a+b\", b.addlv(a))\n",
    "c = b.addlv(a)\n",
    "print(\"Mass c = \" , c.mass())"
   ]
  },
  {
   "cell_type": "code",
   "execution_count": null,
   "id": "0e479395-7cbe-4db6-b78b-486a4292b223",
   "metadata": {},
   "outputs": [],
   "source": []
  }
 ],
 "metadata": {
  "kernelspec": {
   "display_name": "Python 3 (ipykernel)",
   "language": "python",
   "name": "python3"
  },
  "language_info": {
   "codemirror_mode": {
    "name": "ipython",
    "version": 3
   },
   "file_extension": ".py",
   "mimetype": "text/x-python",
   "name": "python",
   "nbconvert_exporter": "python",
   "pygments_lexer": "ipython3",
   "version": "3.12.7"
  }
 },
 "nbformat": 4,
 "nbformat_minor": 5
}
