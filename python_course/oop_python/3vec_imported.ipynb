{
 "cells": [
  {
   "cell_type": "code",
   "execution_count": 1,
   "id": "7a43809d-86d0-4a09-bab5-f42ee7735ced",
   "metadata": {
    "tags": []
   },
   "outputs": [],
   "source": [
    "from ThreeVec import ThreeVec"
   ]
  },
  {
   "cell_type": "code",
   "execution_count": 2,
   "id": "32ebf0d3-bef7-48fd-871b-3f1e188c0611",
   "metadata": {
    "tags": []
   },
   "outputs": [],
   "source": [
    "u =  ThreeVec( 1., 0.5, 2.)\n",
    "v =  ThreeVec( 1., 2.5, -1.)"
   ]
  },
  {
   "cell_type": "code",
   "execution_count": 3,
   "id": "0d69371e-fe6d-4059-a236-da4a49f0cd73",
   "metadata": {
    "tags": []
   },
   "outputs": [
    {
     "name": "stdout",
     "output_type": "stream",
     "text": [
      "2.0 3.0 1.0\n"
     ]
    }
   ],
   "source": [
    "w = u.add( v)\n",
    "print(w.x,w.y,w.z)"
   ]
  },
  {
   "cell_type": "code",
   "execution_count": 4,
   "id": "c6bcac73-4b4b-4440-98be-e01de40feccf",
   "metadata": {
    "tags": []
   },
   "outputs": [
    {
     "name": "stdout",
     "output_type": "stream",
     "text": [
      "0.0 -2.0 3.0\n"
     ]
    }
   ],
   "source": [
    "t = u.Subtract( v)\n",
    "print(t.x,t.y,t.z)"
   ]
  },
  {
   "cell_type": "code",
   "execution_count": 5,
   "id": "760feeed-6bb3-4831-97c2-65244a8ad6c2",
   "metadata": {
    "tags": []
   },
   "outputs": [
    {
     "data": {
      "text/plain": [
       "(2.29128784747792, 2.8722813232690143)"
      ]
     },
     "execution_count": 5,
     "metadata": {},
     "output_type": "execute_result"
    }
   ],
   "source": [
    "u.Length(), v.Length()"
   ]
  },
  {
   "cell_type": "code",
   "execution_count": 7,
   "id": "be98ee9a-bcdb-4ed7-b007-e7d494737ad4",
   "metadata": {
    "tags": []
   },
   "outputs": [
    {
     "name": "stdout",
     "output_type": "stream",
     "text": [
      "0.0 -4.0 6.0\n"
     ]
    }
   ],
   "source": [
    "t = t.Scale(2.)\n",
    "print(t.x,t.y,t.z)"
   ]
  },
  {
   "cell_type": "code",
   "execution_count": 8,
   "id": "e338ab04-1f11-482f-a034-2cda8264732f",
   "metadata": {
    "tags": []
   },
   "outputs": [
    {
     "data": {
      "text/plain": [
       "87.8229895268979"
      ]
     },
     "execution_count": 8,
     "metadata": {},
     "output_type": "execute_result"
    }
   ],
   "source": [
    "ang = u.Angle(v)\n",
    "ang"
   ]
  },
  {
   "cell_type": "code",
   "execution_count": 10,
   "id": "dcb2f83c-3c14-4907-82a7-d8ed7c7fcba4",
   "metadata": {
    "tags": []
   },
   "outputs": [
    {
     "name": "stdout",
     "output_type": "stream",
     "text": [
      "0.25\n"
     ]
    }
   ],
   "source": [
    "r = u.ScalProd(v)\n",
    "print(r)"
   ]
  },
  {
   "cell_type": "code",
   "execution_count": 11,
   "id": "1107d012-5cc1-4921-9366-557495796715",
   "metadata": {
    "tags": []
   },
   "outputs": [
    {
     "name": "stdout",
     "output_type": "stream",
     "text": [
      "-5.5 3.0 2.0\n"
     ]
    }
   ],
   "source": [
    "r = u.CrossProd(v)\n",
    "print(r.x,r.y,r.z)"
   ]
  }
 ],
 "metadata": {
  "kernelspec": {
   "display_name": "Python 3 (ipykernel)",
   "language": "python",
   "name": "python3"
  },
  "language_info": {
   "codemirror_mode": {
    "name": "ipython",
    "version": 3
   },
   "file_extension": ".py",
   "mimetype": "text/x-python",
   "name": "python",
   "nbconvert_exporter": "python",
   "pygments_lexer": "ipython3",
   "version": "3.11.5"
  }
 },
 "nbformat": 4,
 "nbformat_minor": 5
}
