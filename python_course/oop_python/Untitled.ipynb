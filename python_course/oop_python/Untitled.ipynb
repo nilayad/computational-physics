{
 "cells": [
  {
   "cell_type": "code",
   "execution_count": 8,
   "id": "88b5986b-9fb4-4aef-be7d-eb7583b15ff9",
   "metadata": {
    "tags": []
   },
   "outputs": [],
   "source": [
    "from ThreeVec2 import ThreeVec"
   ]
  },
  {
   "cell_type": "code",
   "execution_count": 9,
   "id": "22c7e893-0772-4668-8881-31c98e78df91",
   "metadata": {
    "tags": []
   },
   "outputs": [],
   "source": [
    "u =  ThreeVec( 1., 0.5, 2.)\n",
    "v =  ThreeVec( 1., 2.5, -1.)"
   ]
  },
  {
   "cell_type": "code",
   "execution_count": 11,
   "id": "ad973e69-541d-4df7-8267-066520689b2a",
   "metadata": {
    "tags": []
   },
   "outputs": [
    {
     "name": "stdout",
     "output_type": "stream",
     "text": [
      "Vector w =  (  2.000,  3.000,  1.000 )\n"
     ]
    }
   ],
   "source": [
    "w = u + v\n",
    "print (\"Vector w = \", w)"
   ]
  },
  {
   "cell_type": "code",
   "execution_count": 14,
   "id": "afa838b2-feb5-4050-af8b-3cc1c8e1f050",
   "metadata": {
    "tags": []
   },
   "outputs": [
    {
     "data": {
      "text/plain": [
       "'(  1.000,  0.500,  2.000 )'"
      ]
     },
     "execution_count": 14,
     "metadata": {},
     "output_type": "execute_result"
    }
   ],
   "source": [
    "str(u)"
   ]
  },
  {
   "cell_type": "code",
   "execution_count": 16,
   "id": "11424856-155e-4988-a62b-2e7f30541cb1",
   "metadata": {
    "tags": []
   },
   "outputs": [
    {
     "data": {
      "text/plain": [
       "True"
      ]
     },
     "execution_count": 16,
     "metadata": {},
     "output_type": "execute_result"
    }
   ],
   "source": [
    "u<v"
   ]
  }
 ],
 "metadata": {
  "kernelspec": {
   "display_name": "Python 3 (ipykernel)",
   "language": "python",
   "name": "python3"
  },
  "language_info": {
   "codemirror_mode": {
    "name": "ipython",
    "version": 3
   },
   "file_extension": ".py",
   "mimetype": "text/x-python",
   "name": "python",
   "nbconvert_exporter": "python",
   "pygments_lexer": "ipython3",
   "version": "3.12.7"
  }
 },
 "nbformat": 4,
 "nbformat_minor": 5
}
