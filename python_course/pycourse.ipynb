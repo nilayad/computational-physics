{
 "cells": [
  {
   "cell_type": "code",
   "execution_count": null,
   "id": "e9160a50-01e6-4864-8dc7-00055cab7c5f",
   "metadata": {
    "tags": []
   },
   "outputs": [],
   "source": [
    "print(\"hello münchen!!\")"
   ]
  },
  {
   "cell_type": "code",
   "execution_count": null,
   "id": "da664ab9-d522-48a1-9033-88c9d651c4d9",
   "metadata": {
    "tags": []
   },
   "outputs": [],
   "source": [
    "for i in range (5):\n",
    "    print ('this is', i)\n"
   ]
  },
  {
   "cell_type": "code",
   "execution_count": 70,
   "id": "46b1f57f-3ba8-4252-b29b-340735a57085",
   "metadata": {},
   "outputs": [
    {
     "name": "stdout",
     "output_type": "stream",
     "text": [
      " Celsius  0 = Fahrenheit  32.0\n",
      " Celsius  20 = Fahrenheit  68.0\n",
      " Celsius  40 = Fahrenheit  104.0\n",
      " Celsius  60 = Fahrenheit  140.0\n",
      " Celsius  80 = Fahrenheit  176.0\n"
     ]
    }
   ],
   "source": [
    "# print Fahrenheit->Celsius table \n",
    "lower =  0 \n",
    "upper =  100 \n",
    "step =  20\n",
    "\n",
    "#fahr = lower\n",
    "celsius = lower\n",
    "while  ( celsius < upper ):  \n",
    "    fahr =  (9/5  * celsius)+32  # conversion \n",
    "    # print(f\"= Celsius {celsius:8.3f}=Fahrenheit {fahr:6.1f} \") # formatted output \n",
    "    print (  \" Celsius \" , celsius ,\"= Fahrenheit \" , fahr  ) \n",
    "    celsius += step   # increment\n",
    "# end of loop\n"
   ]
  },
  {
   "cell_type": "code",
   "execution_count": null,
   "id": "db3d5ef6-c855-4be6-8076-8a7c71d8321e",
   "metadata": {
    "tags": []
   },
   "outputs": [],
   "source": [
    "def sum_i3(i):\n",
    "    sum_c = 0\n",
    "    a=0\n",
    "    while(a<=i):\n",
    "        sum_c += a**3\n",
    "        a +=1\n",
    "    return sum_c\n",
    "    \n",
    "def sum_i(i):\n",
    "    sum_n = 0\n",
    "    a=0\n",
    "    while(a<=i):\n",
    "        sum_n +=a\n",
    "        a+=1\n",
    "        \n",
    "    return sum_n\n"
   ]
  },
  {
   "cell_type": "code",
   "execution_count": 123,
   "id": "fa481579-c543-489b-b322-32760136f42d",
   "metadata": {
    "tags": []
   },
   "outputs": [
    {
     "name": "stdout",
     "output_type": "stream",
     "text": [
      "-10\n"
     ]
    }
   ],
   "source": [
    "a = 10\n",
    "b= 0\n",
    "if a > 5 : \n",
    "   b = -a\n",
    "\n",
    "elif a < 20 :\n",
    "   b = a\n",
    "\n",
    "print(b)\n"
   ]
  },
  {
   "cell_type": "code",
   "execution_count": 130,
   "id": "fde7bafa-82ab-4672-a79e-e5808f08120c",
   "metadata": {
    "tags": []
   },
   "outputs": [
    {
     "ename": "SyntaxError",
     "evalue": "invalid decimal literal (4034792102.py, line 1)",
     "output_type": "error",
     "traceback": [
      "\u001b[0;36m  Cell \u001b[0;32mIn[130], line 1\u001b[0;36m\u001b[0m\n\u001b[0;31m    7b35\u001b[0m\n\u001b[0m    ^\u001b[0m\n\u001b[0;31mSyntaxError\u001b[0m\u001b[0;31m:\u001b[0m invalid decimal literal\n"
     ]
    }
   ],
   "source": []
  },
  {
   "cell_type": "code",
   "execution_count": null,
   "id": "f593daf3-ab05-4ded-9431-ded956b77c83",
   "metadata": {
    "tags": []
   },
   "outputs": [],
   "source": [
    "lower = 1\n",
    "upper= 5\n",
    "\n",
    "snum = 0\n",
    "sqnum=0\n",
    "sknum = 0\n",
    "\n",
    "for num in range(lower, upper+1):\n",
    "    snum += num\n",
    "    sqnum += num**2\n",
    "    sknum+= num**3\n",
    "    print(num,num**2,num**3,snum,snum**2,sknum,sqnum)"
   ]
  },
  {
   "cell_type": "code",
   "execution_count": null,
   "id": "8aa81670-238c-4bec-9d33-c680c5222595",
   "metadata": {
    "tags": []
   },
   "outputs": [],
   "source": [
    "b= sum_i3(2)\n",
    "a = sum_i(2)\n",
    "\n",
    "print(a,b)"
   ]
  },
  {
   "cell_type": "code",
   "execution_count": null,
   "id": "fe118c5c-e21e-4b4e-8868-1a96880daf60",
   "metadata": {},
   "outputs": [],
   "source": [
    "s_i= 0\n",
    "s_i3 = 0\n",
    "for i in range(200):\n",
    "    s_i = sum_i(i)\n",
    "    \n",
    "    s_i3 = sum_i3(i)\n",
    "    if (s_i**2 != s_i3):\n",
    "        print ('Error')\n",
    "        \n",
    "    if(i%20 ==0):\n",
    "        print ('for', i, 'LHS =',s_i**2,'RHS=', s_i3 )\n",
    "         \n",
    "    \n",
    "print( 'identity is proved forupto 200' )\n",
    "    #print(s_i,s_i3)"
   ]
  },
  {
   "cell_type": "code",
   "execution_count": null,
   "id": "bdfcd358-2a37-4e75-ace4-0b6b46a57eee",
   "metadata": {
    "tags": []
   },
   "outputs": [],
   "source": [
    "min = 1\n",
    "max = 150\n",
    "sum_s= 0\n",
    "sum_c = 0\n",
    "i = min\n",
    "print ('squares') \n",
    "while (i**2 < 150) :\n",
    "    print(i**2)\n",
    "    sum_s +=i**2\n",
    "    \n",
    "    i+=1\n",
    "print ('sum of all squares is =', sum_s )    \n",
    "\n",
    "print ('cubes') \n",
    "i = min\n",
    "while (i**3 < 150) :\n",
    "    print(i**3)\n",
    "    sum_c +=i**3\n",
    "    i+=1\n",
    "print ('sum of all cubes is =', sum_c )  "
   ]
  },
  {
   "cell_type": "code",
   "execution_count": null,
   "id": "48840164-355f-4a29-9ac2-a21b9f5a7246",
   "metadata": {
    "tags": []
   },
   "outputs": [],
   "source": [
    "a = 1 \n",
    "print (a) \n",
    "print (a+a) \n",
    "b = '1' \n",
    "print (b) \n",
    "print (b+b)"
   ]
  },
  {
   "cell_type": "code",
   "execution_count": null,
   "id": "c5157855-14e5-4684-a6db-17cbd6cf4157",
   "metadata": {},
   "outputs": [],
   "source": [
    "#a is asigned a number and hence the operation a+a was mathematical addition and o/p was 2\n",
    "#b is asigned a string/ non numeric character and so when added b+b it simply concatenated the two charachers asigned to b"
   ]
  },
  {
   "cell_type": "code",
   "execution_count": null,
   "id": "c4d23130-9a09-4fdc-b1e7-24797b9c6587",
   "metadata": {
    "tags": []
   },
   "outputs": [],
   "source": [
    "import math\n",
    "import cmath"
   ]
  },
  {
   "cell_type": "code",
   "execution_count": null,
   "id": "630a7555-859f-45ad-b981-38225c0651ff",
   "metadata": {
    "tags": []
   },
   "outputs": [],
   "source": [
    "cmath.exp(z).real"
   ]
  },
  {
   "cell_type": "code",
   "execution_count": null,
   "id": "5122aca0-cb37-417d-9d95-870185f4df36",
   "metadata": {
    "tags": []
   },
   "outputs": [],
   "source": [
    "a = 1\n",
    "b = 2\n",
    "z = complex(a,b) \n",
    "\n",
    "z"
   ]
  },
  {
   "cell_type": "code",
   "execution_count": null,
   "id": "3c18d6a8-3a8a-43eb-9f8e-7b9783ef2eb0",
   "metadata": {
    "tags": []
   },
   "outputs": [],
   "source": [
    "sum_a = 0.\n",
    "sum_tot = 1.0\n",
    "for i in range(10):\n",
    "  sum_a += 0.1;\n",
    "if ( sum_a != sum_tot ):\n",
    "  print (\" Python kann nicht rechnen: 1 - 1 = %g\" %  (sum_a - sum_tot))\n",
    "#"
   ]
  },
  {
   "cell_type": "code",
   "execution_count": null,
   "id": "ce588e90-65d1-46ba-87e7-0e12c5552e8f",
   "metadata": {
    "tags": []
   },
   "outputs": [],
   "source": [
    "sum_a"
   ]
  },
  {
   "cell_type": "code",
   "execution_count": null,
   "id": "b49b3ce1-2869-40ca-878e-98de444a1f2a",
   "metadata": {
    "tags": []
   },
   "outputs": [],
   "source": [
    "eps = 1. \n",
    "a = True\n",
    "while (a):\n",
    "    eps /= 2. \n",
    "    onePlusEps = 1.0 + eps\n",
    "    print(onePlusEps)\n",
    "    if ( onePlusEps == 1.0 ) :\n",
    "        a = False"
   ]
  },
  {
   "cell_type": "code",
   "execution_count": null,
   "id": "e54bb4ff-c8af-4795-aab4-3b13caab13e1",
   "metadata": {
    "tags": []
   },
   "outputs": [],
   "source": [
    "fib_n = []\n",
    "fib_n.append(0)\n",
    "fib_n.append(1)\n"
   ]
  },
  {
   "cell_type": "code",
   "execution_count": null,
   "id": "bc8a8f2d-09ef-4511-8e7e-5a77586b4ce8",
   "metadata": {
    "tags": []
   },
   "outputs": [],
   "source": [
    "fib_n"
   ]
  },
  {
   "cell_type": "code",
   "execution_count": null,
   "id": "09f97f1d-11c0-478a-9fd9-86c14acdc896",
   "metadata": {
    "tags": []
   },
   "outputs": [],
   "source": [
    "fib_n = []\n",
    "fib_n.append(0)\n",
    "fib_n.append(1)\n",
    "i = 2\n",
    "while (i<10):\n",
    "    fib_n_i = fib_n[i-1] +fib_n[i-2]\n",
    "    fib_n.append(fib_n_i)\n",
    "    i +=1\n",
    "print (fib_n)\n"
   ]
  },
  {
   "cell_type": "code",
   "execution_count": null,
   "id": "149b0c26-e3e0-4319-a116-4e4f55081647",
   "metadata": {
    "tags": []
   },
   "outputs": [],
   "source": [
    "def fibn(n):\n",
    "    fib_n = []\n",
    "    fib_n.append(0)\n",
    "    fib_n.append(1)\n",
    "    i = 2\n",
    "    while (i<=n):\n",
    "        fib_n_i = fib_n[i-1] +fib_n[i-2]\n",
    "        fib_n.append(fib_n_i)\n",
    "        i +=1\n",
    "    fibno_n = fib_n[n]\n",
    "    return fibno_n\n",
    "    "
   ]
  },
  {
   "cell_type": "code",
   "execution_count": null,
   "id": "7afaa902-4438-4c5f-b789-057798bf99c8",
   "metadata": {
    "tags": []
   },
   "outputs": [],
   "source": [
    "num = fibn(10)\n",
    "num"
   ]
  },
  {
   "cell_type": "code",
   "execution_count": null,
   "id": "fbddc4d6-9527-4620-b877-a7a1541b9bc1",
   "metadata": {
    "tags": []
   },
   "outputs": [],
   "source": [
    "\n",
    "a = []\n",
    "b = 0\n",
    "i=1\n",
    "a.append('NA')\n",
    "\n",
    "while (i<10) :\n",
    "    \n",
    "    b = 0\n",
    "    fn_1 = fibn(i+1)\n",
    "    f1_n = fibn(i-1)\n",
    "    f_n = fibn(i)\n",
    "    b = (fn_1)*(f1_n)- (f_n**2)\n",
    "    i +=1\n",
    "    print (b)\n",
    "    print ('LHS= ',b, '& RHS =', (-1)**(i+1))\n",
    "    a.append(b)\n",
    "print (a)"
   ]
  },
  {
   "cell_type": "code",
   "execution_count": null,
   "id": "7384bbe8-7d7b-4fd3-8530-d7ca5e109748",
   "metadata": {
    "tags": []
   },
   "outputs": [],
   "source": [
    "if (((1<<3)&8) !=0):\n",
    "    print(1)"
   ]
  },
  {
   "cell_type": "code",
   "execution_count": null,
   "id": "425bba5d-9823-402b-826e-062b52497e70",
   "metadata": {
    "tags": []
   },
   "outputs": [],
   "source": [
    "bin(85)"
   ]
  },
  {
   "cell_type": "code",
   "execution_count": null,
   "id": "1ef9e08a-210b-482c-967d-7bd028273359",
   "metadata": {
    "tags": []
   },
   "outputs": [],
   "source": [
    "n=85\n",
    "binrep = ''\n",
    "while n > 0 :\n",
    "    remainder = n%2\n",
    "    binrep = str(remainder) + binrep\n",
    "    n = n//2\n",
    "binrep "
   ]
  },
  {
   "cell_type": "code",
   "execution_count": null,
   "id": "301c7f87-81b7-4464-b03e-dad8f1436330",
   "metadata": {
    "tags": []
   },
   "outputs": [],
   "source": [
    "n = int(input('enter the decimal number'))\n",
    "binrep = ''\n",
    "while n > 0 :\n",
    "    remainder = n%2\n",
    "    binrep = str(remainder) + binrep\n",
    "    n = n//2\n",
    "print (binrep) "
   ]
  },
  {
   "cell_type": "code",
   "execution_count": null,
   "id": "0d246f6e-b087-46bb-91a2-d891a86be133",
   "metadata": {
    "tags": []
   },
   "outputs": [],
   "source": [
    "n =7\n",
    "a = []\n",
    "b=8\n",
    "for i in range(4):\n",
    "    a.append(b%2)\n",
    "    if (b%2 != 0):\n",
    "        b = b-1\n",
    "    b = n/2\n",
    "print(a)"
   ]
  },
  {
   "cell_type": "code",
   "execution_count": 67,
   "id": "0fe78dd4-f085-40ea-b5c0-2d401f1fa40e",
   "metadata": {},
   "outputs": [
    {
     "name": "stdin",
     "output_type": "stream",
     "text": [
      "enter the decimal number 5\n"
     ]
    },
    {
     "ename": "KeyboardInterrupt",
     "evalue": "",
     "output_type": "error",
     "traceback": [
      "\u001b[0;31m---------------------------------------------------------------------------\u001b[0m",
      "\u001b[0;31mKeyboardInterrupt\u001b[0m                         Traceback (most recent call last)",
      "Cell \u001b[0;32mIn[67], line 7\u001b[0m\n\u001b[1;32m      4\u001b[0m c\u001b[38;5;241m=\u001b[39m\u001b[38;5;241m0\u001b[39m\n\u001b[1;32m      5\u001b[0m \u001b[38;5;28;01mwhile\u001b[39;00m b\u001b[38;5;241m<\u001b[39mn:\n\u001b[0;32m----> 7\u001b[0m     \u001b[38;5;28;01mwhile\u001b[39;00m \u001b[43mb\u001b[49m\u001b[38;5;241m>\u001b[39mi :\n\u001b[1;32m      9\u001b[0m         \u001b[38;5;28;01mif\u001b[39;00m ((b\u001b[38;5;241m%\u001b[39mi) \u001b[38;5;241m==\u001b[39m\u001b[38;5;241m0\u001b[39m):\n\u001b[1;32m     10\u001b[0m         \u001b[38;5;66;03m#print (n, 'is not a prime no')\u001b[39;00m\n\u001b[1;32m     12\u001b[0m             b \u001b[38;5;241m+\u001b[39m\u001b[38;5;241m=\u001b[39m\u001b[38;5;241m1\u001b[39m\n",
      "Cell \u001b[0;32mIn[67], line 7\u001b[0m\n\u001b[1;32m      4\u001b[0m c\u001b[38;5;241m=\u001b[39m\u001b[38;5;241m0\u001b[39m\n\u001b[1;32m      5\u001b[0m \u001b[38;5;28;01mwhile\u001b[39;00m b\u001b[38;5;241m<\u001b[39mn:\n\u001b[0;32m----> 7\u001b[0m     \u001b[38;5;28;01mwhile\u001b[39;00m \u001b[43mb\u001b[49m\u001b[38;5;241m>\u001b[39mi :\n\u001b[1;32m      9\u001b[0m         \u001b[38;5;28;01mif\u001b[39;00m ((b\u001b[38;5;241m%\u001b[39mi) \u001b[38;5;241m==\u001b[39m\u001b[38;5;241m0\u001b[39m):\n\u001b[1;32m     10\u001b[0m         \u001b[38;5;66;03m#print (n, 'is not a prime no')\u001b[39;00m\n\u001b[1;32m     12\u001b[0m             b \u001b[38;5;241m+\u001b[39m\u001b[38;5;241m=\u001b[39m\u001b[38;5;241m1\u001b[39m\n",
      "File \u001b[0;32m_pydevd_bundle/pydevd_cython.pyx:1600\u001b[0m, in \u001b[0;36m_pydevd_bundle.pydevd_cython.trace_dispatch\u001b[0;34m()\u001b[0m\n",
      "File \u001b[0;32m_pydevd_bundle/pydevd_cython.pyx:1457\u001b[0m, in \u001b[0;36m_pydevd_bundle.pydevd_cython.SafeCallWrapper.__call__\u001b[0;34m()\u001b[0m\n",
      "File \u001b[0;32m_pydevd_bundle/pydevd_cython.pyx:1834\u001b[0m, in \u001b[0;36m_pydevd_bundle.pydevd_cython.ThreadTracer.__call__\u001b[0;34m()\u001b[0m\n",
      "File \u001b[0;32m_pydevd_bundle/pydevd_cython.pyx:1152\u001b[0m, in \u001b[0;36m_pydevd_bundle.pydevd_cython.PyDBFrame.trace_dispatch\u001b[0;34m()\u001b[0m\n",
      "File \u001b[0;32m_pydevd_bundle/pydevd_cython.pyx:1135\u001b[0m, in \u001b[0;36m_pydevd_bundle.pydevd_cython.PyDBFrame.trace_dispatch\u001b[0;34m()\u001b[0m\n",
      "File \u001b[0;32m_pydevd_bundle/pydevd_cython.pyx:312\u001b[0m, in \u001b[0;36m_pydevd_bundle.pydevd_cython.PyDBFrame.do_wait_suspend\u001b[0;34m()\u001b[0m\n",
      "File \u001b[0;32m/software/opt/el_9/x86_64/python/3.11-2023.09/lib/python3.11/site-packages/debugpy/_vendored/pydevd/pydevd.py:2070\u001b[0m, in \u001b[0;36mPyDB.do_wait_suspend\u001b[0;34m(self, thread, frame, event, arg, exception_type)\u001b[0m\n\u001b[1;32m   2067\u001b[0m             from_this_thread\u001b[38;5;241m.\u001b[39mappend(frame_custom_thread_id)\n\u001b[1;32m   2069\u001b[0m     \u001b[38;5;28;01mwith\u001b[39;00m \u001b[38;5;28mself\u001b[39m\u001b[38;5;241m.\u001b[39m_threads_suspended_single_notification\u001b[38;5;241m.\u001b[39mnotify_thread_suspended(thread_id, thread, stop_reason):\n\u001b[0;32m-> 2070\u001b[0m         keep_suspended \u001b[38;5;241m=\u001b[39m \u001b[38;5;28;43mself\u001b[39;49m\u001b[38;5;241;43m.\u001b[39;49m\u001b[43m_do_wait_suspend\u001b[49m\u001b[43m(\u001b[49m\u001b[43mthread\u001b[49m\u001b[43m,\u001b[49m\u001b[43m \u001b[49m\u001b[43mframe\u001b[49m\u001b[43m,\u001b[49m\u001b[43m \u001b[49m\u001b[43mevent\u001b[49m\u001b[43m,\u001b[49m\u001b[43m \u001b[49m\u001b[43marg\u001b[49m\u001b[43m,\u001b[49m\u001b[43m \u001b[49m\u001b[43msuspend_type\u001b[49m\u001b[43m,\u001b[49m\u001b[43m \u001b[49m\u001b[43mfrom_this_thread\u001b[49m\u001b[43m,\u001b[49m\u001b[43m \u001b[49m\u001b[43mframes_tracker\u001b[49m\u001b[43m)\u001b[49m\n\u001b[1;32m   2072\u001b[0m frames_list \u001b[38;5;241m=\u001b[39m \u001b[38;5;28;01mNone\u001b[39;00m\n\u001b[1;32m   2074\u001b[0m \u001b[38;5;28;01mif\u001b[39;00m keep_suspended:\n\u001b[1;32m   2075\u001b[0m     \u001b[38;5;66;03m# This means that we should pause again after a set next statement.\u001b[39;00m\n",
      "File \u001b[0;32m/software/opt/el_9/x86_64/python/3.11-2023.09/lib/python3.11/site-packages/debugpy/_vendored/pydevd/pydevd.py:2106\u001b[0m, in \u001b[0;36mPyDB._do_wait_suspend\u001b[0;34m(self, thread, frame, event, arg, suspend_type, from_this_thread, frames_tracker)\u001b[0m\n\u001b[1;32m   2103\u001b[0m         \u001b[38;5;28mself\u001b[39m\u001b[38;5;241m.\u001b[39m_call_input_hook()\n\u001b[1;32m   2105\u001b[0m     \u001b[38;5;28mself\u001b[39m\u001b[38;5;241m.\u001b[39mprocess_internal_commands()\n\u001b[0;32m-> 2106\u001b[0m     \u001b[43mtime\u001b[49m\u001b[38;5;241;43m.\u001b[39;49m\u001b[43msleep\u001b[49m\u001b[43m(\u001b[49m\u001b[38;5;241;43m0.01\u001b[39;49m\u001b[43m)\u001b[49m\n\u001b[1;32m   2108\u001b[0m \u001b[38;5;28mself\u001b[39m\u001b[38;5;241m.\u001b[39mcancel_async_evaluation(get_current_thread_id(thread), \u001b[38;5;28mstr\u001b[39m(\u001b[38;5;28mid\u001b[39m(frame)))\n\u001b[1;32m   2110\u001b[0m \u001b[38;5;66;03m# process any stepping instructions\u001b[39;00m\n",
      "\u001b[0;31mKeyboardInterrupt\u001b[0m: "
     ]
    }
   ],
   "source": [
    "n = int(input('enter the decimal number'))\n",
    "i=1\n",
    "b = 2\n",
    "c=0\n",
    "while b<n:\n",
    "    \n",
    "    while b>i :\n",
    "    \n",
    "        if ((b%i) ==0):\n",
    "        #print (n, 'is not a prime no')\n",
    "            \n",
    "            b +=1\n",
    "            continue\n",
    "        else:\n",
    "            print (b, 'is a prime no.')\n",
    "            c +=1\n",
    "            b +=1\n",
    "            break\n",
    "        i+=1      \n",
    "print('total prime nos between 2 and ',n,' are ',c)\n"
   ]
  },
  {
   "cell_type": "code",
   "execution_count": 98,
   "id": "552de451-5c13-42d9-b01f-96252eaf0e99",
   "metadata": {
    "tags": []
   },
   "outputs": [
    {
     "name": "stdin",
     "output_type": "stream",
     "text": [
      "enter the decimal number 8\n"
     ]
    },
    {
     "name": "stdout",
     "output_type": "stream",
     "text": [
      "7\n",
      "[2, 3, 4, 5, 6, 7, 8]\n"
     ]
    }
   ],
   "source": [
    "n = int(input('enter the decimal number'))\n",
    "a = list(range(2,n+1))\n",
    "print (len(a))\n",
    "print(a)"
   ]
  },
  {
   "cell_type": "code",
   "execution_count": 103,
   "id": "cdb2c87c-2db4-4330-bfa1-405bc63f6734",
   "metadata": {
    "tags": []
   },
   "outputs": [
    {
     "ename": "IndexError",
     "evalue": "list index out of range",
     "output_type": "error",
     "traceback": [
      "\u001b[0;31m---------------------------------------------------------------------------\u001b[0m",
      "\u001b[0;31mIndexError\u001b[0m                                Traceback (most recent call last)",
      "Cell \u001b[0;32mIn[103], line 1\u001b[0m\n\u001b[0;32m----> 1\u001b[0m \u001b[43ma\u001b[49m\u001b[43m[\u001b[49m\u001b[38;5;241;43m7\u001b[39;49m\u001b[43m]\u001b[49m\n",
      "\u001b[0;31mIndexError\u001b[0m: list index out of range"
     ]
    }
   ],
   "source": [
    "a[7]"
   ]
  },
  {
   "cell_type": "code",
   "execution_count": 46,
   "id": "3cc908f2-9815-4523-a50a-b950248e6c3a",
   "metadata": {
    "tags": []
   },
   "outputs": [
    {
     "name": "stdin",
     "output_type": "stream",
     "text": [
      "enter the decimal number 50\n"
     ]
    },
    {
     "ename": "ValueError",
     "evalue": "list.remove(x): x not in list",
     "output_type": "error",
     "traceback": [
      "\u001b[0;31m---------------------------------------------------------------------------\u001b[0m",
      "\u001b[0;31mValueError\u001b[0m                                Traceback (most recent call last)",
      "Cell \u001b[0;32mIn[46], line 9\u001b[0m\n\u001b[1;32m      6\u001b[0m     \u001b[38;5;28;01mfor\u001b[39;00m m \u001b[38;5;129;01min\u001b[39;00m a:\n\u001b[1;32m      8\u001b[0m         \u001b[38;5;28;01mif\u001b[39;00m (m\u001b[38;5;241m%\u001b[39mi \u001b[38;5;241m==\u001b[39m\u001b[38;5;241m0\u001b[39m):\n\u001b[0;32m----> 9\u001b[0m             b\u001b[38;5;241m.\u001b[39mremove(m)\n\u001b[1;32m     11\u001b[0m \u001b[38;5;66;03m#a.insert(0,2)\u001b[39;00m\n\u001b[1;32m     12\u001b[0m \u001b[38;5;28mprint\u001b[39m (\u001b[38;5;124m'\u001b[39m\u001b[38;5;124mthe list of prime numbers between 2 and\u001b[39m\u001b[38;5;124m'\u001b[39m, n,\u001b[38;5;124m'\u001b[39m\u001b[38;5;124m are\u001b[39m\u001b[38;5;124m'\u001b[39m, a)\n",
      "\u001b[0;31mValueError\u001b[0m: list.remove(x): x not in list"
     ]
    }
   ],
   "source": [
    "n = int(input('enter the decimal number'))\n",
    "a = list(range(2,n+1))\n",
    "b = list(range(n+1))\n",
    "for i in a:\n",
    "      \n",
    "    for m in a:\n",
    "       \n",
    "        if (m%i ==0):\n",
    "            b.remove(m)\n",
    "                \n",
    "#a.insert(0,2)\n",
    "print ('the list of prime numbers between 2 and', n,' are', a)\n",
    "print (b)"
   ]
  },
  {
   "cell_type": "code",
   "execution_count": 47,
   "id": "449ebb4a-159c-4b82-9409-5bda905613cc",
   "metadata": {
    "tags": []
   },
   "outputs": [
    {
     "name": "stdout",
     "output_type": "stream",
     "text": [
      "[0, 1, 2, 3, 4, 5, 6, 7, 8]\n",
      "[2, 3, 4, 5, 6, 7, 8]\n"
     ]
    }
   ],
   "source": [
    "n =8\n",
    "a = list(range(2,n+1))\n",
    "b = list(range(n+1))\n",
    "print (b)\n",
    "print(a)"
   ]
  },
  {
   "cell_type": "code",
   "execution_count": 14,
   "id": "cbde0bb4-71a2-488e-9249-140f1e08958a",
   "metadata": {
    "tags": []
   },
   "outputs": [
    {
     "data": {
      "text/plain": [
       "0.720203"
      ]
     },
     "execution_count": 14,
     "metadata": {},
     "output_type": "execute_result"
    }
   ],
   "source": [
    "f = open(\"numbers.dat\")\n",
    "zed = f.readlines()\n"
   ]
  },
  {
   "cell_type": "code",
   "execution_count": 18,
   "id": "50b44da3-045c-4e12-bfce-b28a7f3902a3",
   "metadata": {
    "tags": []
   },
   "outputs": [],
   "source": [
    "f.close()"
   ]
  },
  {
   "cell_type": "code",
   "execution_count": 36,
   "id": "ff2d4d6f-eec8-4ee6-9e52-070d95689db6",
   "metadata": {
    "tags": []
   },
   "outputs": [
    {
     "data": {
      "text/plain": [
       "0"
      ]
     },
     "execution_count": 36,
     "metadata": {},
     "output_type": "execute_result"
    }
   ],
   "source": [
    "8%2"
   ]
  },
  {
   "cell_type": "code",
   "execution_count": 119,
   "id": "3ff499da-d552-44a3-969c-76b9f7be986d",
   "metadata": {
    "tags": []
   },
   "outputs": [
    {
     "name": "stdin",
     "output_type": "stream",
     "text": [
      "enter the decimal number -1.1454\n"
     ]
    },
    {
     "name": "stdout",
     "output_type": "stream",
     "text": [
      "the number in numbers.dat clossest to -1.1454 is -1.16071 at index no. 17 in sorted list b\n"
     ]
    }
   ],
   "source": [
    "n = float(input('enter the decimal number'))\n",
    "c= [ abs(n-x) for x in b]\n",
    "#print(c)\n",
    "l=c.index(min(c))\n",
    "print('the number in numbers.dat clossest to', n, 'is', b[l] , 'at index no.', l, 'in sorted list b' )"
   ]
  },
  {
   "cell_type": "code",
   "execution_count": 115,
   "id": "e22972c0-8813-491c-8f9d-8967736dbd72",
   "metadata": {
    "tags": []
   },
   "outputs": [
    {
     "data": {
      "text/plain": [
       "10"
      ]
     },
     "execution_count": 115,
     "metadata": {},
     "output_type": "execute_result"
    }
   ],
   "source": [
    "b.index(-1.44006)"
   ]
  },
  {
   "cell_type": "code",
   "execution_count": 89,
   "id": "9e7c7d29-be18-4e81-ba84-5558f1187d39",
   "metadata": {
    "tags": []
   },
   "outputs": [
    {
     "name": "stdout",
     "output_type": "stream",
     "text": [
      "-2.4661 2.19591\n"
     ]
    }
   ],
   "source": [
    "minv =nums[0]\n",
    "maxv = nums[0]\n",
    "for x in nums:\n",
    "    if x<minv:\n",
    "        minv = x\n",
    "    if x>maxv:\n",
    "        maxv = x\n",
    "print(minv,maxv)"
   ]
  },
  {
   "cell_type": "code",
   "execution_count": 87,
   "id": "5b00ce56-076c-4694-bc1a-d2af6f8bad80",
   "metadata": {
    "tags": []
   },
   "outputs": [
    {
     "name": "stdout",
     "output_type": "stream",
     "text": [
      "100\n",
      "-2.4661 2.19591\n"
     ]
    }
   ],
   "source": [
    "f = open (\"numbers.dat\")\n",
    "z = f.readlines()\n",
    "nums = []\n",
    "for i in z:\n",
    "    nums.append(float(i))\n",
    "print (len(z))\n",
    "print(min(nums), max(nums))"
   ]
  },
  {
   "cell_type": "code",
   "execution_count": 117,
   "id": "892b8618-f14c-4b0f-96f2-82beed5729a6",
   "metadata": {
    "tags": []
   },
   "outputs": [
    {
     "name": "stdout",
     "output_type": "stream",
     "text": [
      "[-2.4661, -2.45411, -2.25669, -1.85172, -1.66736, -1.60538, -1.58439, -1.52067, -1.51237, -1.48203, -1.44006, -1.36731, -1.32663, -1.31918, -1.24835, -1.23069, -1.22932, -1.16071, -1.07309, -1.07066, -0.999998, -0.990841, -0.978493, -0.838816, -0.820842, -0.807443, -0.797516, -0.797149, -0.783533, -0.723274, -0.695918, -0.553368, -0.539457, -0.519493, -0.508325, -0.476107, -0.410935, -0.378047, -0.350835, -0.336181, -0.277329, -0.252656, -0.249836, -0.181597, -0.168254, -0.155009, -0.134514, -0.0385264, -0.0346392, -0.0228203, 0.00171971, 0.0122037, 0.0260528, 0.0481106, 0.0600226, 0.103994, 0.147788, 0.192682, 0.224484, 0.289106, 0.292658, 0.412019, 0.43274, 0.44246, 0.447174, 0.44829, 0.510425, 0.565355, 0.566752, 0.570107, 0.582177, 0.615702, 0.62727, 0.631904, 0.676724, 0.720203, 0.732221, 0.793589, 0.813246, 0.888801, 0.927019, 1.05062, 1.05112, 1.05585, 1.10984, 1.1469, 1.16715, 1.24985, 1.25134, 1.27181, 1.39237, 1.41325, 1.47927, 1.51269, 1.51983, 1.63909, 1.66713, 1.93182, 2.03994, 2.19591]\n"
     ]
    }
   ],
   "source": [
    "a = open(\"numbers.dat\").readlines()\n",
    "b = [float(t) for t in a]\n",
    "print (b)"
   ]
  },
  {
   "cell_type": "code",
   "execution_count": 99,
   "id": "4afceab6-1c2c-4cca-8216-b4be2074e6e0",
   "metadata": {
    "tags": []
   },
   "outputs": [
    {
     "data": {
      "text/plain": [
       "(-2.4661, 2.19591)"
      ]
     },
     "execution_count": 99,
     "metadata": {},
     "output_type": "execute_result"
    }
   ],
   "source": [
    "b.sort()\n",
    "b[0],b[-1]"
   ]
  },
  {
   "cell_type": "code",
   "execution_count": 103,
   "id": "cfad2b60-55cd-4a36-a911-9e5ed483aa16",
   "metadata": {
    "tags": []
   },
   "outputs": [
    {
     "data": {
      "text/plain": [
       "\u001b[0;31mSignature:\u001b[0m \u001b[0mb\u001b[0m\u001b[0;34m.\u001b[0m\u001b[0msort\u001b[0m\u001b[0;34m(\u001b[0m\u001b[0;34m*\u001b[0m\u001b[0;34m,\u001b[0m \u001b[0mkey\u001b[0m\u001b[0;34m=\u001b[0m\u001b[0;32mNone\u001b[0m\u001b[0;34m,\u001b[0m \u001b[0mreverse\u001b[0m\u001b[0;34m=\u001b[0m\u001b[0;32mFalse\u001b[0m\u001b[0;34m)\u001b[0m\u001b[0;34m\u001b[0m\u001b[0;34m\u001b[0m\u001b[0m\n",
       "\u001b[0;31mDocstring:\u001b[0m\n",
       "Sort the list in ascending order and return None.\n",
       "\n",
       "The sort is in-place (i.e. the list itself is modified) and stable (i.e. the\n",
       "order of two equal elements is maintained).\n",
       "\n",
       "If a key function is given, apply it once to each list item and sort them,\n",
       "ascending or descending, according to their function values.\n",
       "\n",
       "The reverse flag can be set to sort in descending order.\n",
       "\u001b[0;31mType:\u001b[0m      builtin_function_or_method"
      ]
     },
     "metadata": {},
     "output_type": "display_data"
    }
   ],
   "source": [
    "b.sort?"
   ]
  },
  {
   "cell_type": "code",
   "execution_count": 94,
   "id": "977c5aca-feea-43ff-9b66-722c0252ade0",
   "metadata": {
    "tags": []
   },
   "outputs": [
    {
     "data": {
      "text/plain": [
       "<function TextIOWrapper.close()>"
      ]
     },
     "execution_count": 94,
     "metadata": {},
     "output_type": "execute_result"
    }
   ],
   "source": [
    "f.close"
   ]
  },
  {
   "cell_type": "code",
   "execution_count": 81,
   "id": "edf58d3b-7f0f-454e-b197-25237cc21971",
   "metadata": {
    "tags": []
   },
   "outputs": [
    {
     "data": {
      "text/plain": [
       "100"
      ]
     },
     "execution_count": 81,
     "metadata": {},
     "output_type": "execute_result"
    }
   ],
   "source": [
    "nums = []\n",
    "for i in z:\n",
    "    nums.append(float(i))\n",
    "    \n",
    "len(nums)"
   ]
  },
  {
   "cell_type": "code",
   "execution_count": 165,
   "id": "657cfa10-ffa2-4b35-b60f-7d11ca5d1938",
   "metadata": {
    "tags": []
   },
   "outputs": [
    {
     "name": "stdin",
     "output_type": "stream",
     "text": [
      "name of the file to be copied file1.txt\n",
      "name of the new copy file to be created  testfile2.txt\n"
     ]
    }
   ],
   "source": [
    "\n",
    "\n",
    "fil1 = str(input('name of the file to be copied'))\n",
    "fil2 = str(input('name of the new copy file to be created '  ) )\n",
    "         \n",
    "fck = open(fil1).readlines()\n",
    "# print(fck)\n",
    "copiedtext=fck\n",
    "fwk = open(fil2 , \"w\")\n",
    "for i in range(len(copiedtext)):\n",
    "    fwk.write(copiedtext[i])\n",
    "fwk.close()\n",
    "          \n"
   ]
  },
  {
   "cell_type": "code",
   "execution_count": 157,
   "id": "99ad6fe6-8c36-4f0c-8dc6-57c93401d083",
   "metadata": {
    "tags": []
   },
   "outputs": [
    {
     "data": {
      "text/plain": [
       "['test file here open copy and check\\n',\n",
       " 'hdasdjhvscvc\\n',\n",
       " '\\n',\n",
       " '\\n',\n",
       " '\\n',\n",
       " 'scsjdhcgdszfcg\\n',\n",
       " '\\n',\n",
       " 'hgsachgfcc\\n']"
      ]
     },
     "execution_count": 157,
     "metadata": {},
     "output_type": "execute_result"
    }
   ],
   "source": [
    "copiedtext"
   ]
  },
  {
   "cell_type": "code",
   "execution_count": 144,
   "id": "1e9ec153-ec3f-41ea-b1b0-fd554610ed65",
   "metadata": {
    "tags": []
   },
   "outputs": [],
   "source": [
    "fwk = open(\"file2.txt\", \"w\")\n",
    "fwk.write(fck[0])\n",
    "fwk.close()"
   ]
  },
  {
   "cell_type": "code",
   "execution_count": 190,
   "id": "22eeb48b-a32f-4560-9e07-ad91e6563e93",
   "metadata": {
    "tags": []
   },
   "outputs": [
    {
     "name": "stdin",
     "output_type": "stream",
     "text": [
      "enter the decimal number 100\n"
     ]
    },
    {
     "name": "stdout",
     "output_type": "stream",
     "text": [
      "2\n",
      "3\n",
      "5\n",
      "7\n",
      "11\n",
      "13\n",
      "17\n",
      "19\n",
      "23\n",
      "29\n",
      "31\n",
      "37\n",
      "41\n",
      "43\n",
      "47\n",
      "53\n",
      "59\n",
      "61\n",
      "67\n",
      "71\n",
      "73\n",
      "79\n",
      "83\n",
      "89\n",
      "97\n",
      "there are  25 no. of prime numbers between 1 and 100\n"
     ]
    }
   ],
   "source": [
    "n = int(input('enter the decimal number'))\n",
    "\n",
    "c=0\n",
    "for b in range(2,n):\n",
    "    for i in range(2, b) :\n",
    "        if ((b%i) ==0):\n",
    "           # print (b, 'is not a prime no')\n",
    "            break\n",
    "        \n",
    "    else:\n",
    "        print (b)#, 'is a prime no.')\n",
    "        c +=1\n",
    "print('there are ',c,'no. of prime numbers between 1 and', n)\n",
    "    \n",
    "        "
   ]
  },
  {
   "cell_type": "code",
   "execution_count": 4,
   "id": "c57135a3-772b-40b5-bd96-f491dc729f31",
   "metadata": {
    "tags": []
   },
   "outputs": [],
   "source": [
    "import numpy as np"
   ]
  },
  {
   "cell_type": "code",
   "execution_count": 7,
   "id": "45505d2b-e520-41b2-abe1-379baa85e426",
   "metadata": {
    "tags": []
   },
   "outputs": [],
   "source": [
    "arr1 = [ 0.3, 1.8, -2.2 ]\n",
    "arr2 =[ -2.5, 3.8, 0.4]\n",
    "ar1=[1,2,3]\n",
    "ar2 = [4,5,6]"
   ]
  },
  {
   "cell_type": "code",
   "execution_count": 5,
   "id": "c863b198-ccbd-4b33-97bc-33c139d377d7",
   "metadata": {
    "tags": []
   },
   "outputs": [
    {
     "data": {
      "text/plain": [
       "5.21"
      ]
     },
     "execution_count": 5,
     "metadata": {},
     "output_type": "execute_result"
    }
   ],
   "source": [
    "np.dot(arr1,arr2)"
   ]
  },
  {
   "cell_type": "code",
   "execution_count": 8,
   "id": "f985e1a1-c860-4441-a3d4-eb5a3f44d6a0",
   "metadata": {
    "tags": []
   },
   "outputs": [
    {
     "data": {
      "text/plain": [
       "32"
      ]
     },
     "execution_count": 8,
     "metadata": {},
     "output_type": "execute_result"
    }
   ],
   "source": [
    "np.dot(ar1,ar2)"
   ]
  },
  {
   "cell_type": "code",
   "execution_count": 6,
   "id": "f2cabb26-f5a3-4a44-9bc5-f2a74b63515e",
   "metadata": {
    "tags": []
   },
   "outputs": [
    {
     "data": {
      "text/plain": [
       "array([9.08, 5.38, 5.64])"
      ]
     },
     "execution_count": 6,
     "metadata": {},
     "output_type": "execute_result"
    }
   ],
   "source": [
    "np.cross(arr1,arr2)"
   ]
  },
  {
   "cell_type": "code",
   "execution_count": 10,
   "id": "d6f3b2dc-b85e-4d10-91e5-3f1e5bab7379",
   "metadata": {
    "tags": []
   },
   "outputs": [
    {
     "data": {
      "text/plain": [
       "array([ 3, -6,  3])"
      ]
     },
     "execution_count": 10,
     "metadata": {},
     "output_type": "execute_result"
    }
   ],
   "source": [
    "np.cross(ar2,ar1)"
   ]
  },
  {
   "cell_type": "code",
   "execution_count": 9,
   "id": "e6dcabf3-e82c-44df-b7b0-cf0efe670274",
   "metadata": {
    "tags": []
   },
   "outputs": [
    {
     "data": {
      "text/plain": [
       "array([-3,  6, -3])"
      ]
     },
     "execution_count": 9,
     "metadata": {},
     "output_type": "execute_result"
    }
   ],
   "source": [
    "np.cross(ar1,ar2)"
   ]
  },
  {
   "cell_type": "code",
   "execution_count": null,
   "id": "8b7e75c5-dd71-4cdc-8ef7-4ae8699db499",
   "metadata": {},
   "outputs": [],
   "source": [
    "arr1 = [ 0.3, 1.8, -2.2 ]\n",
    "arr2 =[ -2.5, 3.8, 0.4]\n",
    "np.dot(arr1,arr2)\n",
    "np.cross(arr1,arr2)"
   ]
  },
  {
   "cell_type": "code",
   "execution_count": 12,
   "id": "2f525160-c654-428e-b02c-43d89a3fce68",
   "metadata": {
    "tags": []
   },
   "outputs": [],
   "source": [
    "C = [ [ 0.61, 0.24, 1.16 ], [ 0.14, -0.82, 0.92 ], [ -1.25, 0.96, -0.23 ] ]\n",
    "D = [ [ 0.40, -0.68, -0.68 ], [ 0.65, -0.75, 0.23 ], [ 0.52, 0.51, 0.31 ] ]"
   ]
  },
  {
   "cell_type": "code",
   "execution_count": 13,
   "id": "522f8802-6f34-4116-8f33-c9d96809424e",
   "metadata": {
    "tags": []
   },
   "outputs": [
    {
     "data": {
      "text/plain": [
       "array([[ 1.00320000e+00, -3.20000000e-03, -5.80868686e-17],\n",
       "       [ 1.40000000e-03,  9.89000000e-01,  1.40000000e-03],\n",
       "       [ 4.40000000e-03,  1.27000000e-02,  9.99500000e-01]])"
      ]
     },
     "execution_count": 13,
     "metadata": {},
     "output_type": "execute_result"
    }
   ],
   "source": [
    "np.dot(C,D)"
   ]
  },
  {
   "cell_type": "code",
   "execution_count": 14,
   "id": "7ed0a116-0aae-4705-b009-ec03b8721f91",
   "metadata": {
    "tags": []
   },
   "outputs": [
    {
     "data": {
      "text/plain": [
       "array([[ 0.6256,  0.8788, -0.5108],\n",
       "       [ 0.5014,  0.5658,  0.428 ],\n",
       "       [ 0.4149,  0.2679, -1.1367]])"
      ]
     },
     "execution_count": 14,
     "metadata": {},
     "output_type": "execute_result"
    }
   ],
   "source": [
    "np.cross(C,D)"
   ]
  },
  {
   "cell_type": "code",
   "execution_count": 18,
   "id": "8d686e21-4071-4097-aab1-dcd21855cc78",
   "metadata": {
    "tags": []
   },
   "outputs": [],
   "source": [
    "import matplotlib.pyplot as plt\n",
    "def dyn(t):\n",
    "    \n",
    "    y = h0 - 0.5*g*(t**2)\n",
    "    v = v0 - g*t\n",
    "    return y,h"
   ]
  },
  {
   "cell_type": "code",
   "execution_count": 20,
   "id": "c205f6b2-d1b2-4136-9c6b-7d9f6c9bb98d",
   "metadata": {
    "tags": []
   },
   "outputs": [
    {
     "name": "stdin",
     "output_type": "stream",
     "text": [
      "starting height h0 10\n",
      "starting velocity v0 0\n"
     ]
    }
   ],
   "source": [
    "h0 = float(input('starting height h0'))\n",
    "v0 = float(input('starting velocity v0'))\n",
    "g =9.81\n",
    "h =[]\n",
    "vel =[]\n",
    "for t in range(30):\n",
    "    yi,vi = dyn(t)\n",
    "    h.append(yi)\n",
    "    vel.append(vi)\n",
    "#print(h,vel)\n",
    "plt.plot(h)"
   ]
  },
  {
   "cell_type": "code",
   "execution_count": 26,
   "id": "c23bc7f5-a8fe-4527-b5ca-5503257becaa",
   "metadata": {
    "tags": []
   },
   "outputs": [],
   "source": [
    "import matplotlib.pyplot as plt"
   ]
  },
  {
   "cell_type": "code",
   "execution_count": 36,
   "id": "69d7b68b-d024-4222-8ece-b7bc95d17326",
   "metadata": {
    "tags": []
   },
   "outputs": [
    {
     "data": {
      "text/plain": [
       "<matplotlib.collections.PathCollection at 0x7fd75de01fd0>"
      ]
     },
     "execution_count": 36,
     "metadata": {},
     "output_type": "execute_result"
    },
    {
     "data": {
      "image/png": "[encoded data removed]",
      "text/plain": [
       "<Figure size 640x480 with 1 Axes>"
      ]
     },
     "metadata": {},
     "output_type": "display_data"
    }
   ],
   "source": [
    "plt.scatter(h,range(30))"
   ]
  },
  {
   "cell_type": "code",
   "execution_count": null,
   "id": "d2506849-2c54-46f1-819f-abdebc4e32eb",
   "metadata": {},
   "outputs": [],
   "source": []
  },
  {
   "cell_type": "code",
   "execution_count": 38,
   "id": "bd9eaa74-b7c4-4aae-8bab-a24bc2ce26dc",
   "metadata": {
    "tags": []
   },
   "outputs": [
    {
     "name": "stdout",
     "output_type": "stream",
     "text": [
      "at index  3\n"
     ]
    }
   ],
   "source": [
    "L = [1, 2, 4, 8, 16, 32, 64]\n",
    "X = 3\n",
    "\n",
    "found = i = 0\n",
    "while not found and i < len(L):\n",
    "    if 2 ** X == L[i]:\n",
    "        found = 1\n",
    "    else:\n",
    "        i = i+1\n",
    "\n",
    "if found:\n",
    "    print ('at index ', i)\n",
    "else:\n",
    "    print (X, ' not found')"
   ]
  },
  {
   "cell_type": "code",
   "execution_count": null,
   "id": "811d43ed-61c8-4a61-9387-51cc1f6d8be6",
   "metadata": {},
   "outputs": [],
   "source": [
    "f =True\n",
    "while i<len():\n",
    "    if 2**X =\n",
    "    "
   ]
  },
  {
   "cell_type": "code",
   "execution_count": 8,
   "id": "3f4c706d-7418-462f-9528-83a18b4d6bfe",
   "metadata": {
    "tags": []
   },
   "outputs": [
    {
     "name": "stdout",
     "output_type": "stream",
     "text": [
      "no\n"
     ]
    }
   ],
   "source": [
    "if 1e16 + 1 > 1e16:\n",
    "    print ('yes')\n",
    "    \n",
    "else:\n",
    "     print ('no')"
   ]
  },
  {
   "cell_type": "code",
   "execution_count": 3,
   "id": "bb113bef-8495-4579-9f44-74f1babd0b2d",
   "metadata": {
    "tags": []
   },
   "outputs": [
    {
     "data": {
      "text/plain": [
       "1e+16"
      ]
     },
     "execution_count": 3,
     "metadata": {},
     "output_type": "execute_result"
    }
   ],
   "source": [
    "1e16 + 1 > 1e16"
   ]
  }
 ],
 "metadata": {
  "kernelspec": {
   "display_name": "Python 3 (ipykernel)",
   "language": "python",
   "name": "python3"
  },
  "language_info": {
   "codemirror_mode": {
    "name": "ipython",
    "version": 3
   },
   "file_extension": ".py",
   "mimetype": "text/x-python",
   "name": "python",
   "nbconvert_exporter": "python",
   "pygments_lexer": "ipython3",
   "version": "3.11.5"
  }
 },
 "nbformat": 4,
 "nbformat_minor": 5
}
