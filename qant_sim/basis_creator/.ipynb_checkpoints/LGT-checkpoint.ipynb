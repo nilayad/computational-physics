{
 "cells": [
  {
   "cell_type": "code",
   "execution_count": 1,
   "id": "df077890-2baa-43b2-bc54-0b18110685a5",
   "metadata": {},
   "outputs": [
    {
     "data": {
      "image/png": "[encoded data removed]",
      "text/plain": [
       "<Figure size 640x480 with 1 Axes>"
      ]
     },
     "metadata": {},
     "output_type": "display_data"
    }
   ],
   "source": [
    "import numpy as np\n",
    "import matplotlib.pyplot as plt\n",
    "import numba\n",
    "from numba import njit\n",
    "from scipy.ndimage import convolve, generate_binary_structure\n",
    "\n",
    "N=50\n",
    "\n",
    "init_random = np.random.random((N,N))\n",
    "lattice_n = np.zeros((N,N))\n",
    "lattice_n[init_random>=0.75]=1\n",
    "lattice_n[init_random<=0.75]=-1\n",
    "\n",
    "lattice_p = np.zeros((N,N))\n",
    "lattice_p[init_random>=0.75]=-1\n",
    "lattice_p[init_random<=0.75]=1\n",
    "\n",
    "plt.imshow(lattice_p)\n",
    "\n",
    "def get_energy(lattice):\n",
    "    kern=generate_binary_structure(2,1)\n",
    "    kern[1][1] = False\n",
    "    arr = -lattice * convolve(lattice, kern, mode='constant', cval = 0)\n",
    "    return arr.sum()"
   ]
  },
  {
   "cell_type": "code",
   "execution_count": 2,
   "id": "cfee921e-bee7-426b-9952-50a5d18029c5",
   "metadata": {},
   "outputs": [],
   "source": [
    "@numba.njit(\"UniTuple(f8[:],2)(f8[:,:], i8, f8, f8)\" , nogil=True)\n",
    "def metropolis(spin_arr, times, BJ, energy):\n",
    "    spin_arr = spin_arr.copy()\n",
    "    net_spins = np.zeros(times-1)\n",
    "    net_energy = np.zeros(times-1)\n",
    "    for t in range(0, times-1):\n",
    "        x = np.random.randint(0,N)\n",
    "        y = np.random.randint(0,N)\n",
    "        spin_i = spin_arr[x,y]\n",
    "        spin_f = spin_i*-1\n",
    "\n",
    "    \n",
    "        E_i = 0\n",
    "        E_f = 0\n",
    "        if x>0:\n",
    "            E_i += -spin_i*spin_arr[x-1,y]\n",
    "            E_f += -spin_f*spin_arr[x-1,y]\n",
    "\n",
    "        if x<N-1:\n",
    "            E_i += -spin_i*spin_arr[x+1,y]\n",
    "            E_f += -spin_f*spin_arr[x+1,y]\n",
    "\n",
    "        if y>0:\n",
    "            E_i += -spin_i*spin_arr[x,y-1]\n",
    "            E_f += -spin_f*spin_arr[x,y-1]\n",
    "\n",
    "        if y<N-1:\n",
    "            E_i += -spin_i*spin_arr[x,y+1]\n",
    "            E_f += -spin_f*spin_arr[x,y+1]\n",
    "            \n",
    "        dE=E_f-E_i\n",
    "        if (dE>0)*(np.random.random()<np.exp(-BJ*dE)):\n",
    "            spin_arr[x,y]=spin_f\n",
    "            energy += dE\n",
    "        elif dE<=0:\n",
    "            spin_arr[x,y] = spin_f\n",
    "            energy += dE\n",
    "        net_spins[t] = spin_arr.sum()\n",
    "        net_energy[t] = energy\n",
    "    return net_spins, net_energy"
   ]
  },
  {
   "cell_type": "code",
   "execution_count": null,
   "id": "ba4462df-7bc4-4be4-bd96-c37485170bf3",
   "metadata": {},
   "outputs": [],
   "source": [
    "beta = 0.15\n",
    "spins, energies = metropolis(lattice_n, 10000000, beta, get_energy(lattice_n))\n",
    "\n",
    "fig, axes = plt.subplots(1, 2, figsize=(12, 4))\n",
    "ax = axes[0]\n",
    "ax.plot(spins/N**2)\n",
    "ax.set_xlabel('alg time step')\n",
    "ax.set_ylabel(r'avg spin$\\bar{m}$')\n",
    "ax.grid()\n",
    "ax=axes[1]\n",
    "ax.plot(energies)\n",
    "ax.set_xlabel('alg time step')\n",
    "ax.set_ylabel(r'Energy $E/J$')\n",
    "ax.grid()\n",
    "fig.tight_layout()\n",
    "fig.suptitle(rf'evolution of avg spin and energy for $\\beta J=${beta}', y=1.07, size = 18)\n",
    "plt.show()"
   ]
  },
  {
   "cell_type": "code",
   "execution_count": null,
   "id": "e45a5df1-d007-415d-9569-15f4c075ecb6",
   "metadata": {},
   "outputs": [],
   "source": []
  }
 ],
 "metadata": {
  "kernelspec": {
   "display_name": "Python 3 (ipykernel)",
   "language": "python",
   "name": "python3"
  },
  "language_info": {
   "codemirror_mode": {
    "name": "ipython",
    "version": 3
   },
   "file_extension": ".py",
   "mimetype": "text/x-python",
   "name": "python",
   "nbconvert_exporter": "python",
   "pygments_lexer": "ipython3",
   "version": "3.10.12"
  }
 },
 "nbformat": 4,
 "nbformat_minor": 5
}
