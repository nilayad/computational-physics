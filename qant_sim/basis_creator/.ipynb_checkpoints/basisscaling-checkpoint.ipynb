{
 "cells": [
  {
   "cell_type": "code",
   "execution_count": null,
   "id": "b27e61b1-967f-4b98-bd6f-7d3e40a676b0",
   "metadata": {},
   "outputs": [],
   "source": [
    "def scaling (N, N0, lim):\n",
    "    N = int\n",
    "    a= 2^N\n",
    "    b = "
   ]
  }
 ],
 "metadata": {
  "kernelspec": {
   "display_name": "Python 3 (ipykernel)",
   "language": "python",
   "name": "python3"
  },
  "language_info": {
   "codemirror_mode": {
    "name": "ipython",
    "version": 3
   },
   "file_extension": ".py",
   "mimetype": "text/x-python",
   "name": "python",
   "nbconvert_exporter": "python",
   "pygments_lexer": "ipython3",
   "version": "3.10.12"
  }
 },
 "nbformat": 4,
 "nbformat_minor": 5
}
