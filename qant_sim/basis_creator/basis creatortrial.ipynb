{
 "cells": [
  {
   "cell_type": "code",
   "execution_count": 128,
   "id": "b49b624a-23b9-41eb-8629-d5ad14690c97",
   "metadata": {},
   "outputs": [],
   "source": [
    "from itertools import combinations\n",
    "\n",
    "def BasisCreator(L, N0, gj):\n",
    "    basis_states = []\n",
    "   \n",
    "    # Generate all possible spin configurations with N0 particles\n",
    "    spin_configs = combinations(range(L), N0)\n",
    "    plt.print(spin_configs)\n",
    "    # Loop through each spin configuration\n",
    "    for config in spin_configs:\n",
    "        state = [0] * L  # Initialize all spins to -1 (represented as 0)\n",
    "        print (state)\n",
    "        for index in config:\n",
    "            state[index] = 1  # Set the spins in the config to +1\n",
    "            print('new', state)\n",
    "        \n",
    "        # Check gauge field configurations consistent with gj = +1\n",
    "        # Each τ^x can be either +1 or -1, so we need to ensure that \n",
    "        # the product of the relevant τ^x and σ^z equals +1 for each site.\n",
    "        # This step is more complex and requires ensuring that gauge constraints are met.\n",
    "        \n",
    "        # Example for simplicity, we append state for now (actual implementation needs more)\n",
    "        basis_states.append(state)\n",
    "        \n",
    "    return basis_states\n"
   ]
  },
  {
   "cell_type": "code",
   "execution_count": 129,
   "id": "1b55bd57-9acb-4646-bf8e-f521681083f0",
   "metadata": {},
   "outputs": [
    {
     "ename": "NameError",
     "evalue": "name 'plt' is not defined",
     "output_type": "error",
     "traceback": [
      "\u001b[0;31m---------------------------------------------------------------------------\u001b[0m",
      "\u001b[0;31mNameError\u001b[0m                                 Traceback (most recent call last)",
      "Cell \u001b[0;32mIn[129], line 1\u001b[0m\n\u001b[0;32m----> 1\u001b[0m states\u001b[38;5;241m=\u001b[39m \u001b[43mBasisCreator\u001b[49m\u001b[43m(\u001b[49m\u001b[38;5;241;43m4\u001b[39;49m\u001b[43m,\u001b[49m\u001b[43m \u001b[49m\u001b[38;5;241;43m2\u001b[39;49m\u001b[43m,\u001b[49m\u001b[43m \u001b[49m\u001b[38;5;241;43m1\u001b[39;49m\u001b[43m)\u001b[49m\n",
      "Cell \u001b[0;32mIn[128], line 8\u001b[0m, in \u001b[0;36mBasisCreator\u001b[0;34m(L, N0, gj)\u001b[0m\n\u001b[1;32m      6\u001b[0m \u001b[38;5;66;03m# Generate all possible spin configurations with N0 particles\u001b[39;00m\n\u001b[1;32m      7\u001b[0m spin_configs \u001b[38;5;241m=\u001b[39m combinations(\u001b[38;5;28mrange\u001b[39m(L), N0)\n\u001b[0;32m----> 8\u001b[0m \u001b[43mplt\u001b[49m\u001b[38;5;241m.\u001b[39mprint(spin_configs)\n\u001b[1;32m      9\u001b[0m \u001b[38;5;66;03m# Loop through each spin configuration\u001b[39;00m\n\u001b[1;32m     10\u001b[0m \u001b[38;5;28;01mfor\u001b[39;00m config \u001b[38;5;129;01min\u001b[39;00m spin_configs:\n",
      "\u001b[0;31mNameError\u001b[0m: name 'plt' is not defined"
     ]
    }
   ],
   "source": [
    "states= BasisCreator(4, 2, 1)\n"
   ]
  },
  {
   "cell_type": "code",
   "execution_count": 95,
   "id": "6694a3fa-5018-4b3c-88ba-878e369fccc8",
   "metadata": {},
   "outputs": [
    {
     "name": "stdout",
     "output_type": "stream",
     "text": [
      "[[1, 1, 0, 0], [1, 0, 1, 0], [1, 0, 0, 1], [0, 1, 1, 0], [0, 1, 0, 1], [0, 0, 1, 1]]\n"
     ]
    }
   ],
   "source": [
    "L = 4\n",
    "N0 = 2\n",
    "gj = [1, 1, 1, 1]\n",
    "basis = BasisCreator(L, N0, gj)\n",
    "print (basis)\n"
   ]
  }
 ],
 "metadata": {
  "kernelspec": {
   "display_name": "Python 3 (ipykernel)",
   "language": "python",
   "name": "python3"
  },
  "language_info": {
   "codemirror_mode": {
    "name": "ipython",
    "version": 3
   },
   "file_extension": ".py",
   "mimetype": "text/x-python",
   "name": "python",
   "nbconvert_exporter": "python",
   "pygments_lexer": "ipython3",
   "version": "3.10.12"
  }
 },
 "nbformat": 4,
 "nbformat_minor": 5
}
