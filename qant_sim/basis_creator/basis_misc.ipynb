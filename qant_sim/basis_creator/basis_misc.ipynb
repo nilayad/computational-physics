{
 "cells": [
  {
   "cell_type": "code",
   "execution_count": 36,
   "id": "6b45d33d-febd-492d-b21d-2972e79e8181",
   "metadata": {},
   "outputs": [
    {
     "name": "stdout",
     "output_type": "stream",
     "text": [
      "[0, 1, 2, 3]\n",
      "[(0, 1), (0, 2), (0, 3), (1, 2), (1, 3), (2, 3)]\n",
      "[-1, -1, -1, -1]\n"
     ]
    }
   ],
   "source": [
    "from itertools import combinations\n",
    "\n",
    "L=4\n",
    "sample_list = list(range(L))\n",
    "print(sample_list)\n",
    "for i in range(4) :\n",
    "    \n",
    "    spin_configs = list(combinations(sample_list , 2))\n",
    "latt = [-1]*N\n",
    "print(spin_configs)\n",
    "print(latt)\n"
   ]
  },
  {
   "cell_type": "code",
   "execution_count": 52,
   "id": "47d36636-ff8d-4649-a59b-833da254f6c5",
   "metadata": {},
   "outputs": [
    {
     "name": "stdout",
     "output_type": "stream",
     "text": [
      "[[1, 1, -1, -1], [1, -1, 1, -1], [1, -1, -1, 1], [-1, 1, 1, -1], [-1, 1, -1, 1], [-1, -1, 1, 1]]\n"
     ]
    }
   ],
   "source": [
    "    L=4\n",
    "    lattice_configs = []\n",
    "    sample_list = list(range(L))\n",
    "    for i in range(L) :\n",
    "        spin_configs = list(combinations(sample_list, 2))\n",
    "    for config in spin_configs:\n",
    "        lattice = [-1]*L\n",
    "        for ind in config:\n",
    "            lattice[ind] = 1\n",
    "        lattice_configs.append(lattice)\n",
    "    print(lattice_configs)\n",
    "        "
   ]
  },
  {
   "cell_type": "code",
   "execution_count": 61,
   "id": "ee7b64ac-b887-4ffb-befd-44ca3fb0b392",
   "metadata": {},
   "outputs": [
    {
     "name": "stdout",
     "output_type": "stream",
     "text": [
      "16\n"
     ]
    }
   ],
   "source": [
    "from itertools import product\n",
    "\n",
    "L = 4\n",
    "gauge_fields = list(product([1, -1], repeat=L))\n",
    "print(len(gauge_fields))\n"
   ]
  },
  {
   "cell_type": "code",
   "execution_count": null,
   "id": "2ec38e53-101a-42f0-bf7e-0dcc57eabd57",
   "metadata": {},
   "outputs": [],
   "source": [
    "def gauge_symm(lattices, gauge_fields):\n",
    "    kern=generate_binary_structure(1,1)\n",
    "    kern[1] = False\n",
    "    arr = -lattice * convolve(lattice, kern, mode='wrap')"
   ]
  },
  {
   "cell_type": "code",
   "execution_count": 90,
   "id": "bc35ea65-9a0f-475d-a3d2-bc2b9a42c59a",
   "metadata": {},
   "outputs": [],
   "source": [
    "def spin_config_fill(L,N0):\n",
    "    lattice_configs = []\n",
    "    \n",
    "    sample_list = list(range(L))\n",
    "    for i in range(L) :\n",
    "        spin_configs = list(combinations(sample_list, N0))\n",
    "    for config in spin_configs:\n",
    "        lattice = [-1]*L\n",
    "        for ind in config:\n",
    "            lattice[ind] = 1\n",
    "        lattice_configs.append(lattice)\n",
    "    return lattice_configs"
   ]
  },
  {
   "cell_type": "code",
   "execution_count": 94,
   "id": "9a0012d6-18d8-43a6-8875-eda684b26b8b",
   "metadata": {},
   "outputs": [
    {
     "data": {
      "text/plain": [
       "[[1, 1, -1, -1],\n",
       " [1, -1, 1, -1],\n",
       " [1, -1, -1, 1],\n",
       " [-1, 1, 1, -1],\n",
       " [-1, 1, -1, 1],\n",
       " [-1, -1, 1, 1]]"
      ]
     },
     "execution_count": 94,
     "metadata": {},
     "output_type": "execute_result"
    }
   ],
   "source": [
    "latt=spin_config_fill(4,2)\n",
    "latt"
   ]
  },
  {
   "cell_type": "code",
   "execution_count": 86,
   "id": "447aebb4-85b7-4e92-ba7f-60aa3270112c",
   "metadata": {},
   "outputs": [],
   "source": [
    "def BasisCreator(arg1= None,arg2= None, arg3= None):\n",
    "    if arg1 is not None:\n",
    "        spin = list(product([1, -1], repeat=arg1))\n",
    "        gauge = list(product([1, -1], repeat=arg1))\n",
    "        return list(product( spin, gauge))\n",
    "\n",
    "\n"
   ]
  },
  {
   "cell_type": "code",
   "execution_count": 87,
   "id": "33269eb6-3cc7-4e48-aee1-ccfbc361ce51",
   "metadata": {},
   "outputs": [
    {
     "data": {
      "text/plain": [
       "[((1, 1), (1, 1)),\n",
       " ((1, 1), (1, -1)),\n",
       " ((1, 1), (-1, 1)),\n",
       " ((1, 1), (-1, -1)),\n",
       " ((1, -1), (1, 1)),\n",
       " ((1, -1), (1, -1)),\n",
       " ((1, -1), (-1, 1)),\n",
       " ((1, -1), (-1, -1)),\n",
       " ((-1, 1), (1, 1)),\n",
       " ((-1, 1), (1, -1)),\n",
       " ((-1, 1), (-1, 1)),\n",
       " ((-1, 1), (-1, -1)),\n",
       " ((-1, -1), (1, 1)),\n",
       " ((-1, -1), (1, -1)),\n",
       " ((-1, -1), (-1, 1)),\n",
       " ((-1, -1), (-1, -1))]"
      ]
     },
     "execution_count": 87,
     "metadata": {},
     "output_type": "execute_result"
    }
   ],
   "source": [
    "l= BasisCreator(2)\n",
    "l"
   ]
  },
  {
   "cell_type": "code",
   "execution_count": 105,
   "id": "5ed956ff-56ac-4fa8-8416-a54115720c6d",
   "metadata": {},
   "outputs": [],
   "source": [
    "\n",
    "def BasisCreator(arg1= None,arg2= None, arg3= None):\n",
    "   \n",
    "    if arg1 is not None and arg2 is None and arg3 is None:\n",
    "        spin = list(product([1, -1], repeat=arg1))\n",
    "        gauge = list(product([1, -1], repeat=arg1))\n",
    "        return list(product(spin,gauge))\n",
    "                                \n",
    "    if arg1 is not None and arg2 is not None and arg3 is None:\n",
    "        lattice_configs = []\n",
    "        gauge = list(product([1, -1], repeat=arg1))\n",
    "        sample_list = list(range(arg1))\n",
    "        for i in range(arg1) :\n",
    "            spin_configs = list(combinations(sample_list, arg2))\n",
    "        for config in spin_configs:\n",
    "            lattice = [-1]*arg1\n",
    "            for ind in config:\n",
    "                lattice[ind] = 1\n",
    "            lattice_configs.append(lattice)\n",
    "        return list(product(lattice_configs,gauge))\n",
    "\n",
    "    if arg1 is not None and arg2 is not None and arg3 is not None:\n",
    "        \n",
    "        lattice_configs = []\n",
    "        gauge = list(product([1, -1], repeat=arg1))\n",
    "        sample_list = list(range(arg1))\n",
    "        for i in range(arg1) :\n",
    "            spin_configs = list(combinations(sample_list, arg2))\n",
    "        for config in spin_configs:\n",
    "            lattice = [-1]*arg1\n",
    "            for ind in config:\n",
    "                lattice[ind] = 1\n",
    "            lattice_configs.append(lattice)\n",
    "\n",
    "        for site_config in lattice_configs:\n",
    "            for gauge_field in gauge:\n",
    "                valid = True\n",
    "                for j in range(arg1):\n",
    "                    tau_prev = gauge_field[j - 1 if j > 0 else L - 1]\n",
    "                    tau_next = gauge_field[j]\n",
    "                    if -site_config[j] * tau_prev * tau_next != arg3[j]:\n",
    "                        valid = False\n",
    "                        break\n",
    "\n",
    "                if valid:\n",
    "                \n",
    "                    basis_states.append((site_config, gauge_field))\n",
    "\n",
    "    return basis_states"
   ]
  },
  {
   "cell_type": "code",
   "execution_count": 107,
   "id": "958862b4-e704-4f92-a9ab-f42112b31d3d",
   "metadata": {},
   "outputs": [
    {
     "data": {
      "text/plain": [
       "[((1, 1), (1, 1)),\n",
       " ((1, 1), (1, -1)),\n",
       " ((1, 1), (-1, 1)),\n",
       " ((1, 1), (-1, -1)),\n",
       " ((1, -1), (1, 1)),\n",
       " ((1, -1), (1, -1)),\n",
       " ((1, -1), (-1, 1)),\n",
       " ((1, -1), (-1, -1)),\n",
       " ((-1, 1), (1, 1)),\n",
       " ((-1, 1), (1, -1)),\n",
       " ((-1, 1), (-1, 1)),\n",
       " ((-1, 1), (-1, -1)),\n",
       " ((-1, -1), (1, 1)),\n",
       " ((-1, -1), (1, -1)),\n",
       " ((-1, -1), (-1, 1)),\n",
       " ((-1, -1), (-1, -1))]"
      ]
     },
     "execution_count": 107,
     "metadata": {},
     "output_type": "execute_result"
    }
   ],
   "source": [
    "basis= BasisCreator(2)\n",
    "basis"
   ]
  },
  {
   "cell_type": "code",
   "execution_count": 5,
   "id": "0a52fec8-bd90-4bdf-a8ae-57929867f909",
   "metadata": {},
   "outputs": [
    {
     "ename": "NameError",
     "evalue": "name 'N0' is not defined",
     "output_type": "error",
     "traceback": [
      "\u001b[0;31m---------------------------------------------------------------------------\u001b[0m",
      "\u001b[0;31mNameError\u001b[0m                                 Traceback (most recent call last)",
      "Cell \u001b[0;32mIn[5], line 10\u001b[0m\n\u001b[1;32m      6\u001b[0m \u001b[38;5;28;01mfrom\u001b[39;00m \u001b[38;5;21;01mitertools\u001b[39;00m \u001b[38;5;28;01mimport\u001b[39;00m combinations\n\u001b[1;32m      8\u001b[0m L\u001b[38;5;241m=\u001b[39m\u001b[38;5;241m4\u001b[39m\n\u001b[0;32m---> 10\u001b[0m spin_configs \u001b[38;5;241m=\u001b[39m \u001b[38;5;28mlist\u001b[39m(combinations(L, \u001b[43mN0\u001b[49m))\n\u001b[1;32m     11\u001b[0m \u001b[38;5;28mprint\u001b[39m (spin_configs)\n\u001b[1;32m     14\u001b[0m init_random \u001b[38;5;241m=\u001b[39m np\u001b[38;5;241m.\u001b[39mrandom\u001b[38;5;241m.\u001b[39mrandom((N))\n",
      "\u001b[0;31mNameError\u001b[0m: name 'N0' is not defined"
     ]
    }
   ],
   "source": [
    "import numpy as np\n",
    "import matplotlib.pyplot as plt\n",
    "import numba\n",
    "from numba import njit\n",
    "from scipy.ndimage import convolve, generate_binary_structure\n",
    "from itertools import combinations, product\n",
    "\n",
    "def BasisCreator(arg1= None,arg2= None, arg3= None):\n",
    "   \n",
    "    if arg1 is not None and arg2 is None and arg3 is None:\n",
    "        spin = list(product([1, -1], repeat=arg1))\n",
    "        gauge = list(product([1, -1], repeat=arg1))\n",
    "        return list(product(spin,gauge))\n",
    "                                \n",
    "    if arg1 is not None and arg2 is not None and arg3 is None:\n",
    "        lattice_configs = []\n",
    "        gauge = list(product([1, -1], repeat=arg1))\n",
    "        sample_list = list(range(arg1))\n",
    "        for i in range(arg1) :\n",
    "            spin_configs = list(combinations(sample_list, arg2))\n",
    "        for config in spin_configs:\n",
    "            lattice = [-1]*arg1\n",
    "            for ind in config:\n",
    "                lattice[ind] = 1\n",
    "            lattice_configs.append(lattice)\n",
    "        return list(product(lattice_configs,gauge)\n",
    "\n",
    "    if arg1 is not None and arg2 is not None and arg3 is None:\n",
    "        \n",
    "        lattice_configs = []\n",
    "        gauge = list(product([1, -1], repeat=arg1))\n",
    "        sample_list = list(range(arg1))\n",
    "        for i in range(arg1) :\n",
    "            spin_configs = list(combinations(sample_list, arg2))\n",
    "        for config in spin_configs:\n",
    "            lattice = [-1]*arg1\n",
    "            for ind in config:\n",
    "                lattice[ind] = 1\n",
    "            lattice_configs.append(lattice)\n",
    "\n",
    "        for site_config in latice_configs:\n",
    "            for gauge_field in gauge:\n",
    "                valid = True\n",
    "                for j in range(arg1):\n",
    "                    tau_prev = gauge_field[j - 1 if j > 0 else L - 1]\n",
    "                    tau_next = gauge_field[j]\n",
    "                    if -site_config[j] * tau_prev * tau_next != arg3[j]:\n",
    "                        valid = False\n",
    "                        break\n",
    "\n",
    "                if valid:\n",
    "                \n",
    "                    basis_states.append((site_config, gauge_field))\n",
    "\n",
    "    return basis_states\n",
    "    \n",
    "        \n",
    "def all_spin_configs(L):\n",
    "    return list(product([1, -1], repeat=L))\n",
    "\n",
    "def all_gauge_configs(L):\n",
    "    return list(product([1, -1], repeat=L))\n",
    "\n",
    "def spin_config_fill(L,N0):\n",
    "    lattice_configs = []\n",
    "    sample_list = list(range(L))\n",
    "    for i in range(L) :\n",
    "        spin_configs = list(combinations(sample_list, arg2))\n",
    "    for config in spin_configs:\n",
    "        lattice = [-1]*L\n",
    "        for ind in config:\n",
    "            lattice[ind] = 1\n",
    "        lattice_configs.append(lattice)\n",
    "    return lattice_configs\n",
    "\n",
    "\n",
    "def BasisCreator(L, N0, gj):\n",
    "    lattice_configs = []\n",
    "    L=4\n",
    "    sample_list = list(range(L))\n",
    "    for i in range(L) :\n",
    "        spin_configs = list(combinations(sample_list, N0))\n",
    "    for config in spin_configs:\n",
    "        lattice = [-1]*L\n",
    "        for ind in config:\n",
    "            lattice[ind] = 1\n",
    "        lattice_configs.append(lattice)\n",
    "    print(lattice_configs)\n",
    "\n",
    "    gauge_fields = list(product([1, -1], repeat=L))\n",
    "\n",
    "    for g_f in gauge_fields:\n",
    "        for j in L:\n",
    "            tau_n = g_f[j-1\n",
    "    \n",
    "\n",
    "\n",
    "    basis_states.append(lattice)\n"
   ]
  }
 ],
 "metadata": {
  "kernelspec": {
   "display_name": "Python 3 (ipykernel)",
   "language": "python",
   "name": "python3"
  },
  "language_info": {
   "codemirror_mode": {
    "name": "ipython",
    "version": 3
   },
   "file_extension": ".py",
   "mimetype": "text/x-python",
   "name": "python",
   "nbconvert_exporter": "python",
   "pygments_lexer": "ipython3",
   "version": "3.10.12"
  }
 },
 "nbformat": 4,
 "nbformat_minor": 5
}
