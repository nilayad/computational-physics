{
 "cells": [
  {
   "cell_type": "code",
   "execution_count": 4,
   "id": "5e1c68b4-fa20-4549-8633-b8f7e51cc6a5",
   "metadata": {},
   "outputs": [],
   "source": [
    "from itertools import combinations, product\n",
    "\n",
    "def BasisCreator(L, N0, gj):\n",
    "    basis_states = []\n",
    "\n",
    "    # Generate all possible spin configurations with N0 particles\n",
    "    spin_configs = list(combinations(range(L), N0))\n",
    "\n",
    "    # Iterate over each spin configuration\n",
    "    for config in spin_configs:\n",
    "        spin_state = [-1] * L  # Initialize all spins to -1\n",
    "        for index in config:\n",
    "            spin_state[index] = 1  # Set spins in the config to +1\n",
    "\n",
    "        # Now generate all possible gauge field configurations\n",
    "        # Each gauge field tau^x can be either +1 or -1\n",
    "        gauge_fields = list(product([1, -1], repeat=L))\n",
    "\n",
    "        for gauge_field in gauge_fields:\n",
    "            valid = True\n",
    "\n",
    "            # Check if the configuration satisfies g_j = +1 for all j\n",
    "            for j in range(L):\n",
    "                # Handle periodic boundary conditions\n",
    "                tau_prev = gauge_field[j - 1 if j > 0 else L - 1]\n",
    "                tau_next = gauge_field[j]\n",
    "                if -spin_state[j] * tau_prev * tau_next != gj[j]:\n",
    "                    valid = False\n",
    "                    break\n",
    "\n",
    "            if valid:\n",
    "                # Store the valid (spin, gauge) configuration\n",
    "                basis_states.append((spin_state, gauge_field))\n",
    "\n",
    "    return basis_states\n",
    "\n",
    "# Example usage:\n",
    "\n"
   ]
  },
  {
   "cell_type": "code",
   "execution_count": 8,
   "id": "c60c7395-2e6c-4f0b-b6e0-e3c7502f6282",
   "metadata": {},
   "outputs": [],
   "source": [
    "L = 4\n",
    "N0 = 2\n",
    "gj = [1, 1, 1, 1]\n",
    "basis = BasisCreator(L, N0, gj)\n"
   ]
  },
  {
   "cell_type": "code",
   "execution_count": 9,
   "id": "7d0d7fd2-a493-4c30-966f-5711b2a17cad",
   "metadata": {},
   "outputs": [
    {
     "data": {
      "text/plain": [
       "[([1, 1, -1, -1], (1, -1, -1, -1)),\n",
       " ([1, 1, -1, -1], (-1, 1, 1, 1)),\n",
       " ([1, -1, 1, -1], (1, 1, -1, -1)),\n",
       " ([1, -1, 1, -1], (-1, -1, 1, 1)),\n",
       " ([1, -1, -1, 1], (1, 1, 1, -1)),\n",
       " ([1, -1, -1, 1], (-1, -1, -1, 1)),\n",
       " ([-1, 1, 1, -1], (1, -1, 1, 1)),\n",
       " ([-1, 1, 1, -1], (-1, 1, -1, -1)),\n",
       " ([-1, 1, -1, 1], (1, -1, -1, 1)),\n",
       " ([-1, 1, -1, 1], (-1, 1, 1, -1)),\n",
       " ([-1, -1, 1, 1], (1, 1, -1, 1)),\n",
       " ([-1, -1, 1, 1], (-1, -1, 1, -1))]"
      ]
     },
     "execution_count": 9,
     "metadata": {},
     "output_type": "execute_result"
    }
   ],
   "source": [
    "basis"
   ]
  }
 ],
 "metadata": {
  "kernelspec": {
   "display_name": "Python 3 (ipykernel)",
   "language": "python",
   "name": "python3"
  },
  "language_info": {
   "codemirror_mode": {
    "name": "ipython",
    "version": 3
   },
   "file_extension": ".py",
   "mimetype": "text/x-python",
   "name": "python",
   "nbconvert_exporter": "python",
   "pygments_lexer": "ipython3",
   "version": "3.10.12"
  }
 },
 "nbformat": 4,
 "nbformat_minor": 5
}
