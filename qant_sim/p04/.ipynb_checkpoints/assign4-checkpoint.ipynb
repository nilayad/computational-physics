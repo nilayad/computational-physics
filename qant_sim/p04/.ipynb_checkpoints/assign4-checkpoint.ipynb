{
 "cells": [
  {
   "cell_type": "code",
   "execution_count": 18,
   "id": "d7981120-4005-40ea-8be7-d00b24e21c29",
   "metadata": {},
   "outputs": [],
   "source": [
    "from itertools import product, combinations\n",
    "import numpy as np\n",
    "import matplotlib.pyplot as plt\n",
    "from matplotlib.colors import ListedColormap\n",
    "#from numba import njit, jit\n",
    "from scipy.linalg import expm\n",
    "import sympy as sp\n",
    "from sympy import Matrix \n",
    "import math\n",
    "from sympy import simplify"
   ]
  },
  {
   "cell_type": "code",
   "execution_count": 2,
   "id": "9156bbf0-04aa-4fca-8959-5fdcf95180c7",
   "metadata": {},
   "outputs": [],
   "source": [
    "# create computational basis for the system\n",
    "\n",
    "\n",
    "def BasisCreator(arg1=None, arg2=None, arg3=None):\n",
    "    basis_states = []\n",
    "    \n",
    "    if arg1 is not None and arg2 is None and arg3 is None:\n",
    "        spin = list(product([1, -1], repeat=arg1))\n",
    "        gauge = list(product([1, -1], repeat=arg1))\n",
    "        return list(product(spin, gauge))\n",
    "    \n",
    "    if arg1 is not None and arg2 is not None and arg3 is None:\n",
    "        lattice_configs = []\n",
    "        gauge = list(product([1, -1], repeat=arg1))\n",
    "        sample_list = list(range(arg1))\n",
    "        for spin_configs in combinations(sample_list, arg2):\n",
    "            lattice = [-1] * arg1\n",
    "            for ind in spin_configs:\n",
    "                lattice[ind] = 1\n",
    "            lattice_configs.append(lattice)\n",
    "        return list(product(lattice_configs, gauge))\n",
    "    \n",
    "    if arg1 is not None and arg2 is not None and arg3 is not None:\n",
    "        lattice_configs = []\n",
    "        gauge = list(product([1, -1], repeat=arg1))\n",
    "        sample_list = list(range(arg1))\n",
    "        for spin_configs in combinations(sample_list, arg2):\n",
    "            lattice = [-1] * arg1\n",
    "            for ind in spin_configs:\n",
    "                lattice[ind] = 1\n",
    "            lattice_configs.append(lattice)\n",
    "\n",
    "        for site_config in lattice_configs:\n",
    "            for gauge_field in gauge:\n",
    "                valid = True\n",
    "                for j in range(arg1):\n",
    "                    tau_prev = gauge_field[j - 1 if j > 0 else arg1 - 1]\n",
    "                    tau_next = gauge_field[j]\n",
    "                    if -site_config[j] * tau_prev * tau_next != arg3[j]:\n",
    "                        valid = False\n",
    "                        break\n",
    "                if valid:\n",
    "                    basis_states.append((site_config, gauge_field))\n",
    "        return basis_states\n",
    "    \n",
    "    return basis_states\n"
   ]
  },
  {
   "cell_type": "code",
   "execution_count": 3,
   "id": "ed0b88b1-c199-4dba-9916-5ef89f7db41b",
   "metadata": {},
   "outputs": [
    {
     "name": "stdout",
     "output_type": "stream",
     "text": [
      "no. of basis states are 12  \n"
     ]
    }
   ],
   "source": [
    "#basis = BasisCreator(8,4,[1]*8)\n",
    "basis = BasisCreator(4,2,[1]*4)\n",
    "print(\"no. of basis states are {}  \".format( len(basis)))\n",
    "bases = [(list(state[0]), list(state[1])) for state in basis]"
   ]
  },
  {
   "cell_type": "code",
   "execution_count": 4,
   "id": "1d9fba95-a3a4-43b5-8ed7-10635dc58991",
   "metadata": {},
   "outputs": [],
   "source": [
    "#define hamiltonian\n",
    "def Ham(initial_stat, h ) :\n",
    "    \n",
    "    start_state = list(initial_stat).copy()\n",
    "    site_0 = list(start_state[0])\n",
    "    field_0 = list(start_state[1])\n",
    "\n",
    "    for j in range(len(site_0)):\n",
    "        ft = field_0[j]\n",
    "        s = site_0[j]\n",
    "        t_1 = j+1 if (j+1)< len(site_0) else 0\n",
    "        s_1 = site_0[t_1]\n",
    "        if s*s_1 == -1 :\n",
    "                                     \n",
    "            site_0[j] = -s\n",
    "            site_0[t_1] = -s_1\n",
    "            field_0[j] = -ft\n",
    "        \n",
    "    return site_0, field_0 \n",
    "    \n",
    "    "
   ]
  },
  {
   "cell_type": "code",
   "execution_count": 62,
   "id": "86e7ef88-a808-4e66-9479-8b8c427b1793",
   "metadata": {},
   "outputs": [],
   "source": [
    "# create the hamiltonian matrix\n",
    "def h_mat(h):\n",
    "    new_state = []\n",
    "    \n",
    "    position = []\n",
    "    tau_mat = []\n",
    "    tau = int()\n",
    "    ham_1 = np.zeros((len(basis), len(basis)))\n",
    "    for i in range(len(bases)):\n",
    "        n_site, n_field = Ham(bases[i], h)\n",
    "        tau  = np.sum(n_field)\n",
    "        tau2 = h*tau\n",
    "        tau_mat.append(tau2)\n",
    "        new_s = (n_site,n_field)\n",
    "        new_state.append(new_s)\n",
    "        try:\n",
    "            index = bases.index(new_s)\n",
    "            position.append([i,index])\n",
    "        except ValueError:\n",
    "            pass\n",
    "    max_row = max(pair[1] for pair in position)\n",
    "    max_col = max(pair[0] for pair in position)\n",
    "    ham_2 = np.diag(tau_mat)\n",
    "    for (j, i) in position:\n",
    "        ham_1[i, j] = 1\n",
    "\n",
    "    Ham_mat = ham_1 + ham_2\n",
    "    ham_mat = sp.Matrix(Ham_mat)\n",
    "\n",
    "    return Ham_mat\n",
    "\n",
    "#_______________________\n",
    "\n",
    "    \n"
   ]
  },
  {
   "cell_type": "code",
   "execution_count": 6,
   "id": "e293d7a3-fffe-4568-88d9-2c4f47c44acb",
   "metadata": {},
   "outputs": [],
   "source": [
    "\n",
    "def evolstates(j_0, dt, h):\n",
    "    rho0 = sp.eye(len(bases))\n",
    "    n = len(bases)\n",
    "    j = j_0\n",
    "    psij = Matrix([1 if i == j else 0 for i in range(n)])\n",
    "    hmat = h_mat(h)\n",
    "    hmatnp = sp.Matrix(hmat)\n",
    "    p_mat, d_mat = hmatnp.diagonalize()\n",
    "    rho0_p = p_mat*rho0\n",
    "    u1 = sp.exp(-1j*d_mat*dt) \n",
    "    u1d = sp.exp(1j*d_mat*dt)\n",
    "    rhot = u1d * rho0_p * u1\n",
    "    evs1 = rhot*psij\n",
    "    state_t = sp.simplify(evs1)\n",
    "    \n",
    "    return state_t "
   ]
  },
  {
   "cell_type": "code",
   "execution_count": 9,
   "id": "566a6d82-58d6-443a-a47e-500035e316e3",
   "metadata": {},
   "outputs": [],
   "source": [
    "#def sigz(j_0, state_t):\n",
    "    \n",
    "sites, fields = extract_site_config_and_gauge_field(bases)\n",
    "sig = []\n",
    "sigi=int()\n",
    "for i in range(len(sites)):\n",
    "    st = sites[i]\n",
    "    for t in range(len(sites[i])):\n",
    "        \n",
    "        sigi += (pow(-1,t))*st[t]/len(st)\n",
    "    sig.append(sigi) \n",
    "    sigz = sp.Matrix(sig)\n",
    "    \n",
    "\n",
    "sigt = list(sigz)\n",
    "sig_mat = np.diag(sigt)\n",
    "sigz_t = sigz.transpose()\n",
    "#sigmaz = state_t * sigz\n",
    " #   return sigmaz\n",
    "    "
   ]
  },
  {
   "cell_type": "code",
   "execution_count": 60,
   "id": "cc3159ea-c810-49dc-8c79-8b5c8d4a20f4",
   "metadata": {},
   "outputs": [
    {
     "data": {
      "text/plain": [
       "1.0"
      ]
     },
     "execution_count": 60,
     "metadata": {},
     "output_type": "execute_result"
    }
   ],
   "source": [
    "hat4[0,4]"
   ]
  },
  {
   "cell_type": "code",
   "execution_count": 63,
   "id": "f08adb4a-c1ef-4dbe-9ce2-f5d5e4564b6d",
   "metadata": {},
   "outputs": [],
   "source": [
    "hat4 = h_mat(0)"
   ]
  },
  {
   "cell_type": "code",
   "execution_count": 64,
   "id": "a1510295-34f0-45db-ad3d-f01e1ae55334",
   "metadata": {},
   "outputs": [
    {
     "data": {
      "text/latex": [
       "$\\displaystyle \\left[\\begin{array}{cccccccccccc}0 & 0 & 0 & 1.0 & 0 & 0 & 0 & 0 & 0 & 0 & 0 & 0\\\\0 & 0 & 1.0 & 0 & 0 & 0 & 0 & 0 & 0 & 0 & 0 & 0\\\\0 & 0 & 0 & 0 & 0 & 1.0 & 0 & 0 & 0 & 0 & 0 & 0\\\\0 & 0 & 0 & 0 & 1.0 & 0 & 0 & 0 & 0 & 0 & 0 & 0\\\\1.0 & 0 & 0 & 0 & 0 & 0 & 0 & 0 & 0 & 0 & 0 & 0\\\\0 & 1.0 & 0 & 0 & 0 & 0 & 0 & 0 & 0 & 0 & 0 & 0\\\\0 & 0 & 0 & 0 & 0 & 0 & 0 & 0 & 0 & 0 & 1.0 & 0\\\\0 & 0 & 0 & 0 & 0 & 0 & 0 & 0 & 0 & 0 & 0 & 1.0\\\\0 & 0 & 0 & 0 & 0 & 0 & 0 & 1.0 & 0 & 0 & 0 & 0\\\\0 & 0 & 0 & 0 & 0 & 0 & 1.0 & 0 & 0 & 0 & 0 & 0\\\\0 & 0 & 0 & 0 & 0 & 0 & 0 & 0 & 0 & 1.0 & 0 & 0\\\\0 & 0 & 0 & 0 & 0 & 0 & 0 & 0 & 1.0 & 0 & 0 & 0\\end{array}\\right]$"
      ],
      "text/plain": [
       "Matrix([\n",
       "[  0,   0,   0, 1.0,   0,   0,   0,   0,   0,   0,   0,   0],\n",
       "[  0,   0, 1.0,   0,   0,   0,   0,   0,   0,   0,   0,   0],\n",
       "[  0,   0,   0,   0,   0, 1.0,   0,   0,   0,   0,   0,   0],\n",
       "[  0,   0,   0,   0, 1.0,   0,   0,   0,   0,   0,   0,   0],\n",
       "[1.0,   0,   0,   0,   0,   0,   0,   0,   0,   0,   0,   0],\n",
       "[  0, 1.0,   0,   0,   0,   0,   0,   0,   0,   0,   0,   0],\n",
       "[  0,   0,   0,   0,   0,   0,   0,   0,   0,   0, 1.0,   0],\n",
       "[  0,   0,   0,   0,   0,   0,   0,   0,   0,   0,   0, 1.0],\n",
       "[  0,   0,   0,   0,   0,   0,   0, 1.0,   0,   0,   0,   0],\n",
       "[  0,   0,   0,   0,   0,   0, 1.0,   0,   0,   0,   0,   0],\n",
       "[  0,   0,   0,   0,   0,   0,   0,   0,   0, 1.0,   0,   0],\n",
       "[  0,   0,   0,   0,   0,   0,   0,   0, 1.0,   0,   0,   0]])"
      ]
     },
     "execution_count": 64,
     "metadata": {},
     "output_type": "execute_result"
    }
   ],
   "source": [
    "sp.Matrix(hat4)"
   ]
  },
  {
   "cell_type": "code",
   "execution_count": 72,
   "id": "6d55ebdc-998a-423b-ba64-16c50dccc360",
   "metadata": {},
   "outputs": [
    {
     "data": {
      "text/plain": [
       "[([1, 1, -1, -1], (1, -1, -1, -1)),\n",
       " ([1, 1, -1, -1], (-1, 1, 1, 1)),\n",
       " ([1, -1, 1, -1], (1, 1, -1, -1)),\n",
       " ([1, -1, 1, -1], (-1, -1, 1, 1)),\n",
       " ([1, -1, -1, 1], (1, 1, 1, -1)),\n",
       " ([1, -1, -1, 1], (-1, -1, -1, 1)),\n",
       " ([-1, 1, 1, -1], (1, -1, 1, 1)),\n",
       " ([-1, 1, 1, -1], (-1, 1, -1, -1)),\n",
       " ([-1, 1, -1, 1], (1, -1, -1, 1)),\n",
       " ([-1, 1, -1, 1], (-1, 1, 1, -1)),\n",
       " ([-1, -1, 1, 1], (1, 1, -1, 1)),\n",
       " ([-1, -1, 1, 1], (-1, -1, 1, -1))]"
      ]
     },
     "execution_count": 72,
     "metadata": {},
     "output_type": "execute_result"
    }
   ],
   "source": [
    "basis"
   ]
  },
  {
   "cell_type": "code",
   "execution_count": 77,
   "id": "5951d429-d5b5-45bf-bbb7-24c77af6809b",
   "metadata": {},
   "outputs": [],
   "source": [
    "st2 = Ham(bases[0], 0)"
   ]
  },
  {
   "cell_type": "code",
   "execution_count": 90,
   "id": "f121c20a-6c6b-4484-b217-d2b7840e3bf4",
   "metadata": {},
   "outputs": [
    {
     "name": "stdout",
     "output_type": "stream",
     "text": [
      "([-1, 1, 1, -1], [-1, 1, -1, -1])\n",
      "([-1, -1, 1, 1], [-1, -1, 1, -1])\n",
      "7\n"
     ]
    }
   ],
   "source": [
    "j =11\n",
    "st2 = Ham(bases[j], 0)\n",
    "print(st2 )\n",
    "print(bases[j])\n",
    "inx = bases.index(st2)\n",
    "print(inx)"
   ]
  },
  {
   "cell_type": "code",
   "execution_count": 68,
   "id": "edcbd798-16c8-4fa2-b29e-782a7f54edcb",
   "metadata": {},
   "outputs": [],
   "source": [
    "hat4sp = sp.Matrix(hat4)"
   ]
  },
  {
   "cell_type": "code",
   "execution_count": 71,
   "id": "fbbc80ec-4d56-460f-bf50-fde3c1eaefd6",
   "metadata": {},
   "outputs": [
    {
     "data": {
      "text/latex": [
       "$\\displaystyle \\left[\\begin{array}{cccccccccccc}-0.5 - 0.866025403784439 i & 0 & 0 & 0 & 0 & 0 & 0 & 0 & 0 & 0 & 0 & 0\\\\0 & -0.5 + 0.866025403784439 i & 0 & 0 & 0 & 0 & 0 & 0 & 0 & 0 & 0 & 0\\\\0 & 0 & 1.0 & 0 & 0 & 0 & 0 & 0 & 0 & 0 & 0 & 0\\\\0 & 0 & 0 & 1.0 + 1.64024101203819 \\cdot 10^{-128} i & 0 & 0 & 0 & 0 & 0 & 0 & 0 & 0\\\\0 & 0 & 0 & 0 & -0.5 - 0.866025403784439 i & 0 & 0 & 0 & 0 & 0 & 0 & 0\\\\0 & 0 & 0 & 0 & 0 & -0.5 + 0.866025403784439 i & 0 & 0 & 0 & 0 & 0 & 0\\\\0 & 0 & 0 & 0 & 0 & 0 & -0.5 - 0.866025403784439 i & 0 & 0 & 0 & 0 & 0\\\\0 & 0 & 0 & 0 & 0 & 0 & 0 & -0.5 + 0.866025403784439 i & 0 & 0 & 0 & 0\\\\0 & 0 & 0 & 0 & 0 & 0 & 0 & 0 & 1.0 & 0 & 0 & 0\\\\0 & 0 & 0 & 0 & 0 & 0 & 0 & 0 & 0 & 1.0 + 1.64024101203819 \\cdot 10^{-128} i & 0 & 0\\\\0 & 0 & 0 & 0 & 0 & 0 & 0 & 0 & 0 & 0 & -0.5 - 0.866025403784439 i & 0\\\\0 & 0 & 0 & 0 & 0 & 0 & 0 & 0 & 0 & 0 & 0 & -0.5 + 0.866025403784439 i\\end{array}\\right]$"
      ],
      "text/plain": [
       "Matrix([\n",
       "[-0.5 - 0.866025403784439*I,                          0,   0,                             0,                          0,                          0,                          0,                          0,   0,                             0,                          0,                          0],\n",
       "[                         0, -0.5 + 0.866025403784439*I,   0,                             0,                          0,                          0,                          0,                          0,   0,                             0,                          0,                          0],\n",
       "[                         0,                          0, 1.0,                             0,                          0,                          0,                          0,                          0,   0,                             0,                          0,                          0],\n",
       "[                         0,                          0,   0, 1.0 + 1.64024101203819e-128*I,                          0,                          0,                          0,                          0,   0,                             0,                          0,                          0],\n",
       "[                         0,                          0,   0,                             0, -0.5 - 0.866025403784439*I,                          0,                          0,                          0,   0,                             0,                          0,                          0],\n",
       "[                         0,                          0,   0,                             0,                          0, -0.5 + 0.866025403784439*I,                          0,                          0,   0,                             0,                          0,                          0],\n",
       "[                         0,                          0,   0,                             0,                          0,                          0, -0.5 - 0.866025403784439*I,                          0,   0,                             0,                          0,                          0],\n",
       "[                         0,                          0,   0,                             0,                          0,                          0,                          0, -0.5 + 0.866025403784439*I,   0,                             0,                          0,                          0],\n",
       "[                         0,                          0,   0,                             0,                          0,                          0,                          0,                          0, 1.0,                             0,                          0,                          0],\n",
       "[                         0,                          0,   0,                             0,                          0,                          0,                          0,                          0,   0, 1.0 + 1.64024101203819e-128*I,                          0,                          0],\n",
       "[                         0,                          0,   0,                             0,                          0,                          0,                          0,                          0,   0,                             0, -0.5 - 0.866025403784439*I,                          0],\n",
       "[                         0,                          0,   0,                             0,                          0,                          0,                          0,                          0,   0,                             0,                          0, -0.5 + 0.866025403784439*I]])"
      ]
     },
     "execution_count": 71,
     "metadata": {},
     "output_type": "execute_result"
    }
   ],
   "source": [
    "d4"
   ]
  },
  {
   "cell_type": "code",
   "execution_count": 70,
   "id": "b394846f-dfe3-4f81-94a2-bb3da1ccba68",
   "metadata": {},
   "outputs": [],
   "source": [
    "p4, d4 = hat4sp.diagonalize()"
   ]
  },
  {
   "cell_type": "code",
   "execution_count": 349,
   "id": "409c3904-5085-4551-b2d3-21a3ffc163ed",
   "metadata": {},
   "outputs": [
    {
     "data": {
      "text/latex": [
       "$\\displaystyle \\left[\\begin{matrix}1.28108512330171 + 0.657557895682452 i\\end{matrix}\\right]$"
      ],
      "text/plain": [
       "Matrix([[1.28108512330171 + 0.657557895682452*I]])"
      ]
     },
     "execution_count": 349,
     "metadata": {},
     "output_type": "execute_result"
    }
   ],
   "source": [
    "sigz_t * evs1"
   ]
  },
  {
   "cell_type": "code",
   "execution_count": 8,
   "id": "5fa0f338-79b0-45a8-b99d-f749068a73f7",
   "metadata": {},
   "outputs": [],
   "source": [
    "def extract_site_config_and_gauge_field(basis_states):\n",
    "    site_configs = [state[0] for state in basis_states]\n",
    "    gauge_fields = [state[1] for state in basis_states]\n",
    "    return ( site_configs, gauge_fields)"
   ]
  },
  {
   "cell_type": "code",
   "execution_count": 347,
   "id": "ce88dd7f-6973-4ada-a55e-1d8d6b9ce525",
   "metadata": {},
   "outputs": [
    {
     "data": {
      "text/latex": [
       "$\\displaystyle \\left[\\begin{matrix}1.28108512330171 + 0.657557895682452 i\\end{matrix}\\right]$"
      ],
      "text/plain": [
       "Matrix([[1.28108512330171 + 0.657557895682452*I]])"
      ]
     },
     "execution_count": 347,
     "metadata": {},
     "output_type": "execute_result"
    }
   ],
   "source": [
    "evs0 = evolstates(5, 1, 1)\n",
    "sp.simplify(sigz_t*evs1 )"
   ]
  },
  {
   "cell_type": "code",
   "execution_count": 632,
   "id": "d0ade18f-f7ff-46e7-987f-8052900099b6",
   "metadata": {},
   "outputs": [
    {
     "data": {
      "text/latex": [
       "$\\displaystyle \\left[\\begin{array}{cccccccccccc}0 & 0 & 0 & 0 & 0 & 0 & 0 & 0 & 0 & 0 & 0 & 0\\\\0 & 0 & 0 & 0 & 0 & 0 & 0 & 0 & 0 & 0 & 0 & 0\\\\0 & 0 & 1.0 & 0 & 0 & 0 & 0 & 0 & 0 & 0 & 0 & 0\\\\0 & 0 & 0 & 2.0 & 0 & 0 & 0 & 0 & 0 & 0 & 0 & 0\\\\0 & 0 & 0 & 0 & 2.0 & 0 & 0 & 0 & 0 & 0 & 0 & 0\\\\0 & 0 & 0 & 0 & 0 & 2.0 & 0 & 0 & 0 & 0 & 0 & 0\\\\0 & 0 & 0 & 0 & 0 & 0 & 2.0 & 0 & 0 & 0 & 0 & 0\\\\0 & 0 & 0 & 0 & 0 & 0 & 0 & 2.0 & 0 & 0 & 0 & 0\\\\0 & 0 & 0 & 0 & 0 & 0 & 0 & 0 & 1.0 & 0 & 0 & 0\\\\0 & 0 & 0 & 0 & 0 & 0 & 0 & 0 & 0 & 0 & 0 & 0\\\\0 & 0 & 0 & 0 & 0 & 0 & 0 & 0 & 0 & 0 & 0 & 0\\\\0 & 0 & 0 & 0 & 0 & 0 & 0 & 0 & 0 & 0 & 0 & 0\\end{array}\\right]$"
      ],
      "text/plain": [
       "Matrix([\n",
       "[0, 0,   0,   0,   0,   0,   0,   0,   0, 0, 0, 0],\n",
       "[0, 0,   0,   0,   0,   0,   0,   0,   0, 0, 0, 0],\n",
       "[0, 0, 1.0,   0,   0,   0,   0,   0,   0, 0, 0, 0],\n",
       "[0, 0,   0, 2.0,   0,   0,   0,   0,   0, 0, 0, 0],\n",
       "[0, 0,   0,   0, 2.0,   0,   0,   0,   0, 0, 0, 0],\n",
       "[0, 0,   0,   0,   0, 2.0,   0,   0,   0, 0, 0, 0],\n",
       "[0, 0,   0,   0,   0,   0, 2.0,   0,   0, 0, 0, 0],\n",
       "[0, 0,   0,   0,   0,   0,   0, 2.0,   0, 0, 0, 0],\n",
       "[0, 0,   0,   0,   0,   0,   0,   0, 1.0, 0, 0, 0],\n",
       "[0, 0,   0,   0,   0,   0,   0,   0,   0, 0, 0, 0],\n",
       "[0, 0,   0,   0,   0,   0,   0,   0,   0, 0, 0, 0],\n",
       "[0, 0,   0,   0,   0,   0,   0,   0,   0, 0, 0, 0]])"
      ]
     },
     "execution_count": 632,
     "metadata": {},
     "output_type": "execute_result"
    }
   ],
   "source": [
    "\n",
    "sigt = list(sigz)\n",
    "sig_mat = np.diag(sigt)\n",
    "sig_mat= sp.Matrix(sig_mat)\n",
    "sig_mat"
   ]
  },
  {
   "cell_type": "code",
   "execution_count": 633,
   "id": "b6a70cdb-4ac7-4164-95dd-7d77892baca7",
   "metadata": {},
   "outputs": [
    {
     "data": {
      "text/latex": [
       "$\\displaystyle \\left[\\begin{array}{cccccccccccc}1.0 & 0.144098145370737 & -0.228786537764133 & 0 & 0 & 0 & 0 & 0 & 0 & 0 & 0 & 0\\\\0.144098145370737 & 1.02076427549929 & -0.326377458880999 & 0 & 0 & 0 & 0 & 0 & 0 & 0 & 0 & 0\\\\-0.228786537764133 & -0.326377458880999 & 1.1384325572101 & 0 & 0 & 0 & 0 & 0 & 0 & 0 & 0 & 0\\\\0 & 0 & 0 & 1.0 & -0.0837651985564084 & -0.300396882845785 & 0 & 0 & 0 & 0 & 0 & 0\\\\0 & 0 & 0 & -0.0837651985564084 & 1.00701660848919 & -0.194369129327989 & 0 & 0 & 0 & 0 & 0 & 0\\\\0 & 0 & 0 & -0.300396882845785 & -0.194369129327989 & 1.1384325572101 & 0 & 0 & 0 & 0 & 0 & 0\\\\0 & 0 & 0 & 0 & 0 & 0 & 1.0 & -0.44237784879508 & -0.184184817974981 & 0 & 0 & 0\\\\0 & 0 & 0 & 0 & 0 & 0 & -0.44237784879508 & 1.19569816110456 & 0.857506259057261 & 0 & 0 & 0\\\\0 & 0 & 0 & 0 & 0 & 0 & -0.184184817974981 & 0.857506259057261 & 1.63614191387736 & 0 & 0 & 0\\\\0 & 0 & 0 & 0 & 0 & 0 & 0 & 0 & 0 & 1.0 & 0.122544239220062 + 0.135786782823627 i & 0.192408764473751 - 0.132987757226204 i\\\\0 & 0 & 0 & 0 & 0 & 0 & 0 & 0 & 0 & 0.122544239220062 - 0.135786782823627 i & 1.03345514095561 & 0.696113810054548 - 0.440307611941151 i\\\\0 & 0 & 0 & 0 & 0 & 0 & 0 & 0 & 0 & 0.192408764473751 + 0.132987757226204 i & 0.696113810054548 + 0.440307611941151 i & 1.68993765557607\\end{array}\\right]$"
      ],
      "text/plain": [
       "Matrix([\n",
       "[               1.0,  0.144098145370737, -0.228786537764133,                   0,                   0,                  0,                  0,                 0,                  0,                                       0,                                       0,                                       0],\n",
       "[ 0.144098145370737,   1.02076427549929, -0.326377458880999,                   0,                   0,                  0,                  0,                 0,                  0,                                       0,                                       0,                                       0],\n",
       "[-0.228786537764133, -0.326377458880999,    1.1384325572101,                   0,                   0,                  0,                  0,                 0,                  0,                                       0,                                       0,                                       0],\n",
       "[                 0,                  0,                  0,                 1.0, -0.0837651985564084, -0.300396882845785,                  0,                 0,                  0,                                       0,                                       0,                                       0],\n",
       "[                 0,                  0,                  0, -0.0837651985564084,    1.00701660848919, -0.194369129327989,                  0,                 0,                  0,                                       0,                                       0,                                       0],\n",
       "[                 0,                  0,                  0,  -0.300396882845785,  -0.194369129327989,    1.1384325572101,                  0,                 0,                  0,                                       0,                                       0,                                       0],\n",
       "[                 0,                  0,                  0,                   0,                   0,                  0,                1.0, -0.44237784879508, -0.184184817974981,                                       0,                                       0,                                       0],\n",
       "[                 0,                  0,                  0,                   0,                   0,                  0,  -0.44237784879508,  1.19569816110456,  0.857506259057261,                                       0,                                       0,                                       0],\n",
       "[                 0,                  0,                  0,                   0,                   0,                  0, -0.184184817974981, 0.857506259057261,   1.63614191387736,                                       0,                                       0,                                       0],\n",
       "[                 0,                  0,                  0,                   0,                   0,                  0,                  0,                 0,                  0,                                     1.0, 0.122544239220062 + 0.135786782823627*I, 0.192408764473751 - 0.132987757226204*I],\n",
       "[                 0,                  0,                  0,                   0,                   0,                  0,                  0,                 0,                  0, 0.122544239220062 - 0.135786782823627*I,                        1.03345514095561, 0.696113810054548 - 0.440307611941151*I],\n",
       "[                 0,                  0,                  0,                   0,                   0,                  0,                  0,                 0,                  0, 0.192408764473751 + 0.132987757226204*I, 0.696113810054548 + 0.440307611941151*I,                        1.68993765557607]])"
      ]
     },
     "execution_count": 633,
     "metadata": {},
     "output_type": "execute_result"
    }
   ],
   "source": [
    "rho0_p"
   ]
  },
  {
   "cell_type": "code",
   "execution_count": 637,
   "id": "e4fab06b-1227-4173-98ac-f515f9e6a904",
   "metadata": {},
   "outputs": [],
   "source": [
    "t =0"
   ]
  },
  {
   "cell_type": "code",
   "execution_count": 638,
   "id": "12549a87-c8a4-4b82-842f-29bc72d5a1db",
   "metadata": {},
   "outputs": [
    {
     "data": {
      "text/latex": [
       "$\\displaystyle 1.12140576039126$"
      ],
      "text/plain": [
       "1.12140576039126"
      ]
     },
     "execution_count": 638,
     "metadata": {},
     "output_type": "execute_result"
    }
   ],
   "source": [
    "# diagonal ensemble\n",
    "\n",
    "for i in range(len(bases)):\n",
    "    t += sig_mat[i,i] * rho0_p[i,i]\n",
    "\n",
    "t/12"
   ]
  },
  {
   "cell_type": "code",
   "execution_count": 583,
   "id": "043b290b-7cbe-4a7c-83fc-75de6605d8b3",
   "metadata": {},
   "outputs": [],
   "source": [
    "def imbalance(j_0, t_f, dt, h):\n",
    "    \n",
    "    imbalance_array = []\n",
    "    imbalance_value = complex()\n",
    "    imb_val = float()\n",
    "    n = int(t_f/dt)\n",
    "    \n",
    "    for t in range(n+1):\n",
    "        \n",
    "        evolution_state = (evolstates(j_0, t*dt, h))\n",
    "        evstate = sp.Matrix(evolution_state)\n",
    "        imbalance_value = (sigz_t*evstate)\n",
    "        #imb_val = imbalance_value + imb_val\n",
    "             \n",
    "        imbalance_array.append(imbalance_value)\n",
    "        \n",
    "    return imbalance_array#, imb_val"
   ]
  },
  {
   "cell_type": "code",
   "execution_count": 515,
   "id": "e937044c-6aae-422a-95e4-efc79e4fe1a8",
   "metadata": {},
   "outputs": [
    {
     "data": {
      "text/latex": [
       "$\\displaystyle \\left[\\begin{array}{cccccccccccc}0 & 0 & 4 & 8 & 8 & 8 & 8 & 8 & 4 & 0 & 0 & 0\\end{array}\\right]$"
      ],
      "text/plain": [
       "Matrix([[0, 0, 4, 8, 8, 8, 8, 8, 4, 0, 0, 0]])"
      ]
     },
     "execution_count": 515,
     "metadata": {},
     "output_type": "execute_result"
    }
   ],
   "source": [
    "sigz_t "
   ]
  },
  {
   "cell_type": "code",
   "execution_count": 561,
   "id": "dcf447b4-4402-47fc-8f10-bc22c2188083",
   "metadata": {},
   "outputs": [],
   "source": [
    "imb_list = []\n",
    "for i in range(len(simple_list)):\n",
    "    imb_list_i= (simple_list[i].conjugate() +simple_list[i])/2\n",
    "    imb_list.append(imb_list_i)"
   ]
  },
  {
   "cell_type": "code",
   "execution_count": 21,
   "id": "2ae834e0-9031-4819-9890-f958e98cfc78",
   "metadata": {},
   "outputs": [
    {
     "ename": "NameError",
     "evalue": "name 'imb_list' is not defined",
     "output_type": "error",
     "traceback": [
      "\u001b[0;31m---------------------------------------------------------------------------\u001b[0m",
      "\u001b[0;31mNameError\u001b[0m                                 Traceback (most recent call last)",
      "Cell \u001b[0;32mIn[21], line 1\u001b[0m\n\u001b[0;32m----> 1\u001b[0m plt\u001b[38;5;241m.\u001b[39mplot(\u001b[38;5;28mrange\u001b[39m(\u001b[38;5;241m1000000\u001b[39m), \u001b[43mimb_list\u001b[49m)\n",
      "\u001b[0;31mNameError\u001b[0m: name 'imb_list' is not defined"
     ]
    }
   ],
   "source": [
    "plt.plot(range(1000000), imb_list)"
   ]
  },
  {
   "cell_type": "code",
   "execution_count": 494,
   "id": "a8aa9baa-4248-4d8a-88fb-4aac2568d922",
   "metadata": {},
   "outputs": [
    {
     "data": {
      "text/latex": [
       "$\\displaystyle \\left[\\left[\\begin{matrix}1.0\\end{matrix}\\right]\\right]$"
      ],
      "text/plain": [
       "[[1.0]]"
      ]
     },
     "execution_count": 494,
     "metadata": {},
     "output_type": "execute_result"
    }
   ],
   "source": [
    "simplify(ant**-1 * ant)"
   ]
  },
  {
   "cell_type": "code",
   "execution_count": 584,
   "id": "11dbba89-0684-4f86-84d7-8a85bdd452da",
   "metadata": {},
   "outputs": [
    {
     "ename": "ValueError",
     "evalue": "too many values to unpack (expected 2)",
     "output_type": "error",
     "traceback": [
      "\u001b[0;31m---------------------------------------------------------------------------\u001b[0m",
      "\u001b[0;31mValueError\u001b[0m                                Traceback (most recent call last)",
      "Cell \u001b[0;32mIn[584], line 1\u001b[0m\n\u001b[0;32m----> 1\u001b[0m arr2, valu2 \u001b[38;5;241m=\u001b[39m imbalance (\u001b[38;5;241m1\u001b[39m, \u001b[38;5;241m100\u001b[39m, \u001b[38;5;241m1\u001b[39m, \u001b[38;5;241m1\u001b[39m)\n",
      "\u001b[0;31mValueError\u001b[0m: too many values to unpack (expected 2)"
     ]
    }
   ],
   "source": [
    "arr2, valu2 = imbalance (1, 1000, 1, 1)"
   ]
  },
  {
   "cell_type": "code",
   "execution_count": 409,
   "id": "a7c33de3-281e-41d0-87da-93cf0e0d02ea",
   "metadata": {},
   "outputs": [
    {
     "data": {
      "text/plain": [
       "101"
      ]
     },
     "execution_count": 409,
     "metadata": {},
     "output_type": "execute_result"
    }
   ],
   "source": [
    "len(ar2)"
   ]
  },
  {
   "cell_type": "code",
   "execution_count": 514,
   "id": "227b91cd-a9c9-4d18-820e-70a339085daa",
   "metadata": {},
   "outputs": [
    {
     "data": {
      "text/plain": [
       "array([[5.12676565961504 - 7.0797985229795*I]], dtype=object)"
      ]
     },
     "execution_count": 514,
     "metadata": {},
     "output_type": "execute_result"
    }
   ],
   "source": []
  },
  {
   "cell_type": "code",
   "execution_count": 451,
   "id": "00858e21-6f5f-4615-bce2-198f2eab5667",
   "metadata": {},
   "outputs": [],
   "source": [
    "ar = imbalance(0, 100,1,1)"
   ]
  },
  {
   "cell_type": "code",
   "execution_count": 431,
   "id": "b342f552-4832-4f43-89fb-e8e039bcba8b",
   "metadata": {},
   "outputs": [
    {
     "ename": "AttributeError",
     "evalue": "module 'numpy' has no attribute 'complex'.\n`np.complex` was a deprecated alias for the builtin `complex`. To avoid this error in existing code, use `complex` by itself. Doing this will not modify any behavior and is safe. If you specifically wanted the numpy scalar type, use `np.complex128` here.\nThe aliases was originally deprecated in NumPy 1.20; for more details and guidance see the original release note at:\n    https://numpy.org/devdocs/release/1.20.0-notes.html#deprecations",
     "output_type": "error",
     "traceback": [
      "\u001b[0;31m---------------------------------------------------------------------------\u001b[0m",
      "\u001b[0;31mAttributeError\u001b[0m                            Traceback (most recent call last)",
      "Cell \u001b[0;32mIn[431], line 1\u001b[0m\n\u001b[0;32m----> 1\u001b[0m \u001b[43mnp\u001b[49m\u001b[38;5;241;43m.\u001b[39;49m\u001b[43mcomplex\u001b[49m(simple_list[\u001b[38;5;241m1\u001b[39m])\n",
      "File \u001b[0;32m~/.local/lib/python3.10/site-packages/numpy/__init__.py:324\u001b[0m, in \u001b[0;36m__getattr__\u001b[0;34m(attr)\u001b[0m\n\u001b[1;32m    319\u001b[0m     warnings\u001b[38;5;241m.\u001b[39mwarn(\n\u001b[1;32m    320\u001b[0m         \u001b[38;5;124mf\u001b[39m\u001b[38;5;124m\"\u001b[39m\u001b[38;5;124mIn the future `np.\u001b[39m\u001b[38;5;132;01m{\u001b[39;00mattr\u001b[38;5;132;01m}\u001b[39;00m\u001b[38;5;124m` will be defined as the \u001b[39m\u001b[38;5;124m\"\u001b[39m\n\u001b[1;32m    321\u001b[0m         \u001b[38;5;124m\"\u001b[39m\u001b[38;5;124mcorresponding NumPy scalar.\u001b[39m\u001b[38;5;124m\"\u001b[39m, \u001b[38;5;167;01mFutureWarning\u001b[39;00m, stacklevel\u001b[38;5;241m=\u001b[39m\u001b[38;5;241m2\u001b[39m)\n\u001b[1;32m    323\u001b[0m \u001b[38;5;28;01mif\u001b[39;00m attr \u001b[38;5;129;01min\u001b[39;00m __former_attrs__:\n\u001b[0;32m--> 324\u001b[0m     \u001b[38;5;28;01mraise\u001b[39;00m \u001b[38;5;167;01mAttributeError\u001b[39;00m(__former_attrs__[attr])\n\u001b[1;32m    326\u001b[0m \u001b[38;5;28;01mif\u001b[39;00m attr \u001b[38;5;241m==\u001b[39m \u001b[38;5;124m'\u001b[39m\u001b[38;5;124mtesting\u001b[39m\u001b[38;5;124m'\u001b[39m:\n\u001b[1;32m    327\u001b[0m     \u001b[38;5;28;01mimport\u001b[39;00m \u001b[38;5;21;01mnumpy\u001b[39;00m\u001b[38;5;21;01m.\u001b[39;00m\u001b[38;5;21;01mtesting\u001b[39;00m \u001b[38;5;28;01mas\u001b[39;00m \u001b[38;5;21;01mtesting\u001b[39;00m\n",
      "\u001b[0;31mAttributeError\u001b[0m: module 'numpy' has no attribute 'complex'.\n`np.complex` was a deprecated alias for the builtin `complex`. To avoid this error in existing code, use `complex` by itself. Doing this will not modify any behavior and is safe. If you specifically wanted the numpy scalar type, use `np.complex128` here.\nThe aliases was originally deprecated in NumPy 1.20; for more details and guidance see the original release note at:\n    https://numpy.org/devdocs/release/1.20.0-notes.html#deprecations"
     ]
    }
   ],
   "source": [
    "real_parts = [x.real for x in data]\n",
    "imaginary_parts = [x.imag for x in data]\n",
    "\n",
    "# Plotting the data\n",
    "plt.figure(figsize=(10, 6))\n",
    "plt.scatter(real_parts, imaginary_parts, color='blue', marker='o')\n",
    "\n",
    "# Adding labels and title\n",
    "plt.xlabel('Real Part')\n",
    "plt.ylabel('Imaginary Part')\n",
    "plt.title('Complex Numbers Visualization')\n",
    "plt.axhline(0, color='grey', lw=0.5)\n",
    "plt.axvline(0, color='grey', lw=0.5)\n",
    "plt.grid(True)\n",
    "plt.show()"
   ]
  },
  {
   "cell_type": "code",
   "execution_count": 426,
   "id": "721829e0-ebe3-4b01-9901-a132e7180961",
   "metadata": {},
   "outputs": [
    {
     "ename": "AttributeError",
     "evalue": "'Float' object has no attribute 'real'",
     "output_type": "error",
     "traceback": [
      "\u001b[0;31m---------------------------------------------------------------------------\u001b[0m",
      "\u001b[0;31mAttributeError\u001b[0m                            Traceback (most recent call last)",
      "Cell \u001b[0;32mIn[426], line 3\u001b[0m\n\u001b[1;32m      1\u001b[0m data \u001b[38;5;241m=\u001b[39m simple_list \n\u001b[0;32m----> 3\u001b[0m real_parts \u001b[38;5;241m=\u001b[39m [x\u001b[38;5;241m.\u001b[39mreal \u001b[38;5;28;01mfor\u001b[39;00m x \u001b[38;5;129;01min\u001b[39;00m data]\n\u001b[1;32m      4\u001b[0m imaginary_parts \u001b[38;5;241m=\u001b[39m [x\u001b[38;5;241m.\u001b[39mimag \u001b[38;5;28;01mfor\u001b[39;00m x \u001b[38;5;129;01min\u001b[39;00m data]\n\u001b[1;32m      6\u001b[0m \u001b[38;5;66;03m# Plotting the data\u001b[39;00m\n",
      "Cell \u001b[0;32mIn[426], line 3\u001b[0m, in \u001b[0;36m<listcomp>\u001b[0;34m(.0)\u001b[0m\n\u001b[1;32m      1\u001b[0m data \u001b[38;5;241m=\u001b[39m simple_list \n\u001b[0;32m----> 3\u001b[0m real_parts \u001b[38;5;241m=\u001b[39m [\u001b[43mx\u001b[49m\u001b[38;5;241;43m.\u001b[39;49m\u001b[43mreal\u001b[49m \u001b[38;5;28;01mfor\u001b[39;00m x \u001b[38;5;129;01min\u001b[39;00m data]\n\u001b[1;32m      4\u001b[0m imaginary_parts \u001b[38;5;241m=\u001b[39m [x\u001b[38;5;241m.\u001b[39mimag \u001b[38;5;28;01mfor\u001b[39;00m x \u001b[38;5;129;01min\u001b[39;00m data]\n\u001b[1;32m      6\u001b[0m \u001b[38;5;66;03m# Plotting the data\u001b[39;00m\n",
      "\u001b[0;31mAttributeError\u001b[0m: 'Float' object has no attribute 'real'"
     ]
    }
   ],
   "source": [
    "data = simple_list \n",
    "\n",
    "real_parts = [x.real for x in data]\n",
    "imaginary_parts = [x.imag for x in data]\n",
    "\n",
    "# Plotting the data\n",
    "plt.figure(figsize=(10, 6))\n",
    "plt.scatter(real_parts, imaginary_parts, color='blue', marker='o')\n",
    "\n",
    "# Adding labels and title\n",
    "plt.xlabel('Real Part')\n",
    "plt.ylabel('Imaginary Part')\n",
    "plt.title('Complex Numbers Visualization')\n",
    "plt.axhline(0, color='grey', lw=0.5)\n",
    "plt.axvline(0, color='grey', lw=0.5)\n",
    "plt.grid(True)\n",
    "plt.show()"
   ]
  },
  {
   "cell_type": "code",
   "execution_count": 425,
   "id": "e5882895-1b17-4f18-b6f0-d070c0f82500",
   "metadata": {},
   "outputs": [
    {
     "data": {
      "text/plain": [
       "<generator object <genexpr> at 0x7f8b75ed7b50>"
      ]
     },
     "execution_count": 425,
     "metadata": {},
     "output_type": "execute_result"
    }
   ],
   "source": [
    "\n",
    "real_parts1 = (np.real(x) for x in simple_list)\n",
    "real_parts1"
   ]
  },
  {
   "cell_type": "code",
   "execution_count": 19,
   "id": "0a017f1c-1b1a-4719-a8a7-4eb776df4efc",
   "metadata": {},
   "outputs": [
    {
     "ename": "NameError",
     "evalue": "name 'ar' is not defined",
     "output_type": "error",
     "traceback": [
      "\u001b[0;31m---------------------------------------------------------------------------\u001b[0m",
      "\u001b[0;31mNameError\u001b[0m                                 Traceback (most recent call last)",
      "Cell \u001b[0;32mIn[19], line 1\u001b[0m\n\u001b[0;32m----> 1\u001b[0m simple_list \u001b[38;5;241m=\u001b[39m [arr[\u001b[38;5;241m0\u001b[39m] \u001b[38;5;28;01mfor\u001b[39;00m arr \u001b[38;5;129;01min\u001b[39;00m \u001b[43mar\u001b[49m]\n",
      "\u001b[0;31mNameError\u001b[0m: name 'ar' is not defined"
     ]
    }
   ],
   "source": [
    "simple_list = [arr[0] for arr in ar]\n"
   ]
  },
  {
   "cell_type": "code",
   "execution_count": null,
   "id": "b0adf577-b1c5-4f82-b5a3-21367d34cc58",
   "metadata": {},
   "outputs": [],
   "source": [
    "from sympy import simplify\n",
    "arr = []\n",
    "# Example expression\n",
    "for i in range(len(ar)):\n",
    "    vi = simplify(ar[i])\n",
    "    arr.append(vi)"
   ]
  },
  {
   "cell_type": "code",
   "execution_count": 20,
   "id": "6941f825-19e2-42d5-b858-e6934f6b7a51",
   "metadata": {},
   "outputs": [
    {
     "ename": "NameError",
     "evalue": "name 'rhot' is not defined",
     "output_type": "error",
     "traceback": [
      "\u001b[0;31m---------------------------------------------------------------------------\u001b[0m",
      "\u001b[0;31mNameError\u001b[0m                                 Traceback (most recent call last)",
      "Cell \u001b[0;32mIn[20], line 1\u001b[0m\n\u001b[0;32m----> 1\u001b[0m \u001b[43mrhot\u001b[49m\u001b[38;5;241m*\u001b[39mpsij\n",
      "\u001b[0;31mNameError\u001b[0m: name 'rhot' is not defined"
     ]
    }
   ],
   "source": [
    "rhot*psij"
   ]
  },
  {
   "cell_type": "code",
   "execution_count": 15,
   "id": "d4315f84-3142-4608-8f7a-b4b92193acf8",
   "metadata": {},
   "outputs": [],
   "source": [
    "hat4 = sp.Matrix(hat4)"
   ]
  },
  {
   "cell_type": "code",
   "execution_count": 16,
   "id": "aae51f91-72ac-4956-b473-4de548312f8d",
   "metadata": {},
   "outputs": [],
   "source": [
    "p_mat, d_mat = hat4.diagonalize()"
   ]
  },
  {
   "cell_type": "code",
   "execution_count": 17,
   "id": "7b7ac1e4-4704-4455-a049-a11a2d33c5d5",
   "metadata": {},
   "outputs": [
    {
     "data": {
      "text/latex": [
       "$\\displaystyle \\left[\\begin{array}{cccccccccccc}2.11490754147676 & 0 & 0 & 0 & 0 & 0 & 0 & 0 & 0 & 0 & 0 & 0\\\\0 & -1.8608058531117 & 0 & 0 & 0 & 0 & 0 & 0 & 0 & 0 & 0 & 0\\\\0 & 0 & -0.254101688365052 & 0 & 0 & 0 & 0 & 0 & 0 & 0 & 0 & 0\\\\0 & 0 & 0 & 2.11490754147676 & 0 & 0 & 0 & 0 & 0 & 0 & 0 & 0\\\\0 & 0 & 0 & 0 & -1.8608058531117 & 0 & 0 & 0 & 0 & 0 & 0 & 0\\\\0 & 0 & 0 & 0 & 0 & -0.254101688365052 & 0 & 0 & 0 & 0 & 0 & 0\\\\0 & 0 & 0 & 0 & 0 & 0 & 0.381966011250105 & 0 & 0 & 0 & 0 & 0\\\\0 & 0 & 0 & 0 & 0 & 0 & 0 & 1.0 & 0 & 0 & 0 & 0\\\\0 & 0 & 0 & 0 & 0 & 0 & 0 & 0 & 2.61803398874989 & 0 & 0 & 0\\\\0 & 0 & 0 & 0 & 0 & 0 & 0 & 0 & 0 & 0.20556943040059 + 1.46050969490487 \\cdot 10^{-65} i & 0 & 0\\\\0 & 0 & 0 & 0 & 0 & 0 & 0 & 0 & 0 & 0 & -2.1027847152003 - 0.665456951152813 i & 0\\\\0 & 0 & 0 & 0 & 0 & 0 & 0 & 0 & 0 & 0 & 0 & -2.1027847152003 + 0.665456951152813 i\\end{array}\\right]$"
      ],
      "text/plain": [
       "Matrix([\n",
       "[2.11490754147676,                0,                  0,                0,                0,                  0,                 0,   0,                0,                                         0,                                      0,                                      0],\n",
       "[               0, -1.8608058531117,                  0,                0,                0,                  0,                 0,   0,                0,                                         0,                                      0,                                      0],\n",
       "[               0,                0, -0.254101688365052,                0,                0,                  0,                 0,   0,                0,                                         0,                                      0,                                      0],\n",
       "[               0,                0,                  0, 2.11490754147676,                0,                  0,                 0,   0,                0,                                         0,                                      0,                                      0],\n",
       "[               0,                0,                  0,                0, -1.8608058531117,                  0,                 0,   0,                0,                                         0,                                      0,                                      0],\n",
       "[               0,                0,                  0,                0,                0, -0.254101688365052,                 0,   0,                0,                                         0,                                      0,                                      0],\n",
       "[               0,                0,                  0,                0,                0,                  0, 0.381966011250105,   0,                0,                                         0,                                      0,                                      0],\n",
       "[               0,                0,                  0,                0,                0,                  0,                 0, 1.0,                0,                                         0,                                      0,                                      0],\n",
       "[               0,                0,                  0,                0,                0,                  0,                 0,   0, 2.61803398874989,                                         0,                                      0,                                      0],\n",
       "[               0,                0,                  0,                0,                0,                  0,                 0,   0,                0, 0.20556943040059 + 1.46050969490487e-65*I,                                      0,                                      0],\n",
       "[               0,                0,                  0,                0,                0,                  0,                 0,   0,                0,                                         0, -2.1027847152003 - 0.665456951152813*I,                                      0],\n",
       "[               0,                0,                  0,                0,                0,                  0,                 0,   0,                0,                                         0,                                      0, -2.1027847152003 + 0.665456951152813*I]])"
      ]
     },
     "execution_count": 17,
     "metadata": {},
     "output_type": "execute_result"
    }
   ],
   "source": [
    "d_mat"
   ]
  },
  {
   "cell_type": "markdown",
   "id": "ac8d7e12-2053-48c4-932f-660c8755cfd4",
   "metadata": {},
   "source": []
  },
  {
   "cell_type": "code",
   "execution_count": 616,
   "id": "8bb6dd44-c661-4b1c-9a8f-df2abe0798af",
   "metadata": {},
   "outputs": [
    {
     "data": {
      "text/latex": [
       "$\\displaystyle 2.49281152078253$"
      ],
      "text/plain": [
       "2.49281152078253"
      ]
     },
     "execution_count": 616,
     "metadata": {},
     "output_type": "execute_result"
    }
   ],
   "source": [
    "# diagonal ensemble\n",
    "\n",
    "for i in range(len(bases)):\n",
    "    t += sig_mat[i,i] * rho0_p[i,i]\n",
    "\n",
    "t/12"
   ]
  },
  {
   "cell_type": "code",
   "execution_count": 614,
   "id": "270c998b-93a2-431c-b35c-ea48de63f502",
   "metadata": {},
   "outputs": [
    {
     "data": {
      "text/latex": [
       "$\\displaystyle \\left[\\begin{array}{cccccccccccc}0 & 0 & 0 & 0 & 0 & 0 & 0 & 0 & 0 & 0 & 0 & 0\\\\0 & 0 & 0 & 0 & 0 & 0 & 0 & 0 & 0 & 0 & 0 & 0\\\\0 & 0 & 1.0 & 0 & 0 & 0 & 0 & 0 & 0 & 0 & 0 & 0\\\\0 & 0 & 0 & 2.0 & 0 & 0 & 0 & 0 & 0 & 0 & 0 & 0\\\\0 & 0 & 0 & 0 & 2.0 & 0 & 0 & 0 & 0 & 0 & 0 & 0\\\\0 & 0 & 0 & 0 & 0 & 2.0 & 0 & 0 & 0 & 0 & 0 & 0\\\\0 & 0 & 0 & 0 & 0 & 0 & 2.0 & 0 & 0 & 0 & 0 & 0\\\\0 & 0 & 0 & 0 & 0 & 0 & 0 & 2.0 & 0 & 0 & 0 & 0\\\\0 & 0 & 0 & 0 & 0 & 0 & 0 & 0 & 1.0 & 0 & 0 & 0\\\\0 & 0 & 0 & 0 & 0 & 0 & 0 & 0 & 0 & 0 & 0 & 0\\\\0 & 0 & 0 & 0 & 0 & 0 & 0 & 0 & 0 & 0 & 0 & 0\\\\0 & 0 & 0 & 0 & 0 & 0 & 0 & 0 & 0 & 0 & 0 & 0\\end{array}\\right]$"
      ],
      "text/plain": [
       "Matrix([\n",
       "[0, 0,   0,   0,   0,   0,   0,   0,   0, 0, 0, 0],\n",
       "[0, 0,   0,   0,   0,   0,   0,   0,   0, 0, 0, 0],\n",
       "[0, 0, 1.0,   0,   0,   0,   0,   0,   0, 0, 0, 0],\n",
       "[0, 0,   0, 2.0,   0,   0,   0,   0,   0, 0, 0, 0],\n",
       "[0, 0,   0,   0, 2.0,   0,   0,   0,   0, 0, 0, 0],\n",
       "[0, 0,   0,   0,   0, 2.0,   0,   0,   0, 0, 0, 0],\n",
       "[0, 0,   0,   0,   0,   0, 2.0,   0,   0, 0, 0, 0],\n",
       "[0, 0,   0,   0,   0,   0,   0, 2.0,   0, 0, 0, 0],\n",
       "[0, 0,   0,   0,   0,   0,   0,   0, 1.0, 0, 0, 0],\n",
       "[0, 0,   0,   0,   0,   0,   0,   0,   0, 0, 0, 0],\n",
       "[0, 0,   0,   0,   0,   0,   0,   0,   0, 0, 0, 0],\n",
       "[0, 0,   0,   0,   0,   0,   0,   0,   0, 0, 0, 0]])"
      ]
     },
     "execution_count": 614,
     "metadata": {},
     "output_type": "execute_result"
    }
   ],
   "source": [
    "sig_mat "
   ]
  },
  {
   "cell_type": "code",
   "execution_count": 594,
   "id": "6b209330-e018-490d-98e5-8fea53b64264",
   "metadata": {},
   "outputs": [
    {
     "data": {
      "text/latex": [
       "$\\displaystyle \\left[\\begin{array}{cccccccccccc}1.0 & 0.144098145370737 & -0.228786537764133 & 0 & 0 & 0 & 0 & 0 & 0 & 0 & 0 & 0\\\\0.144098145370737 & 1.02076427549929 & -0.326377458880999 & 0 & 0 & 0 & 0 & 0 & 0 & 0 & 0 & 0\\\\-0.228786537764133 & -0.326377458880999 & 1.1384325572101 & 0 & 0 & 0 & 0 & 0 & 0 & 0 & 0 & 0\\\\0 & 0 & 0 & 1.0 & -0.0837651985564084 & -0.300396882845785 & 0 & 0 & 0 & 0 & 0 & 0\\\\0 & 0 & 0 & -0.0837651985564084 & 1.00701660848919 & -0.194369129327989 & 0 & 0 & 0 & 0 & 0 & 0\\\\0 & 0 & 0 & -0.300396882845785 & -0.194369129327989 & 1.1384325572101 & 0 & 0 & 0 & 0 & 0 & 0\\\\0 & 0 & 0 & 0 & 0 & 0 & 1.0 & -0.44237784879508 & -0.184184817974981 & 0 & 0 & 0\\\\0 & 0 & 0 & 0 & 0 & 0 & -0.44237784879508 & 1.19569816110456 & 0.857506259057261 & 0 & 0 & 0\\\\0 & 0 & 0 & 0 & 0 & 0 & -0.184184817974981 & 0.857506259057261 & 1.63614191387736 & 0 & 0 & 0\\\\0 & 0 & 0 & 0 & 0 & 0 & 0 & 0 & 0 & 1.0 & 0.122544239220062 + 0.135786782823627 i & 0.192408764473751 - 0.132987757226204 i\\\\0 & 0 & 0 & 0 & 0 & 0 & 0 & 0 & 0 & 0.122544239220062 - 0.135786782823627 i & 1.03345514095561 & 0.696113810054548 - 0.440307611941151 i\\\\0 & 0 & 0 & 0 & 0 & 0 & 0 & 0 & 0 & 0.192408764473751 + 0.132987757226204 i & 0.696113810054548 + 0.440307611941151 i & 1.68993765557607\\end{array}\\right]$"
      ],
      "text/plain": [
       "Matrix([\n",
       "[               1.0,  0.144098145370737, -0.228786537764133,                   0,                   0,                  0,                  0,                 0,                  0,                                       0,                                       0,                                       0],\n",
       "[ 0.144098145370737,   1.02076427549929, -0.326377458880999,                   0,                   0,                  0,                  0,                 0,                  0,                                       0,                                       0,                                       0],\n",
       "[-0.228786537764133, -0.326377458880999,    1.1384325572101,                   0,                   0,                  0,                  0,                 0,                  0,                                       0,                                       0,                                       0],\n",
       "[                 0,                  0,                  0,                 1.0, -0.0837651985564084, -0.300396882845785,                  0,                 0,                  0,                                       0,                                       0,                                       0],\n",
       "[                 0,                  0,                  0, -0.0837651985564084,    1.00701660848919, -0.194369129327989,                  0,                 0,                  0,                                       0,                                       0,                                       0],\n",
       "[                 0,                  0,                  0,  -0.300396882845785,  -0.194369129327989,    1.1384325572101,                  0,                 0,                  0,                                       0,                                       0,                                       0],\n",
       "[                 0,                  0,                  0,                   0,                   0,                  0,                1.0, -0.44237784879508, -0.184184817974981,                                       0,                                       0,                                       0],\n",
       "[                 0,                  0,                  0,                   0,                   0,                  0,  -0.44237784879508,  1.19569816110456,  0.857506259057261,                                       0,                                       0,                                       0],\n",
       "[                 0,                  0,                  0,                   0,                   0,                  0, -0.184184817974981, 0.857506259057261,   1.63614191387736,                                       0,                                       0,                                       0],\n",
       "[                 0,                  0,                  0,                   0,                   0,                  0,                  0,                 0,                  0,                                     1.0, 0.122544239220062 + 0.135786782823627*I, 0.192408764473751 - 0.132987757226204*I],\n",
       "[                 0,                  0,                  0,                   0,                   0,                  0,                  0,                 0,                  0, 0.122544239220062 - 0.135786782823627*I,                        1.03345514095561, 0.696113810054548 - 0.440307611941151*I],\n",
       "[                 0,                  0,                  0,                   0,                   0,                  0,                  0,                 0,                  0, 0.192408764473751 + 0.132987757226204*I, 0.696113810054548 + 0.440307611941151*I,                        1.68993765557607]])"
      ]
     },
     "execution_count": 594,
     "metadata": {},
     "output_type": "execute_result"
    }
   ],
   "source": [
    "rho0_p = p_mat.conjugate().T @ rho0 @ p_mat\n",
    "rho0_p=simplify(rho0_p)\n",
    "rho0_p"
   ]
  },
  {
   "cell_type": "code",
   "execution_count": 586,
   "id": "b68e2535-052e-4719-bea3-974c4dd99f20",
   "metadata": {},
   "outputs": [
    {
     "data": {
      "text/latex": [
       "$\\displaystyle \\left[\\begin{array}{cccccccccccc}0.991870569754787 & 0.0309675777074431 & -0.254557520910085 & 0 & 0 & 0 & 0 & 0 & 0 & 0 & 0 & 0\\\\0 & 0 & 0 & 0.991729081654829 & 0.0300738498658941 & -0.262159800019253 & 0 & 0 & 0 & 0 & 0 & 0\\\\0 & 0 & 0 & -0.1244581187988 & 0.973540112166213 & 0.064531400523403 & 0 & 0 & 0 & 0 & 0 & 0\\\\0.123506911195524 & 0.979241617078082 & -0.0646497798376285 & 0 & 0 & 0 & 0 & 0 & 0 & 0 & 0 & 0\\\\0.0306401002161393 & -0.24676130169158 & 1.03414381578442 & 0 & 0 & 0 & 0 & 0 & 0 & 0 & 0 & 0\\\\0 & 0 & 0 & 0.0313624818076214 & 0.241519817089274 & -1.03225020940199 & 0 & 0 & 0 & 0 & 0 & 0\\\\0 & 0 & 0 & 0 & 0 & 0 & 0.967307707455108 & -0.269587016117216 & -0.253407018273895 & 0 & 0 & 0\\\\0 & 0 & 0 & 0 & 0 & 0 & 0 & 0 & 0 & 0.7995254450245 - 0.548016073978805 i & 0.206841123365049 - 0.0719306228268362 i & 0.225410294901781 - 0.166166767050062 i\\\\0 & 0 & 0 & 0 & 0 & 0 & 0 & 0 & 0 & 0.0484888416946389 - 0.0332355459387056 i & -0.869265664420615 + 0.187450142647248 i & -0.826169891271075 + 0.781357137504879 i\\\\0 & 0 & 0 & 0 & 0 & 0 & 0.062456802937793 & -0.933471576861949 & -1.13344750411286 & 0 & 0 & 0\\\\0 & 0 & 0 & 0 & 0 & 0 & -0.245794521632871 & 0.501649097513835 & -0.535932414010598 & 0 & 0 & 0\\\\0 & 0 & 0 & 0 & 0 & 0 & 0 & 0 & 0 & 0.196896070896879 - 0.134957820825144 i & 0.119207893613479 + 0.4248846936777 i & -0.361973193140117 - 0.432915929404037 i\\end{array}\\right]$"
      ],
      "text/plain": [
       "Matrix([\n",
       "[ 0.991870569754787, 0.0309675777074431,  -0.254557520910085,                  0,                  0,                  0,                  0,                  0,                  0,                                         0,                                        0,                                        0],\n",
       "[                 0,                  0,                   0,  0.991729081654829, 0.0300738498658941, -0.262159800019253,                  0,                  0,                  0,                                         0,                                        0,                                        0],\n",
       "[                 0,                  0,                   0,   -0.1244581187988,  0.973540112166213,  0.064531400523403,                  0,                  0,                  0,                                         0,                                        0,                                        0],\n",
       "[ 0.123506911195524,  0.979241617078082, -0.0646497798376285,                  0,                  0,                  0,                  0,                  0,                  0,                                         0,                                        0,                                        0],\n",
       "[0.0306401002161393,  -0.24676130169158,    1.03414381578442,                  0,                  0,                  0,                  0,                  0,                  0,                                         0,                                        0,                                        0],\n",
       "[                 0,                  0,                   0, 0.0313624818076214,  0.241519817089274,  -1.03225020940199,                  0,                  0,                  0,                                         0,                                        0,                                        0],\n",
       "[                 0,                  0,                   0,                  0,                  0,                  0,  0.967307707455108, -0.269587016117216, -0.253407018273895,                                         0,                                        0,                                        0],\n",
       "[                 0,                  0,                   0,                  0,                  0,                  0,                  0,                  0,                  0,     0.7995254450245 - 0.548016073978805*I, 0.206841123365049 - 0.0719306228268362*I,  0.225410294901781 - 0.166166767050062*I],\n",
       "[                 0,                  0,                   0,                  0,                  0,                  0,                  0,                  0,                  0, 0.0484888416946389 - 0.0332355459387056*I, -0.869265664420615 + 0.187450142647248*I, -0.826169891271075 + 0.781357137504879*I],\n",
       "[                 0,                  0,                   0,                  0,                  0,                  0,  0.062456802937793, -0.933471576861949,  -1.13344750411286,                                         0,                                        0,                                        0],\n",
       "[                 0,                  0,                   0,                  0,                  0,                  0, -0.245794521632871,  0.501649097513835, -0.535932414010598,                                         0,                                        0,                                        0],\n",
       "[                 0,                  0,                   0,                  0,                  0,                  0,                  0,                  0,                  0,   0.196896070896879 - 0.134957820825144*I,    0.119207893613479 + 0.4248846936777*I, -0.361973193140117 - 0.432915929404037*I]])"
      ]
     },
     "execution_count": 586,
     "metadata": {},
     "output_type": "execute_result"
    }
   ],
   "source": [
    "p_mat"
   ]
  },
  {
   "cell_type": "code",
   "execution_count": 294,
   "id": "0e9f0b08-aa7c-4070-a35c-e1ed139e0185",
   "metadata": {},
   "outputs": [
    {
     "data": {
      "text/latex": [
       "$\\displaystyle \\left[\\begin{matrix}1.28108512330171 + 0.657557895682452 i\\end{matrix}\\right]$"
      ],
      "text/plain": [
       "Matrix([[1.28108512330171 + 0.657557895682452*I]])"
      ]
     },
     "execution_count": 294,
     "metadata": {},
     "output_type": "execute_result"
    }
   ],
   "source": [
    "evs1 = sp.Matrix(evolstates(0,1,1))\n",
    "row_matrix*evs1"
   ]
  },
  {
   "cell_type": "code",
   "execution_count": 293,
   "id": "9700c04c-64ee-4714-abf3-4cc8d275cef0",
   "metadata": {},
   "outputs": [
    {
     "data": {
      "text/latex": [
       "$\\displaystyle \\left[\\begin{array}{cccccccccccc}0 & 0 & 4 & 8 & 8 & 8 & 8 & 8 & 4 & 0 & 0 & 0\\end{array}\\right]$"
      ],
      "text/plain": [
       "Matrix([[0, 0, 4, 8, 8, 8, 8, 8, 4, 0, 0, 0]])"
      ]
     },
     "execution_count": 293,
     "metadata": {},
     "output_type": "execute_result"
    }
   ],
   "source": [
    "row_matrix = sigz.transpose()\n",
    "row_matrix"
   ]
  },
  {
   "cell_type": "code",
   "execution_count": 218,
   "id": "19cf75f5-9789-474d-93e9-64a9b858f9c0",
   "metadata": {},
   "outputs": [
    {
     "data": {
      "text/latex": [
       "$\\displaystyle \\left[\\begin{matrix}-0.185911659446584 - 0.263846332161939 i\\\\-0.229047386690928 + 0.0547648653975879 i\\\\0.101613599720544 - 0.0242956498725264 i\\\\-1.03649898136068 - 0.292784494231076 i\\\\0.645074736255775 + 0.629162741751528 i\\\\-0.399893445708089 + 0.0956138860345638 i\\\\0\\\\0\\\\0\\\\0\\\\0\\\\0\\end{matrix}\\right]$"
      ],
      "text/plain": [
       "Matrix([\n",
       "[ -0.185911659446584 - 0.263846332161939*I],\n",
       "[-0.229047386690928 + 0.0547648653975879*I],\n",
       "[ 0.101613599720544 - 0.0242956498725264*I],\n",
       "[  -1.03649898136068 - 0.292784494231076*I],\n",
       "[  0.645074736255775 + 0.629162741751528*I],\n",
       "[-0.399893445708089 + 0.0956138860345638*I],\n",
       "[                                        0],\n",
       "[                                        0],\n",
       "[                                        0],\n",
       "[                                        0],\n",
       "[                                        0],\n",
       "[                                        0]])"
      ]
     },
     "execution_count": 218,
     "metadata": {},
     "output_type": "execute_result"
    }
   ],
   "source": [
    "evs1 = evolstates(1,1,1)\n",
    "sp.simplify(evs1)"
   ]
  },
  {
   "cell_type": "code",
   "execution_count": 215,
   "id": "4c8c6ff3-65f6-4f40-9a45-a80728a6cd8d",
   "metadata": {},
   "outputs": [
    {
     "data": {
      "text/latex": [
       "$\\displaystyle \\left[\\begin{matrix}0.838021241587651 + 0.107568123354625 i\\\\0.129496261767532 + 0.355197173426773 i\\\\0.311332208007797 + 0.150941966763446 i\\\\0.203654938328676 + 0.0261410790571546 i\\\\0.0962949605761353 + 0.0123603885959484 i\\\\0.171023303492809 + 0.157219447867931 i\\\\0\\\\0\\\\0\\\\0\\\\0\\\\0\\end{matrix}\\right]$"
      ],
      "text/plain": [
       "Matrix([\n",
       "[  0.838021241587651 + 0.107568123354625*I],\n",
       "[  0.129496261767532 + 0.355197173426773*I],\n",
       "[  0.311332208007797 + 0.150941966763446*I],\n",
       "[ 0.203654938328676 + 0.0261410790571546*I],\n",
       "[0.0962949605761353 + 0.0123603885959484*I],\n",
       "[  0.171023303492809 + 0.157219447867931*I],\n",
       "[                                        0],\n",
       "[                                        0],\n",
       "[                                        0],\n",
       "[                                        0],\n",
       "[                                        0],\n",
       "[                                        0]])"
      ]
     },
     "execution_count": 215,
     "metadata": {},
     "output_type": "execute_result"
    }
   ],
   "source": [
    "evs1 = evolstates(0,1,1)\n",
    "sp.simplify(evs1)"
   ]
  },
  {
   "cell_type": "code",
   "execution_count": 186,
   "id": "b59f2210-aa43-409a-a017-9e1dd1142e4a",
   "metadata": {},
   "outputs": [
    {
     "data": {
      "text/latex": [
       "$\\displaystyle \\left[\\begin{array}{cccccccccccc}-0.353907578147117 - 0.800115064976731 i & 0 & 0 & -0.354015021182533 - 0.00687207187396061 i & -0.676352198203329 - 0.468225208289862 i & 0 & 0 & 0 & 0 & 0 & 0 & 0\\\\0 & -0.480618954794061 + 1.01780919319103 i & -0.354015021182533 - 0.0068720718739608 i & 0 & 0 & 0.739707886526801 - 0.440736920794019 i & 0 & 0 & 0 & 0 & 0 & 0\\\\0 & 0.0316778441617361 - 0.454481064541941 i & -0.353907578147117 - 0.800115064976731 i & 0 & 0 & -0.354015021182533 - 0.00687207187396072 i & 0 & 0 & 0 & 0 & 0 & 0\\\\0.0316778441617363 - 0.454481064541941 i & 0 & 0 & -0.480618954794061 + 1.01780919319103 i & -0.354015021182533 - 0.00687207187396071 i & 0 & 0 & 0 & 0 & 0 & 0 & 0\\\\-0.354015021182533 - 0.00687207187396075 i & 0 & 0 & 0.739707886526801 - 0.440736920794019 i & 0.998796818259541 + 0.136335351602993 i & 0 & 0 & 0 & 0 & 0 & 0 & 0\\\\0 & -0.354015021182533 - 0.00687207187396067 i & -0.676352198203329 - 0.468225208289862 i & 0 & 0 & 0.998796818259541 + 0.136335351602993 i & 0 & 0 & 0 & 0 & 0 & 0\\\\0 & 0 & 0 & 0 & 0 & 0 & 1.12616949983848 + 0.0825490058126479 i & 0 & 0 & -0.694079511155136 - 0.490457195356281 i & -0.108212317184799 + 0.433562795264264 i & 0\\\\0 & 0 & 0 & 0 & 0 & 0 & 0 & 0.872749713798191 + 0.080171219083204 i & 0.721709714828411 - 0.418722105772124 i & 0 & 0 & -0.0930006147658546 - 0.437186623266316 i\\\\0 & 0 & 0 & 0 & 0 & 0 & 0 & -0.0930006147658546 - 0.437186623266317 i & -0.570669715858631 + 0.917615430627451 i & 0 & 0 & 0.90771094436012 + 0.455651140760509 i\\\\0 & 0 & 0 & 0 & 0 & 0 & -0.1082123171848 + 0.433562795264264 i & 0 & 0 & -0.261989522471795 - 0.898365384899913 i & -0.910504145524735 + 0.376668395172247 i & 0\\\\0 & 0 & 0 & 0 & 0 & 0 & -0.694079511155136 - 0.490457195356281 i & 0 & 0 & -0.108212317184799 + 0.433562795264264 i & -0.261989522471795 - 0.898365384899913 i & 0\\\\0 & 0 & 0 & 0 & 0 & 0 & 0 & 0.721709714828411 - 0.418722105772123 i & -0.0930006147658546 - 0.437186623266316 i & 0 & 0 & -0.570669715858631 + 0.917615430627451 i\\end{array}\\right]$"
      ],
      "text/plain": [
       "Matrix([\n",
       "[  -0.353907578147117 - 0.800115064976731*I,                                          0,                                         0, -0.354015021182533 - 0.00687207187396061*I,   -0.676352198203329 - 0.468225208289862*I,                                          0,                                        0,                                         0,                                         0,                                        0,                                        0,                                         0],\n",
       "[                                         0,    -0.480618954794061 + 1.01780919319103*I, -0.354015021182533 - 0.0068720718739608*I,                                          0,                                          0,    0.739707886526801 - 0.440736920794019*I,                                        0,                                         0,                                         0,                                        0,                                        0,                                         0],\n",
       "[                                         0,   0.0316778441617361 - 0.454481064541941*I,  -0.353907578147117 - 0.800115064976731*I,                                          0,                                          0, -0.354015021182533 - 0.00687207187396072*I,                                        0,                                         0,                                         0,                                        0,                                        0,                                         0],\n",
       "[  0.0316778441617363 - 0.454481064541941*I,                                          0,                                         0,    -0.480618954794061 + 1.01780919319103*I, -0.354015021182533 - 0.00687207187396071*I,                                          0,                                        0,                                         0,                                         0,                                        0,                                        0,                                         0],\n",
       "[-0.354015021182533 - 0.00687207187396075*I,                                          0,                                         0,    0.739707886526801 - 0.440736920794019*I,    0.998796818259541 + 0.136335351602993*I,                                          0,                                        0,                                         0,                                         0,                                        0,                                        0,                                         0],\n",
       "[                                         0, -0.354015021182533 - 0.00687207187396067*I,  -0.676352198203329 - 0.468225208289862*I,                                          0,                                          0,    0.998796818259541 + 0.136335351602993*I,                                        0,                                         0,                                         0,                                        0,                                        0,                                         0],\n",
       "[                                         0,                                          0,                                         0,                                          0,                                          0,                                          0,  1.12616949983848 + 0.0825490058126479*I,                                         0,                                         0, -0.694079511155136 - 0.490457195356281*I, -0.108212317184799 + 0.433562795264264*I,                                         0],\n",
       "[                                         0,                                          0,                                         0,                                          0,                                          0,                                          0,                                        0,   0.872749713798191 + 0.080171219083204*I,   0.721709714828411 - 0.418722105772124*I,                                        0,                                        0, -0.0930006147658546 - 0.437186623266316*I],\n",
       "[                                         0,                                          0,                                         0,                                          0,                                          0,                                          0,                                        0, -0.0930006147658546 - 0.437186623266317*I,  -0.570669715858631 + 0.917615430627451*I,                                        0,                                        0,    0.90771094436012 + 0.455651140760509*I],\n",
       "[                                         0,                                          0,                                         0,                                          0,                                          0,                                          0,   -0.1082123171848 + 0.433562795264264*I,                                         0,                                         0, -0.261989522471795 - 0.898365384899913*I, -0.910504145524735 + 0.376668395172247*I,                                         0],\n",
       "[                                         0,                                          0,                                         0,                                          0,                                          0,                                          0, -0.694079511155136 - 0.490457195356281*I,                                         0,                                         0, -0.108212317184799 + 0.433562795264264*I, -0.261989522471795 - 0.898365384899913*I,                                         0],\n",
       "[                                         0,                                          0,                                         0,                                          0,                                          0,                                          0,                                        0,   0.721709714828411 - 0.418722105772123*I, -0.0930006147658546 - 0.437186623266316*I,                                        0,                                        0,  -0.570669715858631 + 0.917615430627451*I]])"
      ]
     },
     "execution_count": 186,
     "metadata": {},
     "output_type": "execute_result"
    }
   ],
   "source": [
    "u1 = expm(-1j*matrixnp*1)\n",
    "a =sp.Matrix(u1)\n",
    "a"
   ]
  },
  {
   "cell_type": "code",
   "execution_count": 208,
   "id": "0c03c184-ef02-4893-beb3-81a858e972ee",
   "metadata": {},
   "outputs": [],
   "source": [
    "u1sp = sp.Matrix(u1)\n",
    "rho0_p = up*rho0"
   ]
  },
  {
   "cell_type": "code",
   "execution_count": 209,
   "id": "9835f2ed-fa92-410b-94ef-7ecb912e3f0c",
   "metadata": {},
   "outputs": [
    {
     "data": {
      "text/latex": [
       "$\\displaystyle \\left[\\begin{array}{cccccccccccc}-0.479099806058299 - 0.838493504882695 i & 0.118660301646703 - 0.0435939310612765 i & -0.0277195777822624 + 0.540585784903084 i & -2.03247022082966 \\cdot 10^{-50} - 1.7009093550652 \\cdot 10^{-48} i & -3.16199618458055 \\cdot 10^{-50} - 6.37233555827901 \\cdot 10^{-50} i & 2.60593364920168 \\cdot 10^{-49} + 2.52488388227384 \\cdot 10^{-50} i & 0 & 0 & 0 & 0 & 0 & 0\\\\9.22418639056953 \\cdot 10^{-51} + 4.61093766273547 \\cdot 10^{-50} i & 6.40211495519185 \\cdot 10^{-49} - 3.9295160964851 \\cdot 10^{-49} i & -1.46185847611737 \\cdot 10^{-48} + 2.77260977425242 \\cdot 10^{-49} i & -0.0777772009991689 - 0.0680194632818472 i & -0.0424016241261123 - 0.960644482040918 i & 0.0964293507022789 - 0.658083173359823 i & 0 & 0 & 0 & 0 & 0 & 0\\\\8.02748563934372 \\cdot 10^{-50} + 4.01273720025435 \\cdot 10^{-49} i & -1.65823281427941 \\cdot 10^{-49} + 1.01779686572896 \\cdot 10^{-49} i & 6.48532621071627 \\cdot 10^{-49} - 1.23002870214939 \\cdot 10^{-49} i & -0.676867679872014 - 0.591949513562664 i & 0.0109825838799788 + 0.2488196813281 i & -0.0427795033382993 + 0.291949194997119 i & 0 & 0 & 0 & 0 & 0 & 0\\\\-0.116430272425115 - 0.20376970720022 i & 0.852480541023958 - 0.31318796110199 i & -0.0158769715266546 + 0.309631884801385 i & -4.93928527030824 \\cdot 10^{-51} - 4.13352994671364 \\cdot 10^{-49} i & -2.27164450177496 \\cdot 10^{-49} - 4.57801976644378 \\cdot 10^{-49} i & 1.49260333882868 \\cdot 10^{-49} + 1.44618037914786 \\cdot 10^{-50} i & 0 & 0 & 0 & 0 & 0 & 0\\\\-0.0550521808361497 - 0.0963492271902986 i & -0.458124387129592 + 0.168307704201524 i & 0.0624827470797642 - 1.21853533045619 i & -2.3354615620026 \\cdot 10^{-51} - 1.95447312265356 \\cdot 10^{-49} i & 1.22078533769455 \\cdot 10^{-49} + 2.46023504213955 \\cdot 10^{-49} i & -5.8740394384328 \\cdot 10^{-49} - 5.69134502195918 \\cdot 10^{-50} i & 0 & 0 & 0 & 0 & 0 & 0\\\\3.79566741425416 \\cdot 10^{-50} + 1.89735821616694 \\cdot 10^{-49} i & 8.91136929468734 \\cdot 10^{-50} - 5.46965640734073 \\cdot 10^{-50} i & -2.55225624530255 \\cdot 10^{-48} + 4.84069472368986 \\cdot 10^{-49} i & -0.320045990946433 - 0.279893802425674 i & -0.00590205789691245 - 0.133716089140635 i & 0.168355840583163 - 1.14894630128428 i & 0 & 0 & 0 & 0 & 0 & 0\\\\0 & 0 & 0 & 0 & 0 & 0 & 0.0981485958135518 + 0.29301596535403 i & 0.616248037921999 - 0.0469506869746574 i & -0.440312932410545 + 0.778539993546913 i & 3.6132375493734 \\cdot 10^{-64} + 1.27077882324248 \\cdot 10^{-64} i & 1.42645443802925 \\cdot 10^{-65} - 1.14956274404004 \\cdot 10^{-65} i & -7.50077252561487 \\cdot 10^{-66} - 3.78516837499483 \\cdot 10^{-66} i\\\\0 & 0 & 0 & 0 & 0 & 0 & -1.4991452005425 \\cdot 10^{-65} - 7.9510437507704 \\cdot 10^{-65} i & 3.33652549027316 \\cdot 10^{-65} - 8.59112671544557 \\cdot 10^{-65} i & -2.2444002849128 \\cdot 10^{-65} + 3.70299083528835 \\cdot 10^{-64} i & -0.295632608341608 - 0.171822379571255 i & -0.0790070407650858 + 0.113016057191765 i & -0.0482197019976384 + 0.146119878598626 i\\\\0 & 0 & 0 & 0 & 0 & 0 & 2.60537335563143 \\cdot 10^{-67} + 3.42249634757189 \\cdot 10^{-65} i & -1.89084388848051 \\cdot 10^{-65} - 1.05887425085902 \\cdot 10^{-65} i & 4.98591598157469 \\cdot 10^{-66} + 3.45497266334157 \\cdot 10^{-65} i & -0.0607730269046251 - 0.035321428698537 i & 0.241342118564173 - 0.185072653167906 i & 0.00415916341708643 - 0.339346783180959 i\\\\0 & 0 & 0 & 0 & 0 & 0 & 0.256956359787954 + 0.767125756543213 i & 0.616248037921998 - 0.0469506869746574 i & -0.168184574494693 + 0.297375815933797 i & 8.77423599828806 \\cdot 10^{-65} - 2.36787598117208 \\cdot 10^{-65} i & -3.55646962073435 \\cdot 10^{-65} - 2.71720913502469 \\cdot 10^{-65} i & -3.83518368334178 \\cdot 10^{-65} + 4.33847540006139 \\cdot 10^{-65} i\\\\0 & 0 & 0 & 0 & 0 & 0 & 0.158807763974402 + 0.474109791189183 i & -0.616248037921998 + 0.0469506869746573 i & 0.272128357915852 - 0.481164177613116 i & -2.26453224120092 \\cdot 10^{-64} - 5.30929070993802 \\cdot 10^{-65} i & -2.3857531458451 \\cdot 10^{-65} + 2.72966852198722 \\cdot 10^{-65} i & -2.7858007281817 \\cdot 10^{-66} + 3.02263775169312 \\cdot 10^{-65} i\\\\0 & 0 & 0 & 0 & 0 & 0 & 5.42822203496091 \\cdot 10^{-65} - 2.42901305448829 \\cdot 10^{-66} i & 4.4558522806694 \\cdot 10^{-65} + 1.72344549142368 \\cdot 10^{-65} i & -7.13929199347971 \\cdot 10^{-65} + 1.6804359988578 \\cdot 10^{-64} i & -0.134039130333754 - 0.0779038633755673 i & -0.147964164441331 - 0.141580150457249 i & 0.225393177291819 + 0.0376474066702718 i\\end{array}\\right]$"
      ],
      "text/plain": [
       "Matrix([\n",
       "[     -0.479099806058299 - 0.838493504882695*I,       0.118660301646703 - 0.0435939310612765*I,      -0.0277195777822624 + 0.540585784903084*I,  -2.03247022082966e-50 - 1.7009093550652e-48*I, -3.16199618458055e-50 - 6.37233555827901e-50*I, 2.60593364920168e-49 + 2.52488388227384e-50*I,                                             0,                                              0,                                             0,                                              0,                                              0,                                              0],\n",
       "[9.22418639056953e-51 + 4.61093766273547e-50*I,   6.40211495519185e-49 - 3.9295160964851e-49*I, -1.46185847611737e-48 + 2.77260977425242e-49*I,     -0.0777772009991689 - 0.0680194632818472*I,      -0.0424016241261123 - 0.960644482040918*I,      0.0964293507022789 - 0.658083173359823*I,                                             0,                                              0,                                             0,                                              0,                                              0,                                              0],\n",
       "[8.02748563934372e-50 + 4.01273720025435e-49*I, -1.65823281427941e-49 + 1.01779686572896e-49*I,  6.48532621071627e-49 - 1.23002870214939e-49*I,       -0.676867679872014 - 0.591949513562664*I,         0.0109825838799788 + 0.2488196813281*I,     -0.0427795033382993 + 0.291949194997119*I,                                             0,                                              0,                                             0,                                              0,                                              0,                                              0],\n",
       "[      -0.116430272425115 - 0.20376970720022*I,         0.852480541023958 - 0.31318796110199*I,      -0.0158769715266546 + 0.309631884801385*I, -4.93928527030824e-51 - 4.13352994671364e-49*I, -2.27164450177496e-49 - 4.57801976644378e-49*I, 1.49260333882868e-49 + 1.44618037914786e-50*I,                                             0,                                              0,                                             0,                                              0,                                              0,                                              0],\n",
       "[   -0.0550521808361497 - 0.0963492271902986*I,       -0.458124387129592 + 0.168307704201524*I,        0.0624827470797642 - 1.21853533045619*I,  -2.3354615620026e-51 - 1.95447312265356e-49*I,  1.22078533769455e-49 + 2.46023504213955e-49*I, -5.8740394384328e-49 - 5.69134502195918e-50*I,                                             0,                                              0,                                             0,                                              0,                                              0,                                              0],\n",
       "[3.79566741425416e-50 + 1.89735821616694e-49*I,  8.91136929468734e-50 - 5.46965640734073e-50*I, -2.55225624530255e-48 + 4.84069472368986e-49*I,       -0.320045990946433 - 0.279893802425674*I,     -0.00590205789691245 - 0.133716089140635*I,        0.168355840583163 - 1.14894630128428*I,                                             0,                                              0,                                             0,                                              0,                                              0,                                              0],\n",
       "[                                            0,                                              0,                                              0,                                              0,                                              0,                                             0,       0.0981485958135518 + 0.29301596535403*I,       0.616248037921999 - 0.0469506869746574*I,      -0.440312932410545 + 0.778539993546913*I,   3.6132375493734e-64 + 1.27077882324248e-64*I,  1.42645443802925e-65 - 1.14956274404004e-65*I, -7.50077252561487e-66 - 3.78516837499483e-66*I],\n",
       "[                                            0,                                              0,                                              0,                                              0,                                              0,                                             0,  -1.4991452005425e-65 - 7.9510437507704e-65*I,  3.33652549027316e-65 - 8.59112671544557e-65*I, -2.2444002849128e-65 + 3.70299083528835e-64*I,       -0.295632608341608 - 0.171822379571255*I,      -0.0790070407650858 + 0.113016057191765*I,      -0.0482197019976384 + 0.146119878598626*I],\n",
       "[                                            0,                                              0,                                              0,                                              0,                                              0,                                             0, 2.60537335563143e-67 + 3.42249634757189e-65*I, -1.89084388848051e-65 - 1.05887425085902e-65*I, 4.98591598157469e-66 + 3.45497266334157e-65*I,      -0.0607730269046251 - 0.035321428698537*I,        0.241342118564173 - 0.185072653167906*I,      0.00415916341708643 - 0.339346783180959*I],\n",
       "[                                            0,                                              0,                                              0,                                              0,                                              0,                                             0,       0.256956359787954 + 0.767125756543213*I,       0.616248037921998 - 0.0469506869746574*I,      -0.168184574494693 + 0.297375815933797*I,  8.77423599828806e-65 - 2.36787598117208e-65*I, -3.55646962073435e-65 - 2.71720913502469e-65*I, -3.83518368334178e-65 + 4.33847540006139e-65*I],\n",
       "[                                            0,                                              0,                                              0,                                              0,                                              0,                                             0,       0.158807763974402 + 0.474109791189183*I,      -0.616248037921998 + 0.0469506869746573*I,       0.272128357915852 - 0.481164177613116*I, -2.26453224120092e-64 - 5.30929070993802e-65*I,  -2.3857531458451e-65 + 2.72966852198722e-65*I,  -2.7858007281817e-66 + 3.02263775169312e-65*I],\n",
       "[                                            0,                                              0,                                              0,                                              0,                                              0,                                             0, 5.42822203496091e-65 - 2.42901305448829e-66*I,   4.4558522806694e-65 + 1.72344549142368e-65*I, -7.13929199347971e-65 + 1.6804359988578e-64*I,      -0.134039130333754 - 0.0779038633755673*I,       -0.147964164441331 - 0.141580150457249*I,       0.225393177291819 + 0.0376474066702718*I]])"
      ]
     },
     "execution_count": 209,
     "metadata": {},
     "output_type": "execute_result"
    }
   ],
   "source": [
    "rho0_p"
   ]
  },
  {
   "cell_type": "code",
   "execution_count": 201,
   "id": "a0141c93-5d95-4226-a78a-96f8f2cb63d7",
   "metadata": {},
   "outputs": [],
   "source": [
    "up, ud = u1sp.diagonalize()"
   ]
  }
 ],
 "metadata": {
  "kernelspec": {
   "display_name": "Python 3 (ipykernel)",
   "language": "python",
   "name": "python3"
  },
  "language_info": {
   "codemirror_mode": {
    "name": "ipython",
    "version": 3
   },
   "file_extension": ".py",
   "mimetype": "text/x-python",
   "name": "python",
   "nbconvert_exporter": "python",
   "pygments_lexer": "ipython3",
   "version": "3.10.12"
  }
 },
 "nbformat": 4,
 "nbformat_minor": 5
}
