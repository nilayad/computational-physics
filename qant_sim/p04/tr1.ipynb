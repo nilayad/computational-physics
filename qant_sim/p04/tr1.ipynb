{
 "cells": [
  {
   "cell_type": "code",
   "execution_count": 5,
   "id": "974f0fac-9efb-463d-b67f-4f5e3a7aa27c",
   "metadata": {},
   "outputs": [
    {
     "name": "stdout",
     "output_type": "stream",
     "text": [
      "Basis states: []\n"
     ]
    }
   ],
   "source": [
    "import numpy as np\n",
    "from itertools import combinations\n",
    "\n",
    "def BasisCreator(L, N0, gj):\n",
    "    # L: number of sites\n",
    "    # N0: number of particles\n",
    "    # gj: background charges, array of length L\n",
    "    \n",
    "    # Generate all possible states with N0 particles\n",
    "    basis_states = []\n",
    "    for sites in combinations(range(L), N0):\n",
    "        state = np.zeros(L, dtype=int)\n",
    "        state[list(sites)] = 1\n",
    "        basis_states.append(state)\n",
    "    \n",
    "    # Filter states by Z2 gauge symmetry\n",
    "    valid_states = []\n",
    "    for state in basis_states:\n",
    "        valid = True\n",
    "        for j in range(L):\n",
    "            G_j = -state[j] * gj[j-1] * gj[j] * gj[(j+1)%L]\n",
    "            if G_j != 1:\n",
    "                valid = False\n",
    "                break\n",
    "        if valid:\n",
    "            valid_states.append(state)\n",
    "    \n",
    "    return valid_states\n",
    "\n",
    "# Example usage\n",
    "L = 4\n",
    "N0 = 2\n",
    "gj = [1, 1, 1, 1]\n",
    "basis = BasisCreator(L, N0, gj)\n",
    "print(\"Basis states:\", basis)\n"
   ]
  },
  {
   "cell_type": "code",
   "execution_count": 6,
   "id": "965842f7-651a-49a3-aca1-6151a6416307",
   "metadata": {},
   "outputs": [
    {
     "name": "stdout",
     "output_type": "stream",
     "text": [
      "Hamiltonian matrix: []\n"
     ]
    }
   ],
   "source": [
    "from scipy.sparse import dok_matrix\n",
    "\n",
    "def Hamiltonian(L, basis, J, h):\n",
    "    D = len(basis)\n",
    "    H = dok_matrix((D, D), dtype=np.complex128)\n",
    "\n",
    "    for i, state in enumerate(basis):\n",
    "        for j in range(L):\n",
    "            # Define the indices for periodic boundary conditions\n",
    "            jp1 = (j + 1) % L\n",
    "\n",
    "            # Apply sigma^+_j sigma^-_j+1 + H.c.\n",
    "            if state[j] == 0 and state[jp1] == 1:\n",
    "                new_state = state.copy()\n",
    "                new_state[j], new_state[jp1] = 1, 0\n",
    "                k = basis.index(new_state)\n",
    "                H[i, k] += J\n",
    "\n",
    "            if state[j] == 1 and state[jp1] == 0:\n",
    "                new_state = state.copy()\n",
    "                new_state[j], new_state[jp1] = 0, 1\n",
    "                k = basis.index(new_state)\n",
    "                H[i, k] += J\n",
    "            \n",
    "            # Apply h term\n",
    "            H[i, i] += h * (1 if state[j] == 1 else -1)\n",
    "    \n",
    "    return H\n",
    "\n",
    "# Example usage\n",
    "J = 1.0\n",
    "h = 0.5\n",
    "H = Hamiltonian(L, basis, J, h)\n",
    "print(\"Hamiltonian matrix:\", H.toarray())\n"
   ]
  },
  {
   "cell_type": "code",
   "execution_count": 7,
   "id": "f68a0525-f673-4a4c-b041-b8ec8613cc1a",
   "metadata": {},
   "outputs": [
    {
     "name": "stdout",
     "output_type": "stream",
     "text": [
      "Initial state: [1 0 1 0]\n"
     ]
    }
   ],
   "source": [
    "def prepare_initial_state(L):\n",
    "    state = np.zeros(L, dtype=int)\n",
    "    state[::2] = 1  # Even sites occupied, odd sites empty\n",
    "    return state\n",
    "\n",
    "# Example usage\n",
    "initial_state = prepare_initial_state(L)\n",
    "print(\"Initial state:\", initial_state)\n"
   ]
  },
  {
   "cell_type": "code",
   "execution_count": 10,
   "id": "0e5b831f-c9c1-48ef-8033-0fe369064eeb",
   "metadata": {},
   "outputs": [
    {
     "ename": "IndexError",
     "evalue": "index 0 is out of bounds for axis 0 with size 0",
     "output_type": "error",
     "traceback": [
      "\u001b[0;31m---------------------------------------------------------------------------\u001b[0m",
      "\u001b[0;31mIndexError\u001b[0m                                Traceback (most recent call last)",
      "Cell \u001b[0;32mIn[10], line 26\u001b[0m\n\u001b[1;32m     24\u001b[0m dt \u001b[38;5;241m=\u001b[39m \u001b[38;5;241m0.1\u001b[39m\n\u001b[1;32m     25\u001b[0m initial_state \u001b[38;5;241m=\u001b[39m np\u001b[38;5;241m.\u001b[39mzeros(\u001b[38;5;28mlen\u001b[39m(basis), dtype\u001b[38;5;241m=\u001b[39mnp\u001b[38;5;241m.\u001b[39mcomplex128)\n\u001b[0;32m---> 26\u001b[0m \u001b[43minitial_state\u001b[49m\u001b[43m[\u001b[49m\u001b[38;5;241;43m0\u001b[39;49m\u001b[43m]\u001b[49m \u001b[38;5;241m=\u001b[39m \u001b[38;5;241m1\u001b[39m  \u001b[38;5;66;03m# Assuming the first state in basis is the initial state\u001b[39;00m\n\u001b[1;32m     27\u001b[0m psi_t_avg \u001b[38;5;241m=\u001b[39m time_evolution_sparse(H, initial_state, t_final, dt)\n\u001b[1;32m     28\u001b[0m imbalance \u001b[38;5;241m=\u001b[39m time_averaged_imbalance(psi_t_avg, L)\n",
      "\u001b[0;31mIndexError\u001b[0m: index 0 is out of bounds for axis 0 with size 0"
     ]
    }
   ],
   "source": [
    "from scipy.sparse.linalg import expm_multiply\n",
    "import numpy as np\n",
    "\n",
    "def time_evolution_sparse(H, initial_state, t_final, dt):\n",
    "    D = H.shape[0]\n",
    "    psi_t = initial_state.astype(np.complex128)\n",
    "    psi_t_avg = np.zeros_like(psi_t, dtype=np.complex128)\n",
    "\n",
    "    for t in np.arange(0, t_final, dt):\n",
    "        psi_t = expm_multiply(-1j * H * t, psi_t)\n",
    "        psi_t_avg += psi_t\n",
    "\n",
    "    psi_t_avg /= (t_final / dt)\n",
    "    return psi_t_avg\n",
    "\n",
    "def time_averaged_imbalance(psi_t_avg, L):\n",
    "    imbalance = 0\n",
    "    for j in range(L):\n",
    "        imbalance += ((-1)**j) * np.real(psi_t_avg[j])\n",
    "    return imbalance / L\n",
    "\n",
    "# Example usage\n",
    "t_final = 10\n",
    "dt = 0.1\n",
    "initial_state = np.zeros(len(basis), dtype=np.complex128)\n",
    "initial_state[0] = 1  # Assuming the first state in basis is the initial state\n",
    "psi_t_avg = time_evolution_sparse(H, initial_state, t_final, dt)\n",
    "imbalance = time_averaged_imbalance(psi_t_avg, L)\n",
    "print(\"Time-averaged imbalance:\", imbalance)\n"
   ]
  },
  {
   "cell_type": "code",
   "execution_count": null,
   "id": "18c8de77-2e07-4506-bf10-b636dc6e8dd9",
   "metadata": {},
   "outputs": [],
   "source": []
  }
 ],
 "metadata": {
  "kernelspec": {
   "display_name": "Python 3 (ipykernel)",
   "language": "python",
   "name": "python3"
  },
  "language_info": {
   "codemirror_mode": {
    "name": "ipython",
    "version": 3
   },
   "file_extension": ".py",
   "mimetype": "text/x-python",
   "name": "python",
   "nbconvert_exporter": "python",
   "pygments_lexer": "ipython3",
   "version": "3.10.12"
  }
 },
 "nbformat": 4,
 "nbformat_minor": 5
}
