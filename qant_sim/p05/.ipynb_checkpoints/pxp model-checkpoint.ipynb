{
 "cells": [
  {
   "cell_type": "code",
   "execution_count": 1,
   "id": "b27f809f-c848-4b27-834d-18cba668c937",
   "metadata": {},
   "outputs": [],
   "source": [
    "import numpy as np\n",
    "from scipy.sparse import lil_matrix\n",
    "def h(bases, mu_omega):\n",
    "    d = len(bases)\n",
    "    nj = int()\n",
    "    \n",
    "    hmat = lil_matrix((d, d), dtype=np.float64)\n",
    "    for i, state in enumerate(bases):\n",
    "        L = len(state)\n",
    "        for j in range(len(state)):\n",
    "            n_s = state[j]\n",
    "            nj = ((-1**j)*n_s) + ((1-(-1**j))/2)\n",
    "            \n",
    "            j1p = (j + 1) % L\n",
    "            jp = (j ) \n",
    "            j0p = (j -1) if j>0 else L-1\n",
    "            new_state = state.copy()\n",
    "            if state[j1p] == 0 and state[jp] == 1 and state[j0p] == 0:\n",
    "                new_state[jp] == 0\n",
    "                k = bases.index(new_state)\n",
    "                hmat[i,k] = 1\n",
    "                continue\n",
    "            elif state[j1p] == 0 and state[jp] == 0 and state[j0p] == 0:\n",
    "                new_state[jp] == 1\n",
    "                k = bases.index(new_state)\n",
    "                \n",
    "                hmat[i,k] = 1\n",
    "                \n",
    "        \n",
    "            else:\n",
    "                break\n",
    "        \n",
    "        hmat[i,i] += mu_omega*nj\n",
    "\n",
    "    return hmat\n",
    "        \n",
    "        "
   ]
  }
 ],
 "metadata": {
  "kernelspec": {
   "display_name": "Python 3 (ipykernel)",
   "language": "python",
   "name": "python3"
  },
  "language_info": {
   "codemirror_mode": {
    "name": "ipython",
    "version": 3
   },
   "file_extension": ".py",
   "mimetype": "text/x-python",
   "name": "python",
   "nbconvert_exporter": "python",
   "pygments_lexer": "ipython3",
   "version": "3.10.12"
  }
 },
 "nbformat": 4,
 "nbformat_minor": 5
}
