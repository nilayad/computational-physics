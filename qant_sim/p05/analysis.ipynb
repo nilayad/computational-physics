{
 "cells": [
  {
   "cell_type": "code",
   "execution_count": null,
   "id": "0369a754-95b3-4551-865a-fd311cd94a4d",
   "metadata": {},
   "outputs": [],
   "source": [
    "mu_omega = 1.68\n",
    "t = [i for i in range(100)]\n",
    "start_state = 3\n",
    "ma= []\n",
    "nj = int()\n",
    "M = int()\n",
    "dt = 1\n",
    "mat_t = h(bases,mu_omega)\n",
    "p,d = (sp.Matrix(mat_t.todense())).diagonalize()\n",
    "for n in range(len(t)):\n",
    "    \n",
    "    \n",
    "    tlt = -1j*mat_t*n\n",
    "    ut = expm(tlt)\n",
    "    rho0 = identity(11)\n",
    "    #rho0 = (p.conjugate())*rho0*p\n",
    "    rhot = ut * rho0\n",
    "    rhot_spm = sp.Matrix((np.real(rhot)).todense()) \n",
    "    rho_start = rhot_spm[:,start_state]\n",
    "\n",
    "    for i in range(len(rho_start)):\n",
    "        if rho_start[i] != 0:\n",
    "            L = len(bases[i])\n",
    "            for j in range(L):\n",
    "            \n",
    "                n_s = (-1**j)*state[j]\n",
    "                nj = (n_s) + ((1-(-1**j))/2)\n",
    "                M += ((rho_start[i])*nj)*(1/(L*100))\n",
    "    ma.append(M)\n",
    "\n",
    "\n",
    "    \n",
    "print(M)    \n",
    "plt.plot(ma)    "
   ]
  }
 ],
 "metadata": {
  "kernelspec": {
   "display_name": "Python 3 (ipykernel)",
   "language": "python",
   "name": "python3"
  },
  "language_info": {
   "codemirror_mode": {
    "name": "ipython",
    "version": 3
   },
   "file_extension": ".py",
   "mimetype": "text/x-python",
   "name": "python",
   "nbconvert_exporter": "python",
   "pygments_lexer": "ipython3",
   "version": "3.10.12"
  }
 },
 "nbformat": 4,
 "nbformat_minor": 5
}
