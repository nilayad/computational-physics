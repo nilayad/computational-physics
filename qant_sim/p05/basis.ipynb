{
 "cells": [
  {
   "cell_type": "code",
   "execution_count": 2,
   "id": "ce04ae5a-1dd5-434d-85c8-4ddab8ae2778",
   "metadata": {},
   "outputs": [],
   "source": [
    "from itertools import product\n",
    "\n",
    "def basis_cr2(n):\n",
    "    basis = []\n",
    "    L = n + 1  # Length of the spin chain plus one for periodic boundary conditions\n",
    "    r_spins = list(product([1, 0], repeat=L))  # Generate all possible spin configurations\n",
    "    \n",
    "    for state in r_spins:\n",
    "        # Check for the allowed configurations only\n",
    "        valid = True\n",
    "        for j in range(L):\n",
    "            if state[j] == 1:\n",
    "                # Configuration should be 101\n",
    "                j1p = (j + 1) % L\n",
    "                jp = (j ) \n",
    "                #j0p = (j -1) if j>0 else n\n",
    "                if state[j1p] == 1 and state[jp] == 1 :#and state[j0p] == 0:\n",
    "                    valid = False\n",
    "                    break\n",
    "\n",
    "                else:\n",
    "                    continue\n",
    "        \n",
    "        if valid :#or state.count(1) == 0:\n",
    "            basis.append(list(state))  # Add valid configuration to the basis\n",
    "    \n",
    "    return basis\n"
   ]
  },
  {
   "cell_type": "code",
   "execution_count": 5,
   "id": "f1a4def6-1d34-43f0-aaa1-9ca00126bef5",
   "metadata": {},
   "outputs": [
    {
     "data": {
      "text/plain": [
       "2207"
      ]
     },
     "execution_count": 5,
     "metadata": {},
     "output_type": "execute_result"
    }
   ],
   "source": [
    "bas= basis_cr2(15)\n",
    "len(bas)"
   ]
  }
 ],
 "metadata": {
  "kernelspec": {
   "display_name": "Python 3 (ipykernel)",
   "language": "python",
   "name": "python3"
  },
  "language_info": {
   "codemirror_mode": {
    "name": "ipython",
    "version": 3
   },
   "file_extension": ".py",
   "mimetype": "text/x-python",
   "name": "python",
   "nbconvert_exporter": "python",
   "pygments_lexer": "ipython3",
   "version": "3.10.12"
  }
 },
 "nbformat": 4,
 "nbformat_minor": 5
}
