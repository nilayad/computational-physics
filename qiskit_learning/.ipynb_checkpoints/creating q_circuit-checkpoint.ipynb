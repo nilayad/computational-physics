{
 "cells": [
  {
   "cell_type": "code",
   "execution_count": 11,
   "id": "b062dd51-5b5d-4b1a-8cec-d0475039f231",
   "metadata": {},
   "outputs": [],
   "source": [
    "from qiskit import QuantumCircuit, assemble\n",
    "from qiskit.visualization import plot_histogram, plot_bloch_multivector\n",
    "from qiskit_aer import Aer\n",
    "sim = Aer.get_backend('aer_simulator')\n",
    "%matplotlib inline"
   ]
  },
  {
   "cell_type": "code",
   "execution_count": 10,
   "id": "40935d35-84d9-4359-8f3c-a7641393cd08",
   "metadata": {},
   "outputs": [],
   "source": [
    "%matplotlib inline"
   ]
  },
  {
   "cell_type": "code",
   "execution_count": 8,
   "id": "9073ccaf-7b45-4545-a025-1c87c0099ad2",
   "metadata": {},
   "outputs": [],
   "source": [
    "import matplotlib"
   ]
  },
  {
   "cell_type": "code",
   "execution_count": 4,
   "id": "79fba563-9941-4f2f-8336-a38b51d00249",
   "metadata": {},
   "outputs": [
    {
     "data": {
      "text/html": [
       "<pre style=\"word-wrap: normal;white-space: pre;background: #fff0;line-height: 1.1;font-family: &quot;Courier New&quot;,Courier,monospace\">     \n",
       "q_0: \n",
       "     \n",
       "q_1: \n",
       "     \n",
       "q_2: \n",
       "     \n",
       "q_3: \n",
       "     \n",
       "q_4: \n",
       "     \n",
       "q_5: \n",
       "     \n",
       "q_6: \n",
       "     \n",
       "c: 2/\n",
       "     </pre>"
      ],
      "text/plain": [
       "     \n",
       "q_0: \n",
       "     \n",
       "q_1: \n",
       "     \n",
       "q_2: \n",
       "     \n",
       "q_3: \n",
       "     \n",
       "q_4: \n",
       "     \n",
       "q_5: \n",
       "     \n",
       "q_6: \n",
       "     \n",
       "c: 2/\n",
       "     "
      ]
     },
     "execution_count": 4,
     "metadata": {},
     "output_type": "execute_result"
    }
   ],
   "source": [
    "my_add_circuit = QuantumCircuit(7,2)\n",
    "my_add_circuit.draw(initial_state=0)"
   ]
  },
  {
   "cell_type": "code",
   "execution_count": 5,
   "id": "cd2f9d37-4209-4121-8a40-42df9cf2db86",
   "metadata": {},
   "outputs": [
    {
     "data": {
      "text/html": [
       "<pre style=\"word-wrap: normal;white-space: pre;background: #fff0;line-height: 1.1;font-family: &quot;Courier New&quot;,Courier,monospace\">     ┌───┐ ░ \n",
       "q_0: ┤ X ├─░─\n",
       "     ├───┤ ░ \n",
       "q_1: ┤ X ├─░─\n",
       "     ├───┤ ░ \n",
       "q_2: ┤ X ├─░─\n",
       "     └───┘ ░ \n",
       "q_3: ──────░─\n",
       "           ░ \n",
       "q_4: ──────░─\n",
       "           ░ \n",
       "q_5: ──────░─\n",
       "           ░ \n",
       "q_6: ──────░─\n",
       "           ░ \n",
       "c: 2/════════\n",
       "             </pre>"
      ],
      "text/plain": [
       "     ┌───┐ ░ \n",
       "q_0: ┤ X ├─░─\n",
       "     ├───┤ ░ \n",
       "q_1: ┤ X ├─░─\n",
       "     ├───┤ ░ \n",
       "q_2: ┤ X ├─░─\n",
       "     └───┘ ░ \n",
       "q_3: ──────░─\n",
       "           ░ \n",
       "q_4: ──────░─\n",
       "           ░ \n",
       "q_5: ──────░─\n",
       "           ░ \n",
       "q_6: ──────░─\n",
       "           ░ \n",
       "c: 2/════════\n",
       "             "
      ]
     },
     "execution_count": 5,
     "metadata": {},
     "output_type": "execute_result"
    }
   ],
   "source": [
    "my_add_circuit.x(0)\n",
    "my_add_circuit.x(1)\n",
    "my_add_circuit.x(2)\n",
    "my_add_circuit.barrier()\n",
    "my_add_circuit.draw()"
   ]
  },
  {
   "cell_type": "code",
   "execution_count": 13,
   "id": "a9039c16-5d0e-4039-8382-1027cbf65017",
   "metadata": {},
   "outputs": [
    {
     "data": {
      "text/html": [
       "<pre style=\"word-wrap: normal;white-space: pre;background: #fff0;line-height: 1.1;font-family: &quot;Courier New&quot;,Courier,monospace\">     ┌───┐ ░                 ░                 ░                 ░           »\n",
       "q_0: ┤ X ├─░───■─────────■───░─────────────────░───■─────────■───░───────────»\n",
       "     ├───┤ ░   │         │   ░                 ░   │         │   ░           »\n",
       "q_1: ┤ X ├─░───┼────■────■───░─────────────────░───┼────■────■───░───────────»\n",
       "     ├───┤ ░   │    │    │   ░                 ░   │    │    │   ░           »\n",
       "q_2: ┤ X ├─░───┼────┼────┼───░───■─────────■───░───┼────┼────┼───░───■───────»\n",
       "     └───┘ ░ ┌─┴─┐┌─┴─┐┌─┴─┐ ░   │         │   ░ ┌─┴─┐┌─┴─┐  │   ░   │       »\n",
       "q_3: ──────░─┤ X ├┤ X ├┤ X ├─░───┼────■────■───░─┤ X ├┤ X ├──┼───░───┼────■──»\n",
       "           ░ └───┘└───┘└───┘ ░   │    │    │   ░ └───┘└───┘┌─┴─┐ ░   │    │  »\n",
       "q_4: ──────░─────────────────░───┼────┼────┼───░───────────┤ X ├─░───┼────┼──»\n",
       "           ░                 ░ ┌─┴─┐┌─┴─┐  │   ░  ┌─┐      └───┘ ░ ┌─┴─┐┌─┴─┐»\n",
       "q_5: ──────░─────────────────░─┤ X ├┤ X ├──┼───░──┤M├────────────░─┤ X ├┤ X ├»\n",
       "           ░                 ░ └───┘└───┘┌─┴─┐ ░  └╥┘  ┌─┐       ░ └───┘└───┘»\n",
       "q_6: ──────░─────────────────░───────────┤ X ├─░───╫───┤M├───────░───────────»\n",
       "           ░                 ░           └───┘ ░   ║   └╥┘       ░           »\n",
       "c: 2/══════════════════════════════════════════════╩════╩════════════════════»\n",
       "                                                   0    1                    »\n",
       "«           ░       \n",
       "«q_0: ──────░───────\n",
       "«           ░       \n",
       "«q_1: ──────░───────\n",
       "«           ░       \n",
       "«q_2: ──■───░───────\n",
       "«       │   ░       \n",
       "«q_3: ──┼───░───────\n",
       "«       │   ░       \n",
       "«q_4: ──■───░───────\n",
       "«       │   ░ ┌─┐   \n",
       "«q_5: ──┼───░─┤M├───\n",
       "«     ┌─┴─┐ ░ └╥┘┌─┐\n",
       "«q_6: ┤ X ├─░──╫─┤M├\n",
       "«     └───┘ ░  ║ └╥┘\n",
       "«c: 2/═════════╩══╩═\n",
       "«              0  1 </pre>"
      ],
      "text/plain": [
       "     ┌───┐ ░                 ░                 ░                 ░           »\n",
       "q_0: ┤ X ├─░───■─────────■───░─────────────────░───■─────────■───░───────────»\n",
       "     ├───┤ ░   │         │   ░                 ░   │         │   ░           »\n",
       "q_1: ┤ X ├─░───┼────■────■───░─────────────────░───┼────■────■───░───────────»\n",
       "     ├───┤ ░   │    │    │   ░                 ░   │    │    │   ░           »\n",
       "q_2: ┤ X ├─░───┼────┼────┼───░───■─────────■───░───┼────┼────┼───░───■───────»\n",
       "     └───┘ ░ ┌─┴─┐┌─┴─┐┌─┴─┐ ░   │         │   ░ ┌─┴─┐┌─┴─┐  │   ░   │       »\n",
       "q_3: ──────░─┤ X ├┤ X ├┤ X ├─░───┼────■────■───░─┤ X ├┤ X ├──┼───░───┼────■──»\n",
       "           ░ └───┘└───┘└───┘ ░   │    │    │   ░ └───┘└───┘┌─┴─┐ ░   │    │  »\n",
       "q_4: ──────░─────────────────░───┼────┼────┼───░───────────┤ X ├─░───┼────┼──»\n",
       "           ░                 ░ ┌─┴─┐┌─┴─┐  │   ░  ┌─┐      └───┘ ░ ┌─┴─┐┌─┴─┐»\n",
       "q_5: ──────░─────────────────░─┤ X ├┤ X ├──┼───░──┤M├────────────░─┤ X ├┤ X ├»\n",
       "           ░                 ░ └───┘└───┘┌─┴─┐ ░  └╥┘  ┌─┐       ░ └───┘└───┘»\n",
       "q_6: ──────░─────────────────░───────────┤ X ├─░───╫───┤M├───────░───────────»\n",
       "           ░                 ░           └───┘ ░   ║   └╥┘       ░           »\n",
       "c: 2/══════════════════════════════════════════════╩════╩════════════════════»\n",
       "                                                   0    1                    »\n",
       "«           ░       \n",
       "«q_0: ──────░───────\n",
       "«           ░       \n",
       "«q_1: ──────░───────\n",
       "«           ░       \n",
       "«q_2: ──■───░───────\n",
       "«       │   ░       \n",
       "«q_3: ──┼───░───────\n",
       "«       │   ░       \n",
       "«q_4: ──■───░───────\n",
       "«       │   ░ ┌─┐   \n",
       "«q_5: ──┼───░─┤M├───\n",
       "«     ┌─┴─┐ ░ └╥┘┌─┐\n",
       "«q_6: ┤ X ├─░──╫─┤M├\n",
       "«     └───┘ ░  ║ └╥┘\n",
       "«c: 2/═════════╩══╩═\n",
       "«              0  1 "
      ]
     },
     "execution_count": 13,
     "metadata": {},
     "output_type": "execute_result"
    }
   ],
   "source": [
    "my_add_circuit.cx(0,3)\n",
    "my_add_circuit.cx(1,3)\n",
    "my_add_circuit.ccx(0,1,4)\n",
    "\n",
    "my_add_circuit.barrier()\n",
    "\n",
    "my_add_circuit.cx(2,5)\n",
    "my_add_circuit.cx(3,5)\n",
    "my_add_circuit.ccx(2,4,6)\n",
    "\n",
    "my_add_circuit.barrier()\n",
    "\n",
    "my_add_circuit.measure(5,0)\n",
    "my_add_circuit.measure(6,1)\n",
    "\n",
    "my_add_circuit.draw()"
   ]
  },
  {
   "cell_type": "code",
   "execution_count": 12,
   "id": "c2e5ac31-fe85-41ea-9640-e0b273cbf721",
   "metadata": {},
   "outputs": [
    {
     "data": {
      "image/png": "[encoded data removed]",
      "text/plain": [
       "<Figure size 700x500 with 1 Axes>"
      ]
     },
     "execution_count": 12,
     "metadata": {},
     "output_type": "execute_result"
    }
   ],
   "source": [
    "result3 = sim.run(my_add_circuit).result()\n",
    "counts3 = result3.get_counts()\n",
    "plot_histogram(counts3)"
   ]
  },
  {
   "cell_type": "code",
   "execution_count": 14,
   "id": "b90aa260-835d-4627-989f-63c81cfb179b",
   "metadata": {},
   "outputs": [
    {
     "data": {
      "text/html": [
       "<pre style=\"word-wrap: normal;white-space: pre;background: #fff0;line-height: 1.1;font-family: &quot;Courier New&quot;,Courier,monospace\">     ┌───┐ ░                 ░                 ░                 ░           »\n",
       "q_0: ┤ X ├─░───■─────────■───░─────────────────░───■─────────■───░───────────»\n",
       "     ├───┤ ░   │         │   ░                 ░   │         │   ░           »\n",
       "q_1: ┤ X ├─░───┼────■────■───░─────────────────░───┼────■────■───░───────────»\n",
       "     ├───┤ ░   │    │    │   ░                 ░   │    │    │   ░           »\n",
       "q_2: ┤ X ├─░───┼────┼────┼───░───■─────────■───░───┼────┼────┼───░───■───────»\n",
       "     └───┘ ░ ┌─┴─┐┌─┴─┐┌─┴─┐ ░   │         │   ░ ┌─┴─┐┌─┴─┐  │   ░   │       »\n",
       "q_3: ──────░─┤ X ├┤ X ├┤ X ├─░───┼────■────■───░─┤ X ├┤ X ├──┼───░───┼────■──»\n",
       "           ░ └───┘└───┘└───┘ ░   │    │    │   ░ └───┘└───┘┌─┴─┐ ░   │    │  »\n",
       "q_4: ──────░─────────────────░───┼────┼────┼───░───────────┤ X ├─░───┼────┼──»\n",
       "           ░                 ░ ┌─┴─┐┌─┴─┐  │   ░  ┌─┐      └───┘ ░ ┌─┴─┐┌─┴─┐»\n",
       "q_5: ──────░─────────────────░─┤ X ├┤ X ├──┼───░──┤M├────────────░─┤ X ├┤ X ├»\n",
       "           ░                 ░ └───┘└───┘┌─┴─┐ ░  └╥┘  ┌─┐       ░ └───┘└───┘»\n",
       "q_6: ──────░─────────────────░───────────┤ X ├─░───╫───┤M├───────░───────────»\n",
       "           ░                 ░           └───┘ ░   ║   └╥┘       ░           »\n",
       "c: 2/══════════════════════════════════════════════╩════╩════════════════════»\n",
       "                                                   0    1                    »\n",
       "«           ░                 ░                 ░       \n",
       "«q_0: ──────░───■─────────■───░─────────────────░───────\n",
       "«           ░   │         │   ░                 ░       \n",
       "«q_1: ──────░───┼────■────■───░─────────────────░───────\n",
       "«           ░   │    │    │   ░                 ░       \n",
       "«q_2: ──■───░───┼────┼────┼───░───■─────────■───░───────\n",
       "«       │   ░ ┌─┴─┐┌─┴─┐  │   ░   │         │   ░       \n",
       "«q_3: ──┼───░─┤ X ├┤ X ├──┼───░───┼────■────┼───░───────\n",
       "«       │   ░ └───┘└───┘┌─┴─┐ ░   │    │    │   ░       \n",
       "«q_4: ──■───░───────────┤ X ├─░───┼────┼────■───░───────\n",
       "«       │   ░  ┌─┐      └───┘ ░ ┌─┴─┐┌─┴─┐  │   ░ ┌─┐   \n",
       "«q_5: ──┼───░──┤M├────────────░─┤ X ├┤ X ├──┼───░─┤M├───\n",
       "«     ┌─┴─┐ ░  └╥┘  ┌─┐       ░ └───┘└───┘┌─┴─┐ ░ └╥┘┌─┐\n",
       "«q_6: ┤ X ├─░───╫───┤M├───────░───────────┤ X ├─░──╫─┤M├\n",
       "«     └───┘ ░   ║   └╥┘       ░           └───┘ ░  ║ └╥┘\n",
       "«c: 2/══════════╩════╩═════════════════════════════╩══╩═\n",
       "«               0    1                             0  1 </pre>"
      ],
      "text/plain": [
       "     ┌───┐ ░                 ░                 ░                 ░           »\n",
       "q_0: ┤ X ├─░───■─────────■───░─────────────────░───■─────────■───░───────────»\n",
       "     ├───┤ ░   │         │   ░                 ░   │         │   ░           »\n",
       "q_1: ┤ X ├─░───┼────■────■───░─────────────────░───┼────■────■───░───────────»\n",
       "     ├───┤ ░   │    │    │   ░                 ░   │    │    │   ░           »\n",
       "q_2: ┤ X ├─░───┼────┼────┼───░───■─────────■───░───┼────┼────┼───░───■───────»\n",
       "     └───┘ ░ ┌─┴─┐┌─┴─┐┌─┴─┐ ░   │         │   ░ ┌─┴─┐┌─┴─┐  │   ░   │       »\n",
       "q_3: ──────░─┤ X ├┤ X ├┤ X ├─░───┼────■────■───░─┤ X ├┤ X ├──┼───░───┼────■──»\n",
       "           ░ └───┘└───┘└───┘ ░   │    │    │   ░ └───┘└───┘┌─┴─┐ ░   │    │  »\n",
       "q_4: ──────░─────────────────░───┼────┼────┼───░───────────┤ X ├─░───┼────┼──»\n",
       "           ░                 ░ ┌─┴─┐┌─┴─┐  │   ░  ┌─┐      └───┘ ░ ┌─┴─┐┌─┴─┐»\n",
       "q_5: ──────░─────────────────░─┤ X ├┤ X ├──┼───░──┤M├────────────░─┤ X ├┤ X ├»\n",
       "           ░                 ░ └───┘└───┘┌─┴─┐ ░  └╥┘  ┌─┐       ░ └───┘└───┘»\n",
       "q_6: ──────░─────────────────░───────────┤ X ├─░───╫───┤M├───────░───────────»\n",
       "           ░                 ░           └───┘ ░   ║   └╥┘       ░           »\n",
       "c: 2/══════════════════════════════════════════════╩════╩════════════════════»\n",
       "                                                   0    1                    »\n",
       "«           ░                 ░                 ░       \n",
       "«q_0: ──────░───■─────────■───░─────────────────░───────\n",
       "«           ░   │         │   ░                 ░       \n",
       "«q_1: ──────░───┼────■────■───░─────────────────░───────\n",
       "«           ░   │    │    │   ░                 ░       \n",
       "«q_2: ──■───░───┼────┼────┼───░───■─────────■───░───────\n",
       "«       │   ░ ┌─┴─┐┌─┴─┐  │   ░   │         │   ░       \n",
       "«q_3: ──┼───░─┤ X ├┤ X ├──┼───░───┼────■────┼───░───────\n",
       "«       │   ░ └───┘└───┘┌─┴─┐ ░   │    │    │   ░       \n",
       "«q_4: ──■───░───────────┤ X ├─░───┼────┼────■───░───────\n",
       "«       │   ░  ┌─┐      └───┘ ░ ┌─┴─┐┌─┴─┐  │   ░ ┌─┐   \n",
       "«q_5: ──┼───░──┤M├────────────░─┤ X ├┤ X ├──┼───░─┤M├───\n",
       "«     ┌─┴─┐ ░  └╥┘  ┌─┐       ░ └───┘└───┘┌─┴─┐ ░ └╥┘┌─┐\n",
       "«q_6: ┤ X ├─░───╫───┤M├───────░───────────┤ X ├─░──╫─┤M├\n",
       "«     └───┘ ░   ║   └╥┘       ░           └───┘ ░  ║ └╥┘\n",
       "«c: 2/══════════╩════╩═════════════════════════════╩══╩═\n",
       "«               0    1                             0  1 "
      ]
     },
     "execution_count": 14,
     "metadata": {},
     "output_type": "execute_result"
    }
   ],
   "source": [
    "my_add_circuit.cx(0,3)\n",
    "my_add_circuit.cx(1,3)\n",
    "my_add_circuit.ccx(0,1,4)\n",
    "\n",
    "my_add_circuit.barrier()\n",
    "\n",
    "my_add_circuit.cx(2,5)\n",
    "my_add_circuit.cx(3,5)\n",
    "my_add_circuit.ccx(2,4,6)\n",
    "\n",
    "my_add_circuit.barrier()\n",
    "\n",
    "my_add_circuit.measure(5,0)\n",
    "my_add_circuit.measure(6,1)\n",
    "\n",
    "my_add_circuit.draw()"
   ]
  },
  {
   "cell_type": "code",
   "execution_count": 16,
   "id": "1f46777f-93a8-481f-9a3f-81e265ac7d1c",
   "metadata": {},
   "outputs": [
    {
     "data": {
      "image/png": "[encoded data removed]",
      "text/plain": [
       "<Figure size 700x500 with 1 Axes>"
      ]
     },
     "execution_count": 16,
     "metadata": {},
     "output_type": "execute_result"
    }
   ],
   "source": [
    "result3 = sim.run(my_add_circuit).result(6)\n",
    "counts3 = result3.get_counts()\n",
    "plot_histogram(counts3)"
   ]
  },
  {
   "cell_type": "code",
   "execution_count": 17,
   "id": "80941e84-8343-4948-8a15-675fef8c80fd",
   "metadata": {},
   "outputs": [
    {
     "ename": "SyntaxError",
     "evalue": "Missing parentheses in call to 'print'. Did you mean print(...)? (2557567469.py, line 1)",
     "output_type": "error",
     "traceback": [
      "\u001b[0;36m  Cell \u001b[0;32mIn[17], line 1\u001b[0;36m\u001b[0m\n\u001b[0;31m    print c(0,1)\u001b[0m\n\u001b[0m    ^\u001b[0m\n\u001b[0;31mSyntaxError\u001b[0m\u001b[0;31m:\u001b[0m Missing parentheses in call to 'print'. Did you mean print(...)?\n"
     ]
    }
   ],
   "source": [
    "print "
   ]
  }
 ],
 "metadata": {
  "kernelspec": {
   "display_name": "Python 3 (ipykernel)",
   "language": "python",
   "name": "python3"
  },
  "language_info": {
   "codemirror_mode": {
    "name": "ipython",
    "version": 3
   },
   "file_extension": ".py",
   "mimetype": "text/x-python",
   "name": "python",
   "nbconvert_exporter": "python",
   "pygments_lexer": "ipython3",
   "version": "3.12.7"
  }
 },
 "nbformat": 4,
 "nbformat_minor": 5
}
