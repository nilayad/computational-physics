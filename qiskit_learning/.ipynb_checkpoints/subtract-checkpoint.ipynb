{
 "cells": [
  {
   "cell_type": "code",
   "execution_count": 19,
   "id": "88a20d11-3425-49c4-96d5-a5f20fa40f83",
   "metadata": {},
   "outputs": [
    {
     "data": {
      "text/html": [
       "<pre style=\"word-wrap: normal;white-space: pre;background: #fff0;line-height: 1.1;font-family: &quot;Courier New&quot;,Courier,monospace\">     ┌───┐      ░            ░       \n",
       "q_0: ┤ X ├──────░───■────■───░───────\n",
       "     ├───┤┌───┐ ░   │  ┌─┴─┐ ░ ┌─┐   \n",
       "q_1: ┤ X ├┤ Z ├─░───■──┤ X ├─░─┤M├───\n",
       "     ├───┤└───┘ ░ ┌─┴─┐└───┘ ░ └╥┘┌─┐\n",
       "q_2: ┤ X ├──────░─┤ X ├──────░──╫─┤M├\n",
       "     └───┘      ░ └───┘      ░  ║ └╥┘\n",
       "c: 2/═══════════════════════════╩══╩═\n",
       "                                0  1 </pre>"
      ],
      "text/plain": [
       "     ┌───┐      ░            ░       \n",
       "q_0: ┤ X ├──────░───■────■───░───────\n",
       "     ├───┤┌───┐ ░   │  ┌─┴─┐ ░ ┌─┐   \n",
       "q_1: ┤ X ├┤ Z ├─░───■──┤ X ├─░─┤M├───\n",
       "     ├───┤└───┘ ░ ┌─┴─┐└───┘ ░ └╥┘┌─┐\n",
       "q_2: ┤ X ├──────░─┤ X ├──────░──╫─┤M├\n",
       "     └───┘      ░ └───┘      ░  ║ └╥┘\n",
       "c: 2/═══════════════════════════╩══╩═\n",
       "                                0  1 "
      ]
     },
     "execution_count": 19,
     "metadata": {},
     "output_type": "execute_result"
    }
   ],
   "source": [
    "from qiskit import QuantumCircuit\n",
    "from qiskit.visualization import plot_histogram, plot_bloch_multivector\n",
    "from qiskit_aer import Aer\n",
    "sim = Aer.get_backend('aer_simulator')\n",
    "%matplotlib inline\n",
    "from numpy import pi\n",
    "\n",
    "my_add_circuit = QuantumCircuit(3,2)\n",
    "my_add_circuit.draw(initial_state=0)\n",
    "\n",
    "my_add_circuit.x(0)\n",
    "my_add_circuit.x(1)\n",
    "my_add_circuit.x(2)\n",
    "my_add_circuit.z(1)\n",
    "my_add_circuit.barrier()\n",
    "\n",
    "my_add_circuit.draw()\n",
    "\n",
    "my_add_circuit.ccx(0,1,2)\n",
    "my_add_circuit.cx(0,1)\n",
    "\n",
    "\n",
    "my_add_circuit.barrier()\n",
    "\n",
    "my_add_circuit.measure(1,0)\n",
    "my_add_circuit.measure(2,1)\n",
    "#my_add_circuit.measure(0,2)\n",
    "\n",
    "\n",
    "\n",
    "result3 = sim.run(my_add_circuit).result()\n",
    "counts3 = result3.get_counts()\n",
    "plot_histogram(counts3)\n",
    "#my_add_circuit.measure(counts3)\n",
    "my_add_circuit.draw()\n",
    "\n"
   ]
  },
  {
   "cell_type": "code",
   "execution_count": 18,
   "id": "cef0c5e2-d9ed-4d16-aced-f2a2ea4f2c89",
   "metadata": {},
   "outputs": [
    {
     "data": {
      "image/png": "[encoded data removed]",
      "text/plain": [
       "<Figure size 640x480 with 1 Axes>"
      ]
     },
     "execution_count": 18,
     "metadata": {},
     "output_type": "execute_result"
    }
   ],
   "source": [
    "plot_histogram(counts3)"
   ]
  },
  {
   "cell_type": "code",
   "execution_count": 10,
   "id": "6713317c-01da-4f3e-b1ac-df770f18efbf",
   "metadata": {},
   "outputs": [
    {
     "data": {
      "text/plain": [
       "{'100': 1024}"
      ]
     },
     "execution_count": 10,
     "metadata": {},
     "output_type": "execute_result"
    }
   ],
   "source": [
    "counts3"
   ]
  },
  {
   "cell_type": "code",
   "execution_count": null,
   "id": "39cd9c73-da6b-451b-a619-4434ccc71e54",
   "metadata": {},
   "outputs": [],
   "source": []
  }
 ],
 "metadata": {
  "kernelspec": {
   "display_name": "sem3",
   "language": "python",
   "name": "sem3"
  },
  "language_info": {
   "codemirror_mode": {
    "name": "ipython",
    "version": 3
   },
   "file_extension": ".py",
   "mimetype": "text/x-python",
   "name": "python",
   "nbconvert_exporter": "python",
   "pygments_lexer": "ipython3",
   "version": "3.12.7"
  }
 },
 "nbformat": 4,
 "nbformat_minor": 5
}
