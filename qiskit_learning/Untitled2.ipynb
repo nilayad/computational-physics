{
 "cells": [
  {
   "cell_type": "code",
   "execution_count": 1,
   "id": "73a5daea-c935-4848-9f16-a507d6aea757",
   "metadata": {},
   "outputs": [
    {
     "data": {
      "image/png": "[encoded data removed]",
      "text/plain": [
       "<Figure size 700x500 with 1 Axes>"
      ]
     },
     "execution_count": 1,
     "metadata": {},
     "output_type": "execute_result"
    }
   ],
   "source": [
    "from qiskit import QuantumCircuit, assemble\n",
    "from qiskit.visualization import plot_histogram, plot_bloch_multivector\n",
    "from qiskit_aer import Aer\n",
    "sim = Aer.get_backend('aer_simulator')\n",
    "%matplotlib inline\n",
    "from numpy import pi\n",
    "my_add_circuit = QuantumCircuit(7,2)\n",
    "my_add_circuit.draw(initial_state=0)\n",
    "\n",
    "my_add_circuit.x(0)\n",
    "my_add_circuit.x(1)\n",
    "my_add_circuit.x(2)\n",
    "my_add_circuit.barrier()\n",
    "my_add_circuit.draw()\n",
    "\n",
    "my_add_circuit.cx(0,3)\n",
    "my_add_circuit.cx(1,3)\n",
    "my_add_circuit.ccx(0,1,4)\n",
    "\n",
    "my_add_circuit.barrier()\n",
    "\n",
    "my_add_circuit.cx(2,5)\n",
    "my_add_circuit.cx(3,5)\n",
    "my_add_circuit.ccx(2,4,6)\n",
    "\n",
    "my_add_circuit.barrier()\n",
    "\n",
    "my_add_circuit.measure(5,0)\n",
    "my_add_circuit.measure(6,1)\n",
    "\n",
    "my_add_circuit.draw()\n",
    "\n",
    "result3 = sim.run(my_add_circuit).result()\n",
    "counts3 = result3.get_counts()\n",
    "plot_histogram(counts3)"
   ]
  },
  {
   "cell_type": "code",
   "execution_count": 9,
   "id": "a881881a-a578-484d-aa52-feabc9fab99d",
   "metadata": {},
   "outputs": [],
   "source": [
    "from numpy import pi"
   ]
  },
  {
   "cell_type": "code",
   "execution_count": 2,
   "id": "75600b39-8c70-449d-a877-5433e0eef7a4",
   "metadata": {},
   "outputs": [
    {
     "data": {
      "text/html": [
       "<pre style=\"word-wrap: normal;white-space: pre;background: #fff0;line-height: 1.1;font-family: &quot;Courier New&quot;,Courier,monospace\">     ┌───┐ ░                 ░                 ░       \n",
       "q_0: ┤ X ├─░───■─────────■───░─────────────────░───────\n",
       "     ├───┤ ░   │         │   ░                 ░       \n",
       "q_1: ┤ X ├─░───┼────■────■───░─────────────────░───────\n",
       "     ├───┤ ░   │    │    │   ░                 ░       \n",
       "q_2: ┤ X ├─░───┼────┼────┼───░───■─────────■───░───────\n",
       "     └───┘ ░ ┌─┴─┐┌─┴─┐  │   ░   │         │   ░       \n",
       "q_3: ──────░─┤ X ├┤ X ├──┼───░───┼────■────┼───░───────\n",
       "           ░ └───┘└───┘┌─┴─┐ ░   │    │    │   ░       \n",
       "q_4: ──────░───────────┤ X ├─░───┼────┼────■───░───────\n",
       "           ░           └───┘ ░ ┌─┴─┐┌─┴─┐  │   ░ ┌─┐   \n",
       "q_5: ──────░─────────────────░─┤ X ├┤ X ├──┼───░─┤M├───\n",
       "           ░                 ░ └───┘└───┘┌─┴─┐ ░ └╥┘┌─┐\n",
       "q_6: ──────░─────────────────░───────────┤ X ├─░──╫─┤M├\n",
       "           ░                 ░           └───┘ ░  ║ └╥┘\n",
       "c: 2/═════════════════════════════════════════════╩══╩═\n",
       "                                                  0  1 </pre>"
      ],
      "text/plain": [
       "     ┌───┐ ░                 ░                 ░       \n",
       "q_0: ┤ X ├─░───■─────────■───░─────────────────░───────\n",
       "     ├───┤ ░   │         │   ░                 ░       \n",
       "q_1: ┤ X ├─░───┼────■────■───░─────────────────░───────\n",
       "     ├───┤ ░   │    │    │   ░                 ░       \n",
       "q_2: ┤ X ├─░───┼────┼────┼───░───■─────────■───░───────\n",
       "     └───┘ ░ ┌─┴─┐┌─┴─┐  │   ░   │         │   ░       \n",
       "q_3: ──────░─┤ X ├┤ X ├──┼───░───┼────■────┼───░───────\n",
       "           ░ └───┘└───┘┌─┴─┐ ░   │    │    │   ░       \n",
       "q_4: ──────░───────────┤ X ├─░───┼────┼────■───░───────\n",
       "           ░           └───┘ ░ ┌─┴─┐┌─┴─┐  │   ░ ┌─┐   \n",
       "q_5: ──────░─────────────────░─┤ X ├┤ X ├──┼───░─┤M├───\n",
       "           ░                 ░ └───┘└───┘┌─┴─┐ ░ └╥┘┌─┐\n",
       "q_6: ──────░─────────────────░───────────┤ X ├─░──╫─┤M├\n",
       "           ░                 ░           └───┘ ░  ║ └╥┘\n",
       "c: 2/═════════════════════════════════════════════╩══╩═\n",
       "                                                  0  1 "
      ]
     },
     "execution_count": 2,
     "metadata": {},
     "output_type": "execute_result"
    }
   ],
   "source": [
    "my_add_circuit.draw()"
   ]
  },
  {
   "cell_type": "code",
   "execution_count": 11,
   "id": "c59e6788-f7c2-44a1-a56d-9be7155d45cf",
   "metadata": {},
   "outputs": [
    {
     "ename": "QiskitError",
     "evalue": "'No statevector for experiment \"None\"'",
     "output_type": "error",
     "traceback": [
      "\u001b[0;31m---------------------------------------------------------------------------\u001b[0m",
      "\u001b[0;31mKeyError\u001b[0m                                  Traceback (most recent call last)",
      "File \u001b[0;32m~/.local/lib/python3.10/site-packages/qiskit/result/result.py:314\u001b[0m, in \u001b[0;36mResult.get_statevector\u001b[0;34m(self, experiment, decimals)\u001b[0m\n\u001b[1;32m    312\u001b[0m \u001b[38;5;28;01mtry\u001b[39;00m:\n\u001b[1;32m    313\u001b[0m     \u001b[38;5;28;01mreturn\u001b[39;00m postprocess\u001b[38;5;241m.\u001b[39mformat_statevector(\n\u001b[0;32m--> 314\u001b[0m         \u001b[38;5;28;43mself\u001b[39;49m\u001b[38;5;241;43m.\u001b[39;49m\u001b[43mdata\u001b[49m\u001b[43m(\u001b[49m\u001b[43mexperiment\u001b[49m\u001b[43m)\u001b[49m\u001b[43m[\u001b[49m\u001b[38;5;124;43m\"\u001b[39;49m\u001b[38;5;124;43mstatevector\u001b[39;49m\u001b[38;5;124;43m\"\u001b[39;49m\u001b[43m]\u001b[49m, decimals\u001b[38;5;241m=\u001b[39mdecimals\n\u001b[1;32m    315\u001b[0m     )\n\u001b[1;32m    316\u001b[0m \u001b[38;5;28;01mexcept\u001b[39;00m \u001b[38;5;167;01mKeyError\u001b[39;00m \u001b[38;5;28;01mas\u001b[39;00m ex:\n",
      "\u001b[0;31mKeyError\u001b[0m: 'statevector'",
      "\nThe above exception was the direct cause of the following exception:\n",
      "\u001b[0;31mQiskitError\u001b[0m                               Traceback (most recent call last)",
      "Cell \u001b[0;32mIn[11], line 1\u001b[0m\n\u001b[0;32m----> 1\u001b[0m state\u001b[38;5;241m=\u001b[39m\u001b[43mresult3\u001b[49m\u001b[38;5;241;43m.\u001b[39;49m\u001b[43mget_statevector\u001b[49m\u001b[43m(\u001b[49m\u001b[43m)\u001b[49m\n\u001b[1;32m      2\u001b[0m plot_bloch_multivector(state)\n",
      "File \u001b[0;32m~/.local/lib/python3.10/site-packages/qiskit/result/result.py:317\u001b[0m, in \u001b[0;36mResult.get_statevector\u001b[0;34m(self, experiment, decimals)\u001b[0m\n\u001b[1;32m    313\u001b[0m     \u001b[38;5;28;01mreturn\u001b[39;00m postprocess\u001b[38;5;241m.\u001b[39mformat_statevector(\n\u001b[1;32m    314\u001b[0m         \u001b[38;5;28mself\u001b[39m\u001b[38;5;241m.\u001b[39mdata(experiment)[\u001b[38;5;124m\"\u001b[39m\u001b[38;5;124mstatevector\u001b[39m\u001b[38;5;124m\"\u001b[39m], decimals\u001b[38;5;241m=\u001b[39mdecimals\n\u001b[1;32m    315\u001b[0m     )\n\u001b[1;32m    316\u001b[0m \u001b[38;5;28;01mexcept\u001b[39;00m \u001b[38;5;167;01mKeyError\u001b[39;00m \u001b[38;5;28;01mas\u001b[39;00m ex:\n\u001b[0;32m--> 317\u001b[0m     \u001b[38;5;28;01mraise\u001b[39;00m QiskitError(\u001b[38;5;124mf\u001b[39m\u001b[38;5;124m'\u001b[39m\u001b[38;5;124mNo statevector for experiment \u001b[39m\u001b[38;5;124m\"\u001b[39m\u001b[38;5;132;01m{\u001b[39;00m\u001b[38;5;28mrepr\u001b[39m(experiment)\u001b[38;5;132;01m}\u001b[39;00m\u001b[38;5;124m\"\u001b[39m\u001b[38;5;124m'\u001b[39m) \u001b[38;5;28;01mfrom\u001b[39;00m \u001b[38;5;21;01mex\u001b[39;00m\n",
      "\u001b[0;31mQiskitError\u001b[0m: 'No statevector for experiment \"None\"'"
     ]
    }
   ],
   "source": [
    "state=result3.get_statevector()\n",
    "plot_bloch_multivector(state)"
   ]
  },
  {
   "cell_type": "code",
   "execution_count": 10,
   "id": "f4bf2ab3-2bd7-47d3-a151-ebbf84378b37",
   "metadata": {},
   "outputs": [
    {
     "ename": "QiskitError",
     "evalue": "'Result for experiment \"5\" could not be found.'",
     "output_type": "error",
     "traceback": [
      "\u001b[0;31m---------------------------------------------------------------------------\u001b[0m",
      "\u001b[0;31mIndexError\u001b[0m                                Traceback (most recent call last)",
      "File \u001b[0;32m~/.local/lib/python3.10/site-packages/qiskit/result/result.py:368\u001b[0m, in \u001b[0;36mResult._get_experiment\u001b[0;34m(self, key)\u001b[0m\n\u001b[1;32m    367\u001b[0m \u001b[38;5;28;01mtry\u001b[39;00m:\n\u001b[0;32m--> 368\u001b[0m     exp \u001b[38;5;241m=\u001b[39m \u001b[38;5;28;43mself\u001b[39;49m\u001b[38;5;241;43m.\u001b[39;49m\u001b[43mresults\u001b[49m\u001b[43m[\u001b[49m\u001b[43mkey\u001b[49m\u001b[43m]\u001b[49m\n\u001b[1;32m    369\u001b[0m \u001b[38;5;28;01mexcept\u001b[39;00m \u001b[38;5;167;01mIndexError\u001b[39;00m \u001b[38;5;28;01mas\u001b[39;00m ex:\n",
      "\u001b[0;31mIndexError\u001b[0m: list index out of range",
      "\nThe above exception was the direct cause of the following exception:\n",
      "\u001b[0;31mQiskitError\u001b[0m                               Traceback (most recent call last)",
      "Cell \u001b[0;32mIn[10], line 2\u001b[0m\n\u001b[1;32m      1\u001b[0m result4 \u001b[38;5;241m=\u001b[39m sim\u001b[38;5;241m.\u001b[39mrun(my_add_circuit)\u001b[38;5;241m.\u001b[39mresult(\u001b[38;5;241m5\u001b[39m)\n\u001b[0;32m----> 2\u001b[0m counts4 \u001b[38;5;241m=\u001b[39m \u001b[43mresult4\u001b[49m\u001b[38;5;241;43m.\u001b[39;49m\u001b[43mget_counts\u001b[49m\u001b[43m(\u001b[49m\u001b[38;5;241;43m5\u001b[39;49m\u001b[43m)\u001b[49m\n\u001b[1;32m      3\u001b[0m plot_histogram(counts4)\n",
      "File \u001b[0;32m~/.local/lib/python3.10/site-packages/qiskit/result/result.py:269\u001b[0m, in \u001b[0;36mResult.get_counts\u001b[0;34m(self, experiment)\u001b[0m\n\u001b[1;32m    267\u001b[0m dict_list \u001b[38;5;241m=\u001b[39m []\n\u001b[1;32m    268\u001b[0m \u001b[38;5;28;01mfor\u001b[39;00m key \u001b[38;5;129;01min\u001b[39;00m exp_keys:\n\u001b[0;32m--> 269\u001b[0m     exp \u001b[38;5;241m=\u001b[39m \u001b[38;5;28;43mself\u001b[39;49m\u001b[38;5;241;43m.\u001b[39;49m\u001b[43m_get_experiment\u001b[49m\u001b[43m(\u001b[49m\u001b[43mkey\u001b[49m\u001b[43m)\u001b[49m\n\u001b[1;32m    270\u001b[0m     \u001b[38;5;28;01mtry\u001b[39;00m:\n\u001b[1;32m    271\u001b[0m         header \u001b[38;5;241m=\u001b[39m exp\u001b[38;5;241m.\u001b[39mheader\u001b[38;5;241m.\u001b[39mto_dict()\n",
      "File \u001b[0;32m~/.local/lib/python3.10/site-packages/qiskit/result/result.py:370\u001b[0m, in \u001b[0;36mResult._get_experiment\u001b[0;34m(self, key)\u001b[0m\n\u001b[1;32m    368\u001b[0m         exp \u001b[38;5;241m=\u001b[39m \u001b[38;5;28mself\u001b[39m\u001b[38;5;241m.\u001b[39mresults[key]\n\u001b[1;32m    369\u001b[0m     \u001b[38;5;28;01mexcept\u001b[39;00m \u001b[38;5;167;01mIndexError\u001b[39;00m \u001b[38;5;28;01mas\u001b[39;00m ex:\n\u001b[0;32m--> 370\u001b[0m         \u001b[38;5;28;01mraise\u001b[39;00m QiskitError(\u001b[38;5;124mf\u001b[39m\u001b[38;5;124m'\u001b[39m\u001b[38;5;124mResult for experiment \u001b[39m\u001b[38;5;124m\"\u001b[39m\u001b[38;5;132;01m{\u001b[39;00mkey\u001b[38;5;132;01m}\u001b[39;00m\u001b[38;5;124m\"\u001b[39m\u001b[38;5;124m could not be found.\u001b[39m\u001b[38;5;124m'\u001b[39m) \u001b[38;5;28;01mfrom\u001b[39;00m \u001b[38;5;21;01mex\u001b[39;00m\n\u001b[1;32m    371\u001b[0m \u001b[38;5;28;01melse\u001b[39;00m:\n\u001b[1;32m    372\u001b[0m     \u001b[38;5;66;03m# Look into `result[x].header.name` for the names.\u001b[39;00m\n\u001b[1;32m    373\u001b[0m     exp \u001b[38;5;241m=\u001b[39m [\n\u001b[1;32m    374\u001b[0m         result\n\u001b[1;32m    375\u001b[0m         \u001b[38;5;28;01mfor\u001b[39;00m result \u001b[38;5;129;01min\u001b[39;00m \u001b[38;5;28mself\u001b[39m\u001b[38;5;241m.\u001b[39mresults\n\u001b[1;32m    376\u001b[0m         \u001b[38;5;28;01mif\u001b[39;00m \u001b[38;5;28mgetattr\u001b[39m(\u001b[38;5;28mgetattr\u001b[39m(result, \u001b[38;5;124m\"\u001b[39m\u001b[38;5;124mheader\u001b[39m\u001b[38;5;124m\"\u001b[39m, \u001b[38;5;28;01mNone\u001b[39;00m), \u001b[38;5;124m\"\u001b[39m\u001b[38;5;124mname\u001b[39m\u001b[38;5;124m\"\u001b[39m, \u001b[38;5;124m\"\u001b[39m\u001b[38;5;124m\"\u001b[39m) \u001b[38;5;241m==\u001b[39m key\n\u001b[1;32m    377\u001b[0m     ]\n",
      "\u001b[0;31mQiskitError\u001b[0m: 'Result for experiment \"5\" could not be found.'"
     ]
    }
   ],
   "source": [
    "result4 = sim.run(my_add_circuit).result(5)\n",
    "counts4 = result4.get_counts(5)\n",
    "plot_histogram(counts4)"
   ]
  },
  {
   "cell_type": "code",
   "execution_count": 15,
   "id": "051ce513-e3e4-4c3b-a5c4-3c6f599c4393",
   "metadata": {},
   "outputs": [
    {
     "data": {
      "image/png": "[encoded data removed]",
      "text/plain": [
       "<Figure size 700x500 with 1 Axes>"
      ]
     },
     "execution_count": 15,
     "metadata": {},
     "output_type": "execute_result"
    }
   ],
   "source": [
    "from qiskit import QuantumCircuit, assemble\n",
    "from qiskit.visualization import plot_histogram, plot_bloch_multivector\n",
    "from qiskit_aer import Aer\n",
    "sim = Aer.get_backend('aer_simulator')\n",
    "%matplotlib inline\n",
    "from numpy import pi\n",
    "my_add_circuit = QuantumCircuit(7,2)\n",
    "my_add_circuit.draw(initial_state=0)\n",
    "\n",
    "my_add_circuit.x(0)\n",
    "my_add_circuit.x(1)\n",
    "#my_add_circuit.x(2)\n",
    "my_add_circuit.barrier()\n",
    "my_add_circuit.draw()\n",
    "\n",
    "my_add_circuit.cx(0,3)\n",
    "my_add_circuit.cx(1,3)\n",
    "my_add_circuit.ccx(0,1,4)\n",
    "\n",
    "my_add_circuit.barrier()\n",
    "\n",
    "my_add_circuit.cx(2,5)\n",
    "my_add_circuit.cx(3,5)\n",
    "my_add_circuit.ccx(2,4,6)\n",
    "\n",
    "my_add_circuit.barrier()\n",
    "\n",
    "my_add_circuit.measure(5,0)\n",
    "my_add_circuit.measure(6,1)\n",
    "\n",
    "my_add_circuit.draw()\n",
    "\n",
    "result3 = sim.run(my_add_circuit).result()\n",
    "counts3 = result3.get_counts()\n",
    "plot_histogram(counts3)"
   ]
  }
 ],
 "metadata": {
  "kernelspec": {
   "display_name": "Python 3 (ipykernel)",
   "language": "python",
   "name": "python3"
  },
  "language_info": {
   "codemirror_mode": {
    "name": "ipython",
    "version": 3
   },
   "file_extension": ".py",
   "mimetype": "text/x-python",
   "name": "python",
   "nbconvert_exporter": "python",
   "pygments_lexer": "ipython3",
   "version": "3.12.7"
  }
 },
 "nbformat": 4,
 "nbformat_minor": 5
}
